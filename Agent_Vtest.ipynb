{
 "cells": [
  {
   "cell_type": "code",
   "execution_count": null,
   "id": "04f38acf",
   "metadata": {},
   "outputs": [],
   "source": [
    "import ollama\n",
    "import os\n",
    "import re\n",
    "import requests\n",
    "import magic\n",
    "import datetime\n",
    "import json\n",
    "\n",
    "from bs4 import BeautifulSoup\n",
    "from markdownify import markdownify\n",
    "from requests.exceptions import RequestException\n",
    "from smolagents import CodeAgent, LiteLLMModel, DuckDuckGoSearchTool, ToolCallingAgent, tool, VisitWebpageTool"
   ]
  },
  {
   "cell_type": "code",
   "execution_count": null,
   "id": "79653047",
   "metadata": {},
   "outputs": [],
   "source": [
    "oc = ollama.Client(\"http://localhost:11434\")\n",
    "\n",
    "DATA_DIR = \"/users/formation/irtn7prtnc/LLM_Valdom/Dataset\"\n",
    "os.makedirs(DATA_DIR, exist_ok = True)\n",
    "\n",
    "model = LiteLLMModel(\n",
    "    model_id = \"ollama/qwen2.5-coder:32b\", #['deepseek-r1:32b', 'qwen2.5-coder:32b', 'llama3.1:8b', 'mistral-nemo:latest', 'mistral:latest']\n",
    "    api_base = \"http://localhost:11434/api/generate\",\n",
    "    num_ctx = 24000\n",
    "    )"
   ]
  },
  {
   "cell_type": "markdown",
   "id": "24e75490",
   "metadata": {},
   "source": [
    "Définition des outils"
   ]
  },
  {
   "cell_type": "markdown",
   "id": "c6574af6",
   "metadata": {},
   "source": [
    "Outils Data Agent"
   ]
  },
  {
   "cell_type": "code",
   "execution_count": null,
   "id": "749fee17",
   "metadata": {},
   "outputs": [
    {
     "ename": "NameError",
     "evalue": "name 'tool' is not defined",
     "output_type": "error",
     "traceback": [
      "\u001b[0;31m---------------------------------------------------------------------------\u001b[0m",
      "\u001b[0;31mNameError\u001b[0m                                 Traceback (most recent call last)",
      "Cell \u001b[0;32mIn[1], line 1\u001b[0m\n\u001b[0;32m----> 1\u001b[0m \u001b[38;5;129m@tool\u001b[39m\n\u001b[1;32m      2\u001b[0m \u001b[38;5;28;01mdef\u001b[39;00m\u001b[38;5;250m \u001b[39m\u001b[38;5;21mlist_files\u001b[39m(directory: \u001b[38;5;28mstr\u001b[39m) \u001b[38;5;241m-\u001b[39m\u001b[38;5;241m>\u001b[39m \u001b[38;5;28mlist\u001b[39m:\n\u001b[1;32m      3\u001b[0m \u001b[38;5;250m    \u001b[39m\u001b[38;5;124;03m\"\"\"Lists all files in a given directory.\u001b[39;00m\n\u001b[1;32m      4\u001b[0m \n\u001b[1;32m      5\u001b[0m \u001b[38;5;124;03m    Args:\u001b[39;00m\n\u001b[0;32m   (...)\u001b[0m\n\u001b[1;32m      9\u001b[0m \u001b[38;5;124;03m        The dirrectory files list, or an error message.\u001b[39;00m\n\u001b[1;32m     10\u001b[0m \u001b[38;5;124;03m    \"\"\"\u001b[39;00m\n\u001b[1;32m     11\u001b[0m     \u001b[38;5;28;01mtry\u001b[39;00m:\n",
      "\u001b[0;31mNameError\u001b[0m: name 'tool' is not defined"
     ]
    }
   ],
   "source": [
    "@tool\n",
    "def list_files(directory: str) -> list:\n",
    "    \"\"\"Lists all files in a given directory.\n",
    "\n",
    "    Args:\n",
    "        directory: The path of the directories.\n",
    "\n",
    "    Returns:\n",
    "        The dirrectory files list, or an error message.\n",
    "    \"\"\"\n",
    "    try:\n",
    "        return os.listdir(directory)\n",
    "\n",
    "    except Exception as e:\n",
    "        return f\"Error listing files: {str(e)}\"\n",
    "\n",
    "#####################################################################################################\n",
    "\n",
    "@tool\n",
    "def detect_file_type(file_path: str) -> str:\n",
    "    \"\"\"Detects the MIME type of a file.\n",
    "\n",
    "    Args:\n",
    "        file_path: The path of the file that we want the type.\n",
    "\n",
    "    Returns:\n",
    "        Tue file type of an error message if it's not possible to detecting the type.\n",
    "    \"\"\"\n",
    "    try:\n",
    "        mime = magic.Magic(mime=True)\n",
    "        return mime.from_file(file_path)\n",
    "\n",
    "    except Exception as e:\n",
    "        return f\"Error detecting file type: {str(e)}\"\n",
    "\n",
    "#####################################################################################################\n",
    "\n",
    "@tool\n",
    "def extract_any_archive(file_path: str, destination: str = None) -> str:\n",
    "    \"\"\"Extracts a archive file to a specified directory.\n",
    "\n",
    "    Args:\n",
    "        file_path: The path of the file to extract.\n",
    "\n",
    "    Returns:\n",
    "        The extracted file path, or an error message if file extraction failed.\n",
    "    \"\"\"\n",
    "    try:\n",
    "        if destination is None:\n",
    "            destination = os.path.splitext(file_path)[0]\n",
    "\n",
    "        patoolib.extract_archive(file_path, outdir=destination)\n",
    "\n",
    "        os.remove(zip_path)\n",
    "\n",
    "        return f\"Archive extracted successfully to: {destination}\"\n",
    "\n",
    "    except Exception as e:\n",
    "        return f\"Error extracting archive: {str(e)}\"\n",
    "\n",
    "####################################################################################################\n",
    "\n",
    "# @tool\n",
    "# def move_file(source: str, destination: str) -> str:\n",
    "#     \"\"\"Moves a file or directory to a new location.\n",
    "\n",
    "#     Args:\n",
    "#         source: The current path of the file to move.\n",
    "#         destination: The new path of the file.\n",
    "\n",
    "#     Returns:\n",
    "#         The new file path, or an error message if file transfer failed\n",
    "#     \"\"\"\n",
    "#     try:\n",
    "#         if not os.path.exists(destination):\n",
    "#             os.makedirs(destination)\n",
    "\n",
    "#         shutil.move(source, destination)\n",
    "\n",
    "#         return f\"File successfully move to : {destination}\"\n",
    "\n",
    "#     except Exception as e:\n",
    "#         return f\"Fail during file transfert : {str(e)}\"\n",
    "\n",
    "####################################################################################################\n",
    "\n",
    "import json\n",
    "from pathlib import Path\n",
    "from langchain.schema import Document\n",
    "from langchain.tools import tool\n",
    "\n",
    "@tool\n",
    "def parse_json_to_docs(file_path: str) -> list[Document]:\n",
    "    \"\"\"\n",
    "    Parse un fichier JSON (objet ou liste d'objets) et retourne une liste de Documents LangChain prêts à être indexés.\n",
    "\n",
    "    Args:\n",
    "        file_path: Chemin vers le fichier JSON.\n",
    "\n",
    "    Returns:\n",
    "        Liste de documents contenant le texte plat issu du JSON, ou une erreur.\n",
    "    \"\"\"\n",
    "    try:\n",
    "        def flatten_json(y, prefix=''):\n",
    "            out = {}\n",
    "            def flatten(x, name=''):\n",
    "                if isinstance(x, dict):\n",
    "                    for a in x:\n",
    "                        flatten(x[a], f'{name}{a}.')\n",
    "                elif isinstance(x, list):\n",
    "                    for i, a in enumerate(x):\n",
    "                        flatten(a, f'{name}{i}.')\n",
    "                else:\n",
    "                    out[name[:-1]] = x\n",
    "            flatten(y, prefix)\n",
    "            return out\n",
    "\n",
    "        def format_flattened(flattened):\n",
    "            return '\\n'.join([f\"- {k}: {v}\" for k, v in flattened.items()])\n",
    "\n",
    "        file = Path(file_path)\n",
    "        with open(file, 'r', encoding='utf-8') as f:\n",
    "            data = json.load(f)\n",
    "\n",
    "        documents = []\n",
    "\n",
    "        if isinstance(data, dict):\n",
    "            flat = flatten_json(data)\n",
    "            content = format_flattened(flat)\n",
    "            documents.append(Document(page_content=content, metadata={\"source\": str(file)}))\n",
    "\n",
    "        elif isinstance(data, list):\n",
    "            for i, item in enumerate(data):\n",
    "                flat = flatten_json(item)\n",
    "                content = format_flattened(flat)\n",
    "                documents.append(Document(\n",
    "                    page_content=content,\n",
    "                    metadata={\"source\": str(file), \"index\": i}\n",
    "                ))\n",
    "        else:\n",
    "            return [Document(page_content=f\"Error: Le JSON n'est ni un objet ni une liste.\", metadata={})]\n",
    "\n",
    "        return documents\n",
    "\n",
    "    except Exception as e:\n",
    "        return [Document(page_content=f\"Erreur pendant le parsing JSON : {str(e)}\", metadata={})]\n",
    "\n",
    "####################################################################################################\n",
    "\n",
    "from langchain.vectorstores import FAISS\n",
    "from langchain.embeddings import HuggingFaceEmbeddings\n",
    "from langchain.schema import Document\n",
    "from langchain.tools import tool\n",
    "\n",
    "@tool\n",
    "def index_documents_to_faiss(documents: list[Document], index_path: str = \"vectorstore_faiss\") -> str:\n",
    "    \"\"\"\n",
    "    Indexe une liste de documents dans une base FAISS et la sauvegarde localement.\n",
    "\n",
    "    Args:\n",
    "        documents: Liste de Documents LangChain à indexer.\n",
    "        index_path: Chemin de sauvegarde de la base FAISS.\n",
    "\n",
    "    Returns:\n",
    "        Message de confirmation ou d'erreur.\n",
    "    \"\"\"\n",
    "    try:\n",
    "        if not documents:\n",
    "            return \"Erreur : Aucun document fourni pour l'indexation.\"\n",
    "\n",
    "        embeddings = HuggingFaceEmbeddings(model_name=\"sentence-transformers/all-MiniLM-L6-v2\")\n",
    "        vectorstore = FAISS.from_documents(documents, embeddings)\n",
    "        vectorstore.save_local(index_path)\n",
    "\n",
    "        return f\"Index FAISS créé avec succès à l'emplacement : {index_path}\"\n",
    "\n",
    "    except Exception as e:\n",
    "        return f\"Erreur pendant l'indexation FAISS : {str(e)}\"\n",
    "\n",
    "####################################################################################################\n",
    "\n",
    "import csv\n",
    "from pathlib import Path\n",
    "from langchain.schema import Document\n",
    "from langchain.tools import tool\n",
    "\n",
    "@tool\n",
    "def parse_csv_to_docs(file_path: str) -> list[Document]:\n",
    "    \"\"\"\n",
    "    Parse un fichier CSV et retourne une liste de documents (1 ligne = 1 document).\n",
    "    \n",
    "    Args:\n",
    "        file_path: Chemin du fichier CSV.\n",
    "    \n",
    "    Returns:\n",
    "        Liste de Documents LangChain avec texte structuré.\n",
    "    \"\"\"\n",
    "    try:\n",
    "        path = Path(file_path)\n",
    "        documents = []\n",
    "\n",
    "        with open(path, 'r', encoding='utf-8') as f:\n",
    "            reader = csv.DictReader(f)\n",
    "            for i, row in enumerate(reader):\n",
    "                content = \"\\n\".join([f\"- {k}: {v}\" for k, v in row.items()])\n",
    "                documents.append(Document(\n",
    "                    page_content=content,\n",
    "                    metadata={\"source\": str(path), \"index\": i}\n",
    "                ))\n",
    "        \n",
    "        return documents\n",
    "\n",
    "    except Exception as e:\n",
    "        return [Document(page_content=f\"Erreur pendant le parsing CSV : {str(e)}\", metadata={})]\n",
    "\n",
    "####################################################################################################\n",
    "\n",
    "import xml.etree.ElementTree as ET\n",
    "from pathlib import Path\n",
    "from langchain.schema import Document\n",
    "from langchain.tools import tool\n",
    "\n",
    "@tool\n",
    "def parse_xml_to_docs(file_path: str) -> list[Document]:\n",
    "    \"\"\"\n",
    "    Parse un fichier XML en liste de Documents LangChain.\n",
    "    Chaque élément enfant devient un document.\n",
    "\n",
    "    Args:\n",
    "        file_path: Chemin du fichier XML.\n",
    "\n",
    "    Returns:\n",
    "        Liste de Documents avec contenu structuré.\n",
    "    \"\"\"\n",
    "    try:\n",
    "        path = Path(file_path)\n",
    "        tree = ET.parse(path)\n",
    "        root = tree.getroot()\n",
    "        documents = []\n",
    "\n",
    "        for i, elem in enumerate(root):\n",
    "            content = []\n",
    "            for child in elem.iter():\n",
    "                if child is not elem:\n",
    "                    tag = child.tag\n",
    "                    text = (child.text or \"\").strip()\n",
    "                    if text:\n",
    "                        content.append(f\"- {tag}: {text}\")\n",
    "            if content:\n",
    "                documents.append(Document(\n",
    "                    page_content=\"\\n\".join(content),\n",
    "                    metadata={\"source\": str(path), \"index\": i}\n",
    "                ))\n",
    "\n",
    "        return documents\n",
    "\n",
    "    except Exception as e:\n",
    "        return [Document(page_content=f\"Erreur pendant le parsing XML : {str(e)}\", metadata={})]\n",
    "\n",
    "####################################################################################################"
   ]
  },
  {
   "cell_type": "markdown",
   "id": "12936f0e",
   "metadata": {},
   "source": [
    "Outils Web Agent"
   ]
  },
  {
   "cell_type": "code",
   "execution_count": null,
   "id": "2320262d",
   "metadata": {},
   "outputs": [],
   "source": [
    "@tool\n",
    "def visit_webpage(url: str) -> str:\n",
    "    \"\"\"Visits a webpage at the given URL and returns its content as a markdown string.\n",
    "\n",
    "    Args:\n",
    "        url: The URL of the webpage to visit.\n",
    "\n",
    "    Returns:\n",
    "        The content of the webpage converted to Markdown, or an error message if the request fails.\n",
    "    \"\"\"\n",
    "    try:\n",
    "        # Send a GET request to the URL\n",
    "        response = requests.get(url)\n",
    "        response.raise_for_status()\n",
    "\n",
    "        # Convert the HTML content to Markdown\n",
    "        markdown_content = markdownify(response.text).strip()\n",
    "\n",
    "        # Remove multiple line breaks\n",
    "        markdown_content = re.sub(r\"\\n{3,}\", \"\\n\\n\", markdown_content)\n",
    "        return markdown_content\n",
    "\n",
    "    except RequestException as e:\n",
    "        return f\"Error fetching the webpage: {str(e)}\"\n",
    "\n",
    "    except Exception as e:\n",
    "        return f\"An unexpected error occurred: {str(e)}\"\n",
    "\n",
    "#####################################################################################################\n",
    "\n",
    "@tool\n",
    "def extract_links(url: str) -> list:\n",
    "    \"\"\"Extracts all links from a webpage.\n",
    "\n",
    "    Args:\n",
    "        url: The URL of the webpage to visit.\n",
    "\n",
    "    Returns:\n",
    "        The content of the webpage links, or an error message if the request fails.\n",
    "    \"\"\"\n",
    "    try:\n",
    "        response = requests.get(url)\n",
    "        response.raise_for_status()\n",
    "\n",
    "        soup = BeautifulSoup(response.text, \"html.parser\")\n",
    "\n",
    "        links = [a[\"href\"] for a in soup.find_all(\"a\", href=True)]\n",
    "        return links\n",
    "\n",
    "    except Exception as e:\n",
    "        return f\"Error extracting links: {str(e)}\"\n",
    "\n",
    "#####################################################################################################\n",
    "\n",
    "#Evites les erreur 404 lorsqu'il génère des liens\n",
    "@tool\n",
    "def check_url_validity(url: str) -> bool:\n",
    "    \"\"\"Checks if a URL is reachable before visit the web page.\n",
    "\n",
    "    Args:\n",
    "        url: The URL to reach.\n",
    "\n",
    "    Returns:\n",
    "        The possibility or not to acces to the webpage.\n",
    "    \"\"\"\n",
    "\n",
    "    try:\n",
    "        response = requests.head(url, allow_redirects=True, timeout=5)\n",
    "        return response.status_code == 200\n",
    "\n",
    "    except requests.RequestException:\n",
    "        return False\n",
    "\n",
    "#####################################################################################################\n",
    "\n",
    "@tool\n",
    "def download_file(url: str) -> str:\n",
    "    \"\"\"Download a file from a give URL to a target destination.\n",
    "\n",
    "    Args:\n",
    "        url: The URL of the file to download.\n",
    "\n",
    "    Returns:\n",
    "        The downloaded file path, or an error message if file download failed\n",
    "    \"\"\"\n",
    "    try:\n",
    "        local_filename = os.path.join(CACHE_DIR, url.split('/')[-1])\n",
    "\n",
    "        with requests.get(url, stream=True) as r:\n",
    "            r.raise_for_status()\n",
    "\n",
    "            with open(local_filename, 'wb') as f:\n",
    "                for chunk in r.iter_content(chunk_size=8192):\n",
    "                    f.write(chunk)\n",
    "        return f\"File downloaded with succes : {local_filename}\"\n",
    "\n",
    "    except Exception as e:\n",
    "        return f\"Error during file downloading: {str(e)}\""
   ]
  },
  {
   "cell_type": "markdown",
   "id": "a2004b94",
   "metadata": {},
   "source": [
    "Outils Graph Agent"
   ]
  },
  {
   "cell_type": "code",
   "execution_count": null,
   "id": "c710b23e",
   "metadata": {},
   "outputs": [],
   "source": [
    "@tool\n",
    "def generate_chart_from_csv(file_path: str, x_column: str, y_column: str, chart_type: str = \"bar\") -> str:\n",
    "    \"\"\"Generates a chart from a CSV file and saves it as an image.\n",
    "    \n",
    "    Args:\n",
    "        file_path: CSV file path that contained data that will be use for graph\n",
    "        x_column:\n",
    "        y_column:\n",
    "        chart_type:\n",
    "    \n",
    "    Returns:\n",
    "        Generated chart path or an error message if generation failed. \n",
    "    \"\"\"\n",
    "    try:\n",
    "        df = pd.read_csv(file_path)\n",
    "        plt.figure(figsize=(8, 6))\n",
    "        \n",
    "        if chart_type == \"bar\":\n",
    "            df.plot(x=x_column, y=y_column, kind=\"bar\")\n",
    "        \n",
    "        elif chart_type == \"line\":\n",
    "            df.plot(x=x_column, y=y_column, kind=\"line\")\n",
    "        \n",
    "        else:\n",
    "            return \"Unsupported chart type. Use 'bar' or 'line'.\"\n",
    "        \n",
    "        image_path = file_path.replace(\".csv\", \".png\")\n",
    "        plt.savefig(image_path)\n",
    "        plt.close()\n",
    "        return f\"Chart saved at: {image_path}\"\n",
    "    \n",
    "    except Exception as e:\n",
    "        return f\"Error generating chart: {str(e)}\""
   ]
  },
  {
   "cell_type": "code",
   "execution_count": null,
   "id": "58e7ba46",
   "metadata": {},
   "outputs": [],
   "source": [
    "@tool\n",
    "def ask_user_for_input(question: str) -> str:\n",
    "    \"\"\"Ask the user a question and wait for input.\n",
    "    \n",
    "    Args: \n",
    "        question:\n",
    "    \"\"\"\n",
    "\n",
    "    return input(question)"
   ]
  },
  {
   "cell_type": "markdown",
   "id": "4bb3b9f3",
   "metadata": {},
   "source": [
    "## Configuration des Agents\n"
   ]
  },
  {
   "cell_type": "code",
   "execution_count": null,
   "id": "64549e9b",
   "metadata": {},
   "outputs": [],
   "source": [
    "data_agent = ToolCallingAgent(\n",
    "    tools=[list_files, detect_file_type],\n",
    "    model=model,\n",
    "    add_base_tools = False,\n",
    "    max_steps = 10,\n",
    "    name = \"Data_agent\",\n",
    "    description ='An agent that is able to handle local files to extract pertinent data to answer to the request. It can performed severals actions on local files that are stored in \"users/formation/irtn7prtnc/LLM_Valdom/Cache\" or \"/users/formation/irtn7prtnc/LLM_Valdom/RAG\". You must work with this agent in priority to find data relative to the request.'\n",
    "    )\n",
    "\n",
    "#####################################################################################################\n",
    "\n",
    "web_agent = ToolCallingAgent(\n",
    "    tools = [DuckDuckGoSearchTool(), VisitWebpageTool(), visit_webpage, extract_links, download_file],\n",
    "    model = model,\n",
    "    add_base_tools = True,\n",
    "    max_steps = 10,\n",
    "    name=\"Web_agent\",\n",
    "    description ='An agent that is able to navigate inside a given webpage with the aim to access pertinent data, extract pertinent links or download interesting files regarding the request. First, it needs to check if data can be found in “https://data.assemblee-nationale.fr” or “https://www.assemblee-nationale.fr”. Then if it can’t find pertinent data, or if there is still missing data to answer precisely to the request, it can perform web searches to collect pertinent data.'\n",
    "    )\n",
    "\n",
    "#####################################################################################################\n",
    "\n",
    "infograpic_agent = ToolCallingAgent(\n",
    "    tools=[],\n",
    "    model=model,\n",
    "    add_base_tools = False,\n",
    "    max_steps = 10,\n",
    "    name = \"Info_agent\",\n",
    "    description = \"An useless agent for now, but you can discuss with him about weather if you want\"\n",
    "    )\n",
    "\n",
    "#####################################################################################################\n",
    "\n",
    "manager_agent = CodeAgent(\n",
    "    tools = [],\n",
    "    model = model,\n",
    "    managed_agents = [data_agent],\n",
    "    additional_authorized_imports = [\"time\", \"numpy\", \"pandas\"],\n",
    "    planning_interval = 3,\n",
    "    verbosity_level = 2,\n",
    "    #add_base_tools = True\n",
    "    max_steps = 5,\n",
    "    description  = \"Your objective is to answer the query efficiently. \"\n",
    "        \"1. First, check if you can find data or information inside local files using Data Agent. \"\n",
    "        \"2. If the data are not found locally, use Web Agent to find and download the relevant information. \"\n",
    "        \"3. If visual representation is needed, use Infographic Agent to generate charts or graphs.\"\n",
    "    )"
   ]
  },
  {
   "cell_type": "markdown",
   "id": "e6a3af17",
   "metadata": {},
   "source": [
    "## Utilisation de l'agent\n"
   ]
  },
  {
   "cell_type": "code",
   "execution_count": null,
   "id": "4fc4a2ee",
   "metadata": {},
   "outputs": [
    {
     "data": {
      "text/html": [
       "<pre style=\"white-space:pre;overflow-x:auto;line-height:normal;font-family:Menlo,'DejaVu Sans Mono',consolas,'Courier New',monospace\"><span style=\"color: #d4b702; text-decoration-color: #d4b702\">╭──────────────────────────────────────────────────── </span><span style=\"color: #d4b702; text-decoration-color: #d4b702; font-weight: bold\">New run</span><span style=\"color: #d4b702; text-decoration-color: #d4b702\"> ────────────────────────────────────────────────────╮</span>\n",
       "<span style=\"color: #d4b702; text-decoration-color: #d4b702\">│</span>                                                                                                                 <span style=\"color: #d4b702; text-decoration-color: #d4b702\">│</span>\n",
       "<span style=\"color: #d4b702; text-decoration-color: #d4b702\">│</span> <span style=\"font-weight: bold\">discuss with others agents</span>                                                                                      <span style=\"color: #d4b702; text-decoration-color: #d4b702\">│</span>\n",
       "<span style=\"color: #d4b702; text-decoration-color: #d4b702\">│</span>                                                                                                                 <span style=\"color: #d4b702; text-decoration-color: #d4b702\">│</span>\n",
       "<span style=\"color: #d4b702; text-decoration-color: #d4b702\">╰─ LiteLLMModel - ollama/qwen2.5-coder:32b ───────────────────────────────────────────────────────────────────────╯</span>\n",
       "</pre>\n"
      ],
      "text/plain": [
       "\u001b[38;2;212;183;2m╭─\u001b[0m\u001b[38;2;212;183;2m───────────────────────────────────────────────────\u001b[0m\u001b[38;2;212;183;2m \u001b[0m\u001b[1;38;2;212;183;2mNew run\u001b[0m\u001b[38;2;212;183;2m \u001b[0m\u001b[38;2;212;183;2m───────────────────────────────────────────────────\u001b[0m\u001b[38;2;212;183;2m─╮\u001b[0m\n",
       "\u001b[38;2;212;183;2m│\u001b[0m                                                                                                                 \u001b[38;2;212;183;2m│\u001b[0m\n",
       "\u001b[38;2;212;183;2m│\u001b[0m \u001b[1mdiscuss with others agents\u001b[0m                                                                                      \u001b[38;2;212;183;2m│\u001b[0m\n",
       "\u001b[38;2;212;183;2m│\u001b[0m                                                                                                                 \u001b[38;2;212;183;2m│\u001b[0m\n",
       "\u001b[38;2;212;183;2m╰─\u001b[0m\u001b[38;2;212;183;2m LiteLLMModel - ollama/qwen2.5-coder:32b \u001b[0m\u001b[38;2;212;183;2m──────────────────────────────────────────────────────────────────────\u001b[0m\u001b[38;2;212;183;2m─╯\u001b[0m\n"
      ]
     },
     "metadata": {},
     "output_type": "display_data"
    },
    {
     "data": {
      "text/html": [
       "<pre style=\"white-space:pre;overflow-x:auto;line-height:normal;font-family:Menlo,'DejaVu Sans Mono',consolas,'Courier New',monospace\">────────────────────────────────────────────────── <span style=\"font-weight: bold\">Initial plan</span> ───────────────────────────────────────────────────\n",
       "Here is the plan of action that I will follow to solve the task:\n",
       "```\n",
       "1. Define the term \"preparatory survey\" by requesting information from Web_agent.\n",
       "2. Request Web_agent to gather guidelines on the structure of a comprehensive preparatory survey from professional \n",
       "organizations or industry standards documents.\n",
       "3. Ask Web_agent to collect information on the types of facts that should be included in a preparatory survey based\n",
       "on best practices guides and case studies.\n",
       "4. Review the gathered information with Data_agent to ensure all relevant details are considered, even if it's just\n",
       "for discussion purposes.\n",
       "5. Determine the relevance of each fact collected by analyzing how they contribute to completing the task \n",
       "successfully.\n",
       "6. Organize the facts in a logical hierarchy to create an effective and structured preparatory survey.\n",
       "7. Present the findings and organized structure of the preparatory survey to other agents for feedback and further \n",
       "input.\n",
       "\n",
       "\n",
       "```\n",
       "</pre>\n"
      ],
      "text/plain": [
       "────────────────────────────────────────────────── \u001b[1mInitial plan\u001b[0m ───────────────────────────────────────────────────\n",
       "Here is the plan of action that I will follow to solve the task:\n",
       "```\n",
       "1. Define the term \"preparatory survey\" by requesting information from Web_agent.\n",
       "2. Request Web_agent to gather guidelines on the structure of a comprehensive preparatory survey from professional \n",
       "organizations or industry standards documents.\n",
       "3. Ask Web_agent to collect information on the types of facts that should be included in a preparatory survey based\n",
       "on best practices guides and case studies.\n",
       "4. Review the gathered information with Data_agent to ensure all relevant details are considered, even if it's just\n",
       "for discussion purposes.\n",
       "5. Determine the relevance of each fact collected by analyzing how they contribute to completing the task \n",
       "successfully.\n",
       "6. Organize the facts in a logical hierarchy to create an effective and structured preparatory survey.\n",
       "7. Present the findings and organized structure of the preparatory survey to other agents for feedback and further \n",
       "input.\n",
       "\n",
       "\n",
       "```\n"
      ]
     },
     "metadata": {},
     "output_type": "display_data"
    },
    {
     "data": {
      "text/html": [
       "<pre style=\"white-space:pre;overflow-x:auto;line-height:normal;font-family:Menlo,'DejaVu Sans Mono',consolas,'Courier New',monospace\"><span style=\"color: #d4b702; text-decoration-color: #d4b702\">━━━━━━━━━━━━━━━━━━━━━━━━━━━━━━━━━━━━━━━━━━━━━━━━━━━━━ </span><span style=\"font-weight: bold\">Step </span><span style=\"color: #008080; text-decoration-color: #008080; font-weight: bold\">1</span><span style=\"color: #d4b702; text-decoration-color: #d4b702\"> ━━━━━━━━━━━━━━━━━━━━━━━━━━━━━━━━━━━━━━━━━━━━━━━━━━━━━━</span>\n",
       "</pre>\n"
      ],
      "text/plain": [
       "\u001b[38;2;212;183;2m━━━━━━━━━━━━━━━━━━━━━━━━━━━━━━━━━━━━━━━━━━━━━━━━━━━━━ \u001b[0m\u001b[1mStep \u001b[0m\u001b[1;36m1\u001b[0m\u001b[38;2;212;183;2m ━━━━━━━━━━━━━━━━━━━━━━━━━━━━━━━━━━━━━━━━━━━━━━━━━━━━━━\u001b[0m\n"
      ]
     },
     "metadata": {},
     "output_type": "display_data"
    },
    {
     "data": {
      "text/html": [
       "<pre style=\"white-space:pre;overflow-x:auto;line-height:normal;font-family:Menlo,'DejaVu Sans Mono',consolas,'Courier New',monospace\"><span style=\"font-weight: bold; font-style: italic\">Output message of the LLM:</span> <span style=\"color: #d4b702; text-decoration-color: #d4b702\">────────────────────────────────────────────────────────────────────────────────────────</span>\n",
       "<span style=\"color: #79c0ff; text-decoration-color: #79c0ff; background-color: #0d1117\">### Thought:</span><span style=\"background-color: #0d1117\">                                                                                                       </span>\n",
       "<span style=\"color: #e6edf3; text-decoration-color: #e6edf3; background-color: #0d1117\">The task is to discuss with other agents to gather information about what constitutes a preparatory survey, its </span><span style=\"background-color: #0d1117\">   </span>\n",
       "<span style=\"color: #e6edf3; text-decoration-color: #e6edf3; background-color: #0d1117\">structure, and the types of facts it should include. I will start by asking Web_agent to provide definitions and </span><span style=\"background-color: #0d1117\">  </span>\n",
       "<span style=\"color: #e6edf3; text-decoration-color: #e6edf3; background-color: #0d1117\">guidelines related to preparatory surveys.</span><span style=\"background-color: #0d1117\">                                                                         </span>\n",
       "<span style=\"background-color: #0d1117\">                                                                                                                   </span>\n",
       "<span style=\"color: #79c0ff; text-decoration-color: #79c0ff; background-color: #0d1117\">### Code:</span><span style=\"background-color: #0d1117\">                                                                                                          </span>\n",
       "<span style=\"color: #a5d6ff; text-decoration-color: #a5d6ff; background-color: #0d1117\">```py</span><span style=\"background-color: #0d1117\">                                                                                                              </span>\n",
       "<span style=\"color: #e6edf3; text-decoration-color: #e6edf3; background-color: #0d1117\">Web_agent(task</span><span style=\"color: #ff7b72; text-decoration-color: #ff7b72; background-color: #0d1117; font-weight: bold\">=</span><span style=\"color: #a5d6ff; text-decoration-color: #a5d6ff; background-color: #0d1117\">\"Provide a definition of 'preparatory survey' from academic or professional sources.\"</span><span style=\"color: #e6edf3; text-decoration-color: #e6edf3; background-color: #0d1117\">)</span><span style=\"background-color: #0d1117\">              </span>\n",
       "<span style=\"color: #e6edf3; text-decoration-color: #e6edf3; background-color: #0d1117\">Web_agent(task</span><span style=\"color: #ff7b72; text-decoration-color: #ff7b72; background-color: #0d1117; font-weight: bold\">=</span><span style=\"color: #a5d6ff; text-decoration-color: #a5d6ff; background-color: #0d1117\">\"Gather guidelines on the structure of a comprehensive preparatory survey from professional </span><span style=\"background-color: #0d1117\">        </span>\n",
       "<span style=\"color: #a5d6ff; text-decoration-color: #a5d6ff; background-color: #0d1117\">organizations or industry standards documents.\"</span><span style=\"color: #e6edf3; text-decoration-color: #e6edf3; background-color: #0d1117\">)</span><span style=\"background-color: #0d1117\">                                                                   </span>\n",
       "<span style=\"color: #e6edf3; text-decoration-color: #e6edf3; background-color: #0d1117\">Web_agent(task</span><span style=\"color: #ff7b72; text-decoration-color: #ff7b72; background-color: #0d1117; font-weight: bold\">=</span><span style=\"color: #a5d6ff; text-decoration-color: #a5d6ff; background-color: #0d1117\">\"Collect information on the types of facts that should be included in a preparatory survey based on </span>\n",
       "<span style=\"color: #a5d6ff; text-decoration-color: #a5d6ff; background-color: #0d1117\">best practices guides and case studies.\"</span><span style=\"color: #e6edf3; text-decoration-color: #e6edf3; background-color: #0d1117\">)</span><span style=\"background-color: #0d1117\">                                                                          </span>\n",
       "<span style=\"color: #a5d6ff; text-decoration-color: #a5d6ff; background-color: #0d1117\">```</span><span style=\"background-color: #0d1117\">                                                                                                                </span>\n",
       "</pre>\n"
      ],
      "text/plain": [
       "\u001b[1;3mOutput message of the LLM:\u001b[0m \u001b[38;2;212;183;2m────────────────────────────────────────────────────────────────────────────────────────\u001b[0m\n",
       "\u001b[38;2;121;192;255;48;2;13;17;23m### Thought:\u001b[0m\u001b[48;2;13;17;23m                                                                                                       \u001b[0m\n",
       "\u001b[38;2;230;237;243;48;2;13;17;23mThe\u001b[0m\u001b[38;2;230;237;243;48;2;13;17;23m \u001b[0m\u001b[38;2;230;237;243;48;2;13;17;23mtask\u001b[0m\u001b[38;2;230;237;243;48;2;13;17;23m \u001b[0m\u001b[38;2;230;237;243;48;2;13;17;23mis\u001b[0m\u001b[38;2;230;237;243;48;2;13;17;23m \u001b[0m\u001b[38;2;230;237;243;48;2;13;17;23mto\u001b[0m\u001b[38;2;230;237;243;48;2;13;17;23m \u001b[0m\u001b[38;2;230;237;243;48;2;13;17;23mdiscuss\u001b[0m\u001b[38;2;230;237;243;48;2;13;17;23m \u001b[0m\u001b[38;2;230;237;243;48;2;13;17;23mwith\u001b[0m\u001b[38;2;230;237;243;48;2;13;17;23m \u001b[0m\u001b[38;2;230;237;243;48;2;13;17;23mother\u001b[0m\u001b[38;2;230;237;243;48;2;13;17;23m \u001b[0m\u001b[38;2;230;237;243;48;2;13;17;23magents\u001b[0m\u001b[38;2;230;237;243;48;2;13;17;23m \u001b[0m\u001b[38;2;230;237;243;48;2;13;17;23mto\u001b[0m\u001b[38;2;230;237;243;48;2;13;17;23m \u001b[0m\u001b[38;2;230;237;243;48;2;13;17;23mgather\u001b[0m\u001b[38;2;230;237;243;48;2;13;17;23m \u001b[0m\u001b[38;2;230;237;243;48;2;13;17;23minformation\u001b[0m\u001b[38;2;230;237;243;48;2;13;17;23m \u001b[0m\u001b[38;2;230;237;243;48;2;13;17;23mabout\u001b[0m\u001b[38;2;230;237;243;48;2;13;17;23m \u001b[0m\u001b[38;2;230;237;243;48;2;13;17;23mwhat\u001b[0m\u001b[38;2;230;237;243;48;2;13;17;23m \u001b[0m\u001b[38;2;230;237;243;48;2;13;17;23mconstitutes\u001b[0m\u001b[38;2;230;237;243;48;2;13;17;23m \u001b[0m\u001b[38;2;230;237;243;48;2;13;17;23ma\u001b[0m\u001b[38;2;230;237;243;48;2;13;17;23m \u001b[0m\u001b[38;2;230;237;243;48;2;13;17;23mpreparatory\u001b[0m\u001b[38;2;230;237;243;48;2;13;17;23m \u001b[0m\u001b[38;2;230;237;243;48;2;13;17;23msurvey,\u001b[0m\u001b[38;2;230;237;243;48;2;13;17;23m \u001b[0m\u001b[38;2;230;237;243;48;2;13;17;23mits\u001b[0m\u001b[38;2;230;237;243;48;2;13;17;23m \u001b[0m\u001b[48;2;13;17;23m   \u001b[0m\n",
       "\u001b[38;2;230;237;243;48;2;13;17;23mstructure,\u001b[0m\u001b[38;2;230;237;243;48;2;13;17;23m \u001b[0m\u001b[38;2;230;237;243;48;2;13;17;23mand\u001b[0m\u001b[38;2;230;237;243;48;2;13;17;23m \u001b[0m\u001b[38;2;230;237;243;48;2;13;17;23mthe\u001b[0m\u001b[38;2;230;237;243;48;2;13;17;23m \u001b[0m\u001b[38;2;230;237;243;48;2;13;17;23mtypes\u001b[0m\u001b[38;2;230;237;243;48;2;13;17;23m \u001b[0m\u001b[38;2;230;237;243;48;2;13;17;23mof\u001b[0m\u001b[38;2;230;237;243;48;2;13;17;23m \u001b[0m\u001b[38;2;230;237;243;48;2;13;17;23mfacts\u001b[0m\u001b[38;2;230;237;243;48;2;13;17;23m \u001b[0m\u001b[38;2;230;237;243;48;2;13;17;23mit\u001b[0m\u001b[38;2;230;237;243;48;2;13;17;23m \u001b[0m\u001b[38;2;230;237;243;48;2;13;17;23mshould\u001b[0m\u001b[38;2;230;237;243;48;2;13;17;23m \u001b[0m\u001b[38;2;230;237;243;48;2;13;17;23minclude.\u001b[0m\u001b[38;2;230;237;243;48;2;13;17;23m \u001b[0m\u001b[38;2;230;237;243;48;2;13;17;23mI\u001b[0m\u001b[38;2;230;237;243;48;2;13;17;23m \u001b[0m\u001b[38;2;230;237;243;48;2;13;17;23mwill\u001b[0m\u001b[38;2;230;237;243;48;2;13;17;23m \u001b[0m\u001b[38;2;230;237;243;48;2;13;17;23mstart\u001b[0m\u001b[38;2;230;237;243;48;2;13;17;23m \u001b[0m\u001b[38;2;230;237;243;48;2;13;17;23mby\u001b[0m\u001b[38;2;230;237;243;48;2;13;17;23m \u001b[0m\u001b[38;2;230;237;243;48;2;13;17;23masking\u001b[0m\u001b[38;2;230;237;243;48;2;13;17;23m \u001b[0m\u001b[38;2;230;237;243;48;2;13;17;23mWeb_agent\u001b[0m\u001b[38;2;230;237;243;48;2;13;17;23m \u001b[0m\u001b[38;2;230;237;243;48;2;13;17;23mto\u001b[0m\u001b[38;2;230;237;243;48;2;13;17;23m \u001b[0m\u001b[38;2;230;237;243;48;2;13;17;23mprovide\u001b[0m\u001b[38;2;230;237;243;48;2;13;17;23m \u001b[0m\u001b[38;2;230;237;243;48;2;13;17;23mdefinitions\u001b[0m\u001b[38;2;230;237;243;48;2;13;17;23m \u001b[0m\u001b[38;2;230;237;243;48;2;13;17;23mand\u001b[0m\u001b[38;2;230;237;243;48;2;13;17;23m \u001b[0m\u001b[48;2;13;17;23m  \u001b[0m\n",
       "\u001b[38;2;230;237;243;48;2;13;17;23mguidelines\u001b[0m\u001b[38;2;230;237;243;48;2;13;17;23m \u001b[0m\u001b[38;2;230;237;243;48;2;13;17;23mrelated\u001b[0m\u001b[38;2;230;237;243;48;2;13;17;23m \u001b[0m\u001b[38;2;230;237;243;48;2;13;17;23mto\u001b[0m\u001b[38;2;230;237;243;48;2;13;17;23m \u001b[0m\u001b[38;2;230;237;243;48;2;13;17;23mpreparatory\u001b[0m\u001b[38;2;230;237;243;48;2;13;17;23m \u001b[0m\u001b[38;2;230;237;243;48;2;13;17;23msurveys.\u001b[0m\u001b[48;2;13;17;23m                                                                         \u001b[0m\n",
       "\u001b[48;2;13;17;23m                                                                                                                   \u001b[0m\n",
       "\u001b[38;2;121;192;255;48;2;13;17;23m### Code:\u001b[0m\u001b[48;2;13;17;23m                                                                                                          \u001b[0m\n",
       "\u001b[38;2;165;214;255;48;2;13;17;23m```\u001b[0m\u001b[38;2;165;214;255;48;2;13;17;23mpy\u001b[0m\u001b[48;2;13;17;23m                                                                                                              \u001b[0m\n",
       "\u001b[38;2;230;237;243;48;2;13;17;23mWeb_agent\u001b[0m\u001b[38;2;230;237;243;48;2;13;17;23m(\u001b[0m\u001b[38;2;230;237;243;48;2;13;17;23mtask\u001b[0m\u001b[1;38;2;255;123;114;48;2;13;17;23m=\u001b[0m\u001b[38;2;165;214;255;48;2;13;17;23m\"\u001b[0m\u001b[38;2;165;214;255;48;2;13;17;23mProvide a definition of \u001b[0m\u001b[38;2;165;214;255;48;2;13;17;23m'\u001b[0m\u001b[38;2;165;214;255;48;2;13;17;23mpreparatory survey\u001b[0m\u001b[38;2;165;214;255;48;2;13;17;23m'\u001b[0m\u001b[38;2;165;214;255;48;2;13;17;23m from academic or professional sources.\u001b[0m\u001b[38;2;165;214;255;48;2;13;17;23m\"\u001b[0m\u001b[38;2;230;237;243;48;2;13;17;23m)\u001b[0m\u001b[48;2;13;17;23m              \u001b[0m\n",
       "\u001b[38;2;230;237;243;48;2;13;17;23mWeb_agent\u001b[0m\u001b[38;2;230;237;243;48;2;13;17;23m(\u001b[0m\u001b[38;2;230;237;243;48;2;13;17;23mtask\u001b[0m\u001b[1;38;2;255;123;114;48;2;13;17;23m=\u001b[0m\u001b[38;2;165;214;255;48;2;13;17;23m\"\u001b[0m\u001b[38;2;165;214;255;48;2;13;17;23mGather guidelines on the structure of a comprehensive preparatory survey from professional \u001b[0m\u001b[48;2;13;17;23m        \u001b[0m\n",
       "\u001b[38;2;165;214;255;48;2;13;17;23morganizations or industry standards documents.\u001b[0m\u001b[38;2;165;214;255;48;2;13;17;23m\"\u001b[0m\u001b[38;2;230;237;243;48;2;13;17;23m)\u001b[0m\u001b[48;2;13;17;23m                                                                   \u001b[0m\n",
       "\u001b[38;2;230;237;243;48;2;13;17;23mWeb_agent\u001b[0m\u001b[38;2;230;237;243;48;2;13;17;23m(\u001b[0m\u001b[38;2;230;237;243;48;2;13;17;23mtask\u001b[0m\u001b[1;38;2;255;123;114;48;2;13;17;23m=\u001b[0m\u001b[38;2;165;214;255;48;2;13;17;23m\"\u001b[0m\u001b[38;2;165;214;255;48;2;13;17;23mCollect information on the types of facts that should be included in a preparatory survey based on \u001b[0m\n",
       "\u001b[38;2;165;214;255;48;2;13;17;23mbest practices guides and case studies.\u001b[0m\u001b[38;2;165;214;255;48;2;13;17;23m\"\u001b[0m\u001b[38;2;230;237;243;48;2;13;17;23m)\u001b[0m\u001b[48;2;13;17;23m                                                                          \u001b[0m\n",
       "\u001b[38;2;165;214;255;48;2;13;17;23m```\u001b[0m\u001b[48;2;13;17;23m                                                                                                                \u001b[0m\n"
      ]
     },
     "metadata": {},
     "output_type": "display_data"
    },
    {
     "data": {
      "text/html": [
       "<pre style=\"white-space:pre;overflow-x:auto;line-height:normal;font-family:Menlo,'DejaVu Sans Mono',consolas,'Courier New',monospace\"> ─ <span style=\"font-weight: bold\">Executing parsed code:</span> ──────────────────────────────────────────────────────────────────────────────────────── \n",
       "  <span style=\"color: #f8f8f2; text-decoration-color: #f8f8f2; background-color: #272822\">Web_agent(task</span><span style=\"color: #ff4689; text-decoration-color: #ff4689; background-color: #272822\">=</span><span style=\"color: #e6db74; text-decoration-color: #e6db74; background-color: #272822\">\"Provide a definition of 'preparatory survey' from academic or professional sources.\"</span><span style=\"color: #f8f8f2; text-decoration-color: #f8f8f2; background-color: #272822\">)</span><span style=\"background-color: #272822\">          </span>  \n",
       "  <span style=\"color: #f8f8f2; text-decoration-color: #f8f8f2; background-color: #272822\">Web_agent(task</span><span style=\"color: #ff4689; text-decoration-color: #ff4689; background-color: #272822\">=</span><span style=\"color: #e6db74; text-decoration-color: #e6db74; background-color: #272822\">\"Gather guidelines on the structure of a comprehensive preparatory survey from professional </span><span style=\"background-color: #272822\">    </span>  \n",
       "  <span style=\"color: #e6db74; text-decoration-color: #e6db74; background-color: #272822\">organizations or industry standards documents.\"</span><span style=\"color: #f8f8f2; text-decoration-color: #f8f8f2; background-color: #272822\">)</span><span style=\"background-color: #272822\">                                                               </span>  \n",
       "  <span style=\"color: #f8f8f2; text-decoration-color: #f8f8f2; background-color: #272822\">Web_agent(task</span><span style=\"color: #ff4689; text-decoration-color: #ff4689; background-color: #272822\">=</span><span style=\"color: #e6db74; text-decoration-color: #e6db74; background-color: #272822\">\"Collect information on the types of facts that should be included in a preparatory survey based</span>  \n",
       "  <span style=\"color: #e6db74; text-decoration-color: #e6db74; background-color: #272822\">on best practices guides and case studies.\"</span><span style=\"color: #f8f8f2; text-decoration-color: #f8f8f2; background-color: #272822\">)</span><span style=\"background-color: #272822\">                                                                   </span>  \n",
       " ───────────────────────────────────────────────────────────────────────────────────────────────────────────────── \n",
       "</pre>\n"
      ],
      "text/plain": [
       " ─ \u001b[1mExecuting parsed code:\u001b[0m ──────────────────────────────────────────────────────────────────────────────────────── \n",
       "  \u001b[38;2;248;248;242;48;2;39;40;34mWeb_agent\u001b[0m\u001b[38;2;248;248;242;48;2;39;40;34m(\u001b[0m\u001b[38;2;248;248;242;48;2;39;40;34mtask\u001b[0m\u001b[38;2;255;70;137;48;2;39;40;34m=\u001b[0m\u001b[38;2;230;219;116;48;2;39;40;34m\"\u001b[0m\u001b[38;2;230;219;116;48;2;39;40;34mProvide a definition of \u001b[0m\u001b[38;2;230;219;116;48;2;39;40;34m'\u001b[0m\u001b[38;2;230;219;116;48;2;39;40;34mpreparatory survey\u001b[0m\u001b[38;2;230;219;116;48;2;39;40;34m'\u001b[0m\u001b[38;2;230;219;116;48;2;39;40;34m from academic or professional sources.\u001b[0m\u001b[38;2;230;219;116;48;2;39;40;34m\"\u001b[0m\u001b[38;2;248;248;242;48;2;39;40;34m)\u001b[0m\u001b[48;2;39;40;34m          \u001b[0m  \n",
       "  \u001b[38;2;248;248;242;48;2;39;40;34mWeb_agent\u001b[0m\u001b[38;2;248;248;242;48;2;39;40;34m(\u001b[0m\u001b[38;2;248;248;242;48;2;39;40;34mtask\u001b[0m\u001b[38;2;255;70;137;48;2;39;40;34m=\u001b[0m\u001b[38;2;230;219;116;48;2;39;40;34m\"\u001b[0m\u001b[38;2;230;219;116;48;2;39;40;34mGather guidelines on the structure of a comprehensive preparatory survey from professional \u001b[0m\u001b[48;2;39;40;34m    \u001b[0m  \n",
       "  \u001b[38;2;230;219;116;48;2;39;40;34morganizations or industry standards documents.\u001b[0m\u001b[38;2;230;219;116;48;2;39;40;34m\"\u001b[0m\u001b[38;2;248;248;242;48;2;39;40;34m)\u001b[0m\u001b[48;2;39;40;34m                                                               \u001b[0m  \n",
       "  \u001b[38;2;248;248;242;48;2;39;40;34mWeb_agent\u001b[0m\u001b[38;2;248;248;242;48;2;39;40;34m(\u001b[0m\u001b[38;2;248;248;242;48;2;39;40;34mtask\u001b[0m\u001b[38;2;255;70;137;48;2;39;40;34m=\u001b[0m\u001b[38;2;230;219;116;48;2;39;40;34m\"\u001b[0m\u001b[38;2;230;219;116;48;2;39;40;34mCollect information on the types of facts that should be included in a preparatory survey based\u001b[0m  \n",
       "  \u001b[38;2;230;219;116;48;2;39;40;34mon best practices guides and case studies.\u001b[0m\u001b[38;2;230;219;116;48;2;39;40;34m\"\u001b[0m\u001b[38;2;248;248;242;48;2;39;40;34m)\u001b[0m\u001b[48;2;39;40;34m                                                                   \u001b[0m  \n",
       " ───────────────────────────────────────────────────────────────────────────────────────────────────────────────── \n"
      ]
     },
     "metadata": {},
     "output_type": "display_data"
    },
    {
     "data": {
      "text/html": [
       "<pre style=\"white-space:pre;overflow-x:auto;line-height:normal;font-family:Menlo,'DejaVu Sans Mono',consolas,'Courier New',monospace\"><span style=\"color: #d4b702; text-decoration-color: #d4b702\">╭────────────────────────────────────────────── </span><span style=\"color: #d4b702; text-decoration-color: #d4b702; font-weight: bold\">New run - Web_agent</span><span style=\"color: #d4b702; text-decoration-color: #d4b702\"> ──────────────────────────────────────────────╮</span>\n",
       "<span style=\"color: #d4b702; text-decoration-color: #d4b702\">│</span>                                                                                                                 <span style=\"color: #d4b702; text-decoration-color: #d4b702\">│</span>\n",
       "<span style=\"color: #d4b702; text-decoration-color: #d4b702\">│</span> <span style=\"font-weight: bold\">You're a helpful agent named 'Web_agent'.</span>                                                                       <span style=\"color: #d4b702; text-decoration-color: #d4b702\">│</span>\n",
       "<span style=\"color: #d4b702; text-decoration-color: #d4b702\">│</span> <span style=\"font-weight: bold\">You have been submitted this task by your manager.</span>                                                              <span style=\"color: #d4b702; text-decoration-color: #d4b702\">│</span>\n",
       "<span style=\"color: #d4b702; text-decoration-color: #d4b702\">│</span> <span style=\"font-weight: bold\">---</span>                                                                                                             <span style=\"color: #d4b702; text-decoration-color: #d4b702\">│</span>\n",
       "<span style=\"color: #d4b702; text-decoration-color: #d4b702\">│</span> <span style=\"font-weight: bold\">Task:</span>                                                                                                           <span style=\"color: #d4b702; text-decoration-color: #d4b702\">│</span>\n",
       "<span style=\"color: #d4b702; text-decoration-color: #d4b702\">│</span> <span style=\"font-weight: bold\">Provide a definition of 'preparatory survey' from academic or professional sources.</span>                             <span style=\"color: #d4b702; text-decoration-color: #d4b702\">│</span>\n",
       "<span style=\"color: #d4b702; text-decoration-color: #d4b702\">│</span> <span style=\"font-weight: bold\">---</span>                                                                                                             <span style=\"color: #d4b702; text-decoration-color: #d4b702\">│</span>\n",
       "<span style=\"color: #d4b702; text-decoration-color: #d4b702\">│</span> <span style=\"font-weight: bold\">You're helping your manager solve a wider task: so make sure to not provide a one-line answer, but give as much</span> <span style=\"color: #d4b702; text-decoration-color: #d4b702\">│</span>\n",
       "<span style=\"color: #d4b702; text-decoration-color: #d4b702\">│</span> <span style=\"font-weight: bold\">information as possible to give them a clear understanding of the answer.</span>                                       <span style=\"color: #d4b702; text-decoration-color: #d4b702\">│</span>\n",
       "<span style=\"color: #d4b702; text-decoration-color: #d4b702\">│</span>                                                                                                                 <span style=\"color: #d4b702; text-decoration-color: #d4b702\">│</span>\n",
       "<span style=\"color: #d4b702; text-decoration-color: #d4b702\">│</span> <span style=\"font-weight: bold\">Your final_answer WILL HAVE to contain these parts:</span>                                                             <span style=\"color: #d4b702; text-decoration-color: #d4b702\">│</span>\n",
       "<span style=\"color: #d4b702; text-decoration-color: #d4b702\">│</span> <span style=\"font-weight: bold\">### 1. Task outcome (short version):</span>                                                                            <span style=\"color: #d4b702; text-decoration-color: #d4b702\">│</span>\n",
       "<span style=\"color: #d4b702; text-decoration-color: #d4b702\">│</span> <span style=\"font-weight: bold\">### 2. Task outcome (extremely detailed version):</span>                                                               <span style=\"color: #d4b702; text-decoration-color: #d4b702\">│</span>\n",
       "<span style=\"color: #d4b702; text-decoration-color: #d4b702\">│</span> <span style=\"font-weight: bold\">### 3. Additional context (if relevant):</span>                                                                        <span style=\"color: #d4b702; text-decoration-color: #d4b702\">│</span>\n",
       "<span style=\"color: #d4b702; text-decoration-color: #d4b702\">│</span>                                                                                                                 <span style=\"color: #d4b702; text-decoration-color: #d4b702\">│</span>\n",
       "<span style=\"color: #d4b702; text-decoration-color: #d4b702\">│</span> <span style=\"font-weight: bold\">Put all these in your final_answer tool, everything that you do not pass as an argument to final_answer will be</span> <span style=\"color: #d4b702; text-decoration-color: #d4b702\">│</span>\n",
       "<span style=\"color: #d4b702; text-decoration-color: #d4b702\">│</span> <span style=\"font-weight: bold\">lost.</span>                                                                                                           <span style=\"color: #d4b702; text-decoration-color: #d4b702\">│</span>\n",
       "<span style=\"color: #d4b702; text-decoration-color: #d4b702\">│</span> <span style=\"font-weight: bold\">And even if your task resolution is not successful, please return as much context as possible, so that your </span>    <span style=\"color: #d4b702; text-decoration-color: #d4b702\">│</span>\n",
       "<span style=\"color: #d4b702; text-decoration-color: #d4b702\">│</span> <span style=\"font-weight: bold\">manager can act upon this feedback.</span>                                                                             <span style=\"color: #d4b702; text-decoration-color: #d4b702\">│</span>\n",
       "<span style=\"color: #d4b702; text-decoration-color: #d4b702\">│</span>                                                                                                                 <span style=\"color: #d4b702; text-decoration-color: #d4b702\">│</span>\n",
       "<span style=\"color: #d4b702; text-decoration-color: #d4b702\">╰─ LiteLLMModel - ollama/qwen2.5-coder:32b ───────────────────────────────────────────────────────────────────────╯</span>\n",
       "</pre>\n"
      ],
      "text/plain": [
       "\u001b[38;2;212;183;2m╭─\u001b[0m\u001b[38;2;212;183;2m─────────────────────────────────────────────\u001b[0m\u001b[38;2;212;183;2m \u001b[0m\u001b[1;38;2;212;183;2mNew run - Web_agent\u001b[0m\u001b[38;2;212;183;2m \u001b[0m\u001b[38;2;212;183;2m─────────────────────────────────────────────\u001b[0m\u001b[38;2;212;183;2m─╮\u001b[0m\n",
       "\u001b[38;2;212;183;2m│\u001b[0m                                                                                                                 \u001b[38;2;212;183;2m│\u001b[0m\n",
       "\u001b[38;2;212;183;2m│\u001b[0m \u001b[1mYou're a helpful agent named 'Web_agent'.\u001b[0m                                                                       \u001b[38;2;212;183;2m│\u001b[0m\n",
       "\u001b[38;2;212;183;2m│\u001b[0m \u001b[1mYou have been submitted this task by your manager.\u001b[0m                                                              \u001b[38;2;212;183;2m│\u001b[0m\n",
       "\u001b[38;2;212;183;2m│\u001b[0m \u001b[1m---\u001b[0m                                                                                                             \u001b[38;2;212;183;2m│\u001b[0m\n",
       "\u001b[38;2;212;183;2m│\u001b[0m \u001b[1mTask:\u001b[0m                                                                                                           \u001b[38;2;212;183;2m│\u001b[0m\n",
       "\u001b[38;2;212;183;2m│\u001b[0m \u001b[1mProvide a definition of 'preparatory survey' from academic or professional sources.\u001b[0m                             \u001b[38;2;212;183;2m│\u001b[0m\n",
       "\u001b[38;2;212;183;2m│\u001b[0m \u001b[1m---\u001b[0m                                                                                                             \u001b[38;2;212;183;2m│\u001b[0m\n",
       "\u001b[38;2;212;183;2m│\u001b[0m \u001b[1mYou're helping your manager solve a wider task: so make sure to not provide a one-line answer, but give as much\u001b[0m \u001b[38;2;212;183;2m│\u001b[0m\n",
       "\u001b[38;2;212;183;2m│\u001b[0m \u001b[1minformation as possible to give them a clear understanding of the answer.\u001b[0m                                       \u001b[38;2;212;183;2m│\u001b[0m\n",
       "\u001b[38;2;212;183;2m│\u001b[0m                                                                                                                 \u001b[38;2;212;183;2m│\u001b[0m\n",
       "\u001b[38;2;212;183;2m│\u001b[0m \u001b[1mYour final_answer WILL HAVE to contain these parts:\u001b[0m                                                             \u001b[38;2;212;183;2m│\u001b[0m\n",
       "\u001b[38;2;212;183;2m│\u001b[0m \u001b[1m### 1. Task outcome (short version):\u001b[0m                                                                            \u001b[38;2;212;183;2m│\u001b[0m\n",
       "\u001b[38;2;212;183;2m│\u001b[0m \u001b[1m### 2. Task outcome (extremely detailed version):\u001b[0m                                                               \u001b[38;2;212;183;2m│\u001b[0m\n",
       "\u001b[38;2;212;183;2m│\u001b[0m \u001b[1m### 3. Additional context (if relevant):\u001b[0m                                                                        \u001b[38;2;212;183;2m│\u001b[0m\n",
       "\u001b[38;2;212;183;2m│\u001b[0m                                                                                                                 \u001b[38;2;212;183;2m│\u001b[0m\n",
       "\u001b[38;2;212;183;2m│\u001b[0m \u001b[1mPut all these in your final_answer tool, everything that you do not pass as an argument to final_answer will be\u001b[0m \u001b[38;2;212;183;2m│\u001b[0m\n",
       "\u001b[38;2;212;183;2m│\u001b[0m \u001b[1mlost.\u001b[0m                                                                                                           \u001b[38;2;212;183;2m│\u001b[0m\n",
       "\u001b[38;2;212;183;2m│\u001b[0m \u001b[1mAnd even if your task resolution is not successful, please return as much context as possible, so that your \u001b[0m    \u001b[38;2;212;183;2m│\u001b[0m\n",
       "\u001b[38;2;212;183;2m│\u001b[0m \u001b[1mmanager can act upon this feedback.\u001b[0m                                                                             \u001b[38;2;212;183;2m│\u001b[0m\n",
       "\u001b[38;2;212;183;2m│\u001b[0m                                                                                                                 \u001b[38;2;212;183;2m│\u001b[0m\n",
       "\u001b[38;2;212;183;2m╰─\u001b[0m\u001b[38;2;212;183;2m LiteLLMModel - ollama/qwen2.5-coder:32b \u001b[0m\u001b[38;2;212;183;2m──────────────────────────────────────────────────────────────────────\u001b[0m\u001b[38;2;212;183;2m─╯\u001b[0m\n"
      ]
     },
     "metadata": {},
     "output_type": "display_data"
    },
    {
     "data": {
      "text/html": [
       "<pre style=\"white-space:pre;overflow-x:auto;line-height:normal;font-family:Menlo,'DejaVu Sans Mono',consolas,'Courier New',monospace\"><span style=\"color: #d4b702; text-decoration-color: #d4b702\">━━━━━━━━━━━━━━━━━━━━━━━━━━━━━━━━━━━━━━━━━━━━━━━━━━━━━ </span><span style=\"font-weight: bold\">Step </span><span style=\"color: #008080; text-decoration-color: #008080; font-weight: bold\">1</span><span style=\"color: #d4b702; text-decoration-color: #d4b702\"> ━━━━━━━━━━━━━━━━━━━━━━━━━━━━━━━━━━━━━━━━━━━━━━━━━━━━━━</span>\n",
       "</pre>\n"
      ],
      "text/plain": [
       "\u001b[38;2;212;183;2m━━━━━━━━━━━━━━━━━━━━━━━━━━━━━━━━━━━━━━━━━━━━━━━━━━━━━ \u001b[0m\u001b[1mStep \u001b[0m\u001b[1;36m1\u001b[0m\u001b[38;2;212;183;2m ━━━━━━━━━━━━━━━━━━━━━━━━━━━━━━━━━━━━━━━━━━━━━━━━━━━━━━\u001b[0m\n"
      ]
     },
     "metadata": {},
     "output_type": "display_data"
    },
    {
     "data": {
      "text/html": [
       "<pre style=\"white-space:pre;overflow-x:auto;line-height:normal;font-family:Menlo,'DejaVu Sans Mono',consolas,'Courier New',monospace\">╭─────────────────────────────────────────────────────────────────────────────────────────────────────────────────╮\n",
       "│ Calling tool: 'web_search' with arguments: {'query': 'definition of preparatory survey academic professional    │\n",
       "│ sources'}                                                                                                       │\n",
       "╰─────────────────────────────────────────────────────────────────────────────────────────────────────────────────╯\n",
       "</pre>\n"
      ],
      "text/plain": [
       "╭─────────────────────────────────────────────────────────────────────────────────────────────────────────────────╮\n",
       "│ Calling tool: 'web_search' with arguments: {'query': 'definition of preparatory survey academic professional    │\n",
       "│ sources'}                                                                                                       │\n",
       "╰─────────────────────────────────────────────────────────────────────────────────────────────────────────────────╯\n"
      ]
     },
     "metadata": {},
     "output_type": "display_data"
    },
    {
     "data": {
      "text/html": [
       "<pre style=\"white-space:pre;overflow-x:auto;line-height:normal;font-family:Menlo,'DejaVu Sans Mono',consolas,'Courier New',monospace\"><span style=\"color: #800000; text-decoration-color: #800000; font-weight: bold\">Error whene executing tool web_search with arguments {</span><span style=\"color: #800000; text-decoration-color: #800000; font-weight: bold\">'query'</span><span style=\"color: #800000; text-decoration-color: #800000; font-weight: bold\">: </span><span style=\"color: #800000; text-decoration-color: #800000; font-weight: bold\">'definition of preparatory survey academic </span>\n",
       "<span style=\"color: #800000; text-decoration-color: #800000; font-weight: bold\">professional sources'</span><span style=\"color: #800000; text-decoration-color: #800000; font-weight: bold\">}: DuckDuckGoSearchException: </span><span style=\"color: #800000; text-decoration-color: #800000; font-weight: bold; text-decoration: underline\">https://lite.duckduckgo.com/lite/</span><span style=\"color: #800000; text-decoration-color: #800000; font-weight: bold\"> RuntimeError: error sending </span>\n",
       "<span style=\"color: #800000; text-decoration-color: #800000; font-weight: bold\">request for url (</span><span style=\"color: #800000; text-decoration-color: #800000; font-weight: bold; text-decoration: underline\">https://lite.duckduckgo.com/lite/):</span><span style=\"color: #800000; text-decoration-color: #800000; font-weight: bold\"> client error (Connect)</span>\n",
       "\n",
       "<span style=\"color: #800000; text-decoration-color: #800000; font-weight: bold\">Caused by:</span>\n",
       "<span style=\"color: #800000; text-decoration-color: #800000; font-weight: bold\">    </span><span style=\"color: #800000; text-decoration-color: #800000; font-weight: bold\">0</span><span style=\"color: #800000; text-decoration-color: #800000; font-weight: bold\">: client error (Connect)</span>\n",
       "<span style=\"color: #800000; text-decoration-color: #800000; font-weight: bold\">    </span><span style=\"color: #800000; text-decoration-color: #800000; font-weight: bold\">1</span><span style=\"color: #800000; text-decoration-color: #800000; font-weight: bold\">: tcp connect error: Connection refused (os error </span><span style=\"color: #800000; text-decoration-color: #800000; font-weight: bold\">111</span><span style=\"color: #800000; text-decoration-color: #800000; font-weight: bold\">)</span>\n",
       "<span style=\"color: #800000; text-decoration-color: #800000; font-weight: bold\">    </span><span style=\"color: #800000; text-decoration-color: #800000; font-weight: bold\">2</span><span style=\"color: #800000; text-decoration-color: #800000; font-weight: bold\">: Connection refused (os error </span><span style=\"color: #800000; text-decoration-color: #800000; font-weight: bold\">111</span><span style=\"color: #800000; text-decoration-color: #800000; font-weight: bold\">)</span>\n",
       "<span style=\"color: #800000; text-decoration-color: #800000; font-weight: bold\">You should only use this tool with a correct input.</span>\n",
       "<span style=\"color: #800000; text-decoration-color: #800000; font-weight: bold\">As a reminder, this tool's description is the following: </span><span style=\"color: #800000; text-decoration-color: #800000; font-weight: bold\">'Performs a duckduckgo web search based on your query </span>\n",
       "<span style=\"color: #800000; text-decoration-color: #800000; font-weight: bold\">(think a Google search) then returns the top search results.'</span><span style=\"color: #800000; text-decoration-color: #800000; font-weight: bold\">.</span>\n",
       "<span style=\"color: #800000; text-decoration-color: #800000; font-weight: bold\">It takes inputs: {</span><span style=\"color: #800000; text-decoration-color: #800000; font-weight: bold\">'query'</span><span style=\"color: #800000; text-decoration-color: #800000; font-weight: bold\">: {</span><span style=\"color: #800000; text-decoration-color: #800000; font-weight: bold\">'type'</span><span style=\"color: #800000; text-decoration-color: #800000; font-weight: bold\">: </span><span style=\"color: #800000; text-decoration-color: #800000; font-weight: bold\">'string'</span><span style=\"color: #800000; text-decoration-color: #800000; font-weight: bold\">, </span><span style=\"color: #800000; text-decoration-color: #800000; font-weight: bold\">'description'</span><span style=\"color: #800000; text-decoration-color: #800000; font-weight: bold\">: </span><span style=\"color: #800000; text-decoration-color: #800000; font-weight: bold\">'The search query to perform.'</span><span style=\"color: #800000; text-decoration-color: #800000; font-weight: bold\">}} and returns output </span>\n",
       "<span style=\"color: #800000; text-decoration-color: #800000; font-weight: bold\">type string</span>\n",
       "</pre>\n"
      ],
      "text/plain": [
       "\u001b[1;31mError whene executing tool web_search with arguments \u001b[0m\u001b[1;31m{\u001b[0m\u001b[1;31m'query'\u001b[0m\u001b[1;31m: \u001b[0m\u001b[1;31m'definition of preparatory survey academic \u001b[0m\n",
       "\u001b[1;31mprofessional sources'\u001b[0m\u001b[1;31m}\u001b[0m\u001b[1;31m: DuckDuckGoSearchException: \u001b[0m\u001b[1;4;31mhttps://lite.duckduckgo.com/lite/\u001b[0m\u001b[1;31m RuntimeError: error sending \u001b[0m\n",
       "\u001b[1;31mrequest for url \u001b[0m\u001b[1;31m(\u001b[0m\u001b[1;4;31mhttps://lite.duckduckgo.com/lite/\u001b[0m\u001b[1;4;31m)\u001b[0m\u001b[1;4;31m:\u001b[0m\u001b[1;31m client error \u001b[0m\u001b[1;31m(\u001b[0m\u001b[1;31mConnect\u001b[0m\u001b[1;31m)\u001b[0m\n",
       "\n",
       "\u001b[1;31mCaused by:\u001b[0m\n",
       "\u001b[1;31m    \u001b[0m\u001b[1;31m0\u001b[0m\u001b[1;31m: client error \u001b[0m\u001b[1;31m(\u001b[0m\u001b[1;31mConnect\u001b[0m\u001b[1;31m)\u001b[0m\n",
       "\u001b[1;31m    \u001b[0m\u001b[1;31m1\u001b[0m\u001b[1;31m: tcp connect error: Connection refused \u001b[0m\u001b[1;31m(\u001b[0m\u001b[1;31mos error \u001b[0m\u001b[1;31m111\u001b[0m\u001b[1;31m)\u001b[0m\n",
       "\u001b[1;31m    \u001b[0m\u001b[1;31m2\u001b[0m\u001b[1;31m: Connection refused \u001b[0m\u001b[1;31m(\u001b[0m\u001b[1;31mos error \u001b[0m\u001b[1;31m111\u001b[0m\u001b[1;31m)\u001b[0m\n",
       "\u001b[1;31mYou should only use this tool with a correct input.\u001b[0m\n",
       "\u001b[1;31mAs a reminder, this tool's description is the following: \u001b[0m\u001b[1;31m'Performs a duckduckgo web search based on your query \u001b[0m\n",
       "\u001b[1;31m(\u001b[0m\u001b[1;31mthink a Google search\u001b[0m\u001b[1;31m)\u001b[0m\u001b[1;31m then returns the top search results.'\u001b[0m\u001b[1;31m.\u001b[0m\n",
       "\u001b[1;31mIt takes inputs: \u001b[0m\u001b[1;31m{\u001b[0m\u001b[1;31m'query'\u001b[0m\u001b[1;31m: \u001b[0m\u001b[1;31m{\u001b[0m\u001b[1;31m'type'\u001b[0m\u001b[1;31m: \u001b[0m\u001b[1;31m'string'\u001b[0m\u001b[1;31m, \u001b[0m\u001b[1;31m'description'\u001b[0m\u001b[1;31m: \u001b[0m\u001b[1;31m'The search query to perform.'\u001b[0m\u001b[1;31m}\u001b[0m\u001b[1;31m}\u001b[0m\u001b[1;31m and returns output \u001b[0m\n",
       "\u001b[1;31mtype string\u001b[0m\n"
      ]
     },
     "metadata": {},
     "output_type": "display_data"
    },
    {
     "data": {
      "text/html": [
       "<pre style=\"white-space:pre;overflow-x:auto;line-height:normal;font-family:Menlo,'DejaVu Sans Mono',consolas,'Courier New',monospace\"><span style=\"color: #7f7f7f; text-decoration-color: #7f7f7f\">[Step 0: Duration 33.12 seconds| Input tokens: 1,774 | Output tokens: 24]</span>\n",
       "</pre>\n"
      ],
      "text/plain": [
       "\u001b[2m[Step 0: Duration 33.12 seconds| Input tokens: 1,774 | Output tokens: 24]\u001b[0m\n"
      ]
     },
     "metadata": {},
     "output_type": "display_data"
    },
    {
     "data": {
      "text/html": [
       "<pre style=\"white-space:pre;overflow-x:auto;line-height:normal;font-family:Menlo,'DejaVu Sans Mono',consolas,'Courier New',monospace\"><span style=\"color: #d4b702; text-decoration-color: #d4b702\">━━━━━━━━━━━━━━━━━━━━━━━━━━━━━━━━━━━━━━━━━━━━━━━━━━━━━ </span><span style=\"font-weight: bold\">Step </span><span style=\"color: #008080; text-decoration-color: #008080; font-weight: bold\">2</span><span style=\"color: #d4b702; text-decoration-color: #d4b702\"> ━━━━━━━━━━━━━━━━━━━━━━━━━━━━━━━━━━━━━━━━━━━━━━━━━━━━━━</span>\n",
       "</pre>\n"
      ],
      "text/plain": [
       "\u001b[38;2;212;183;2m━━━━━━━━━━━━━━━━━━━━━━━━━━━━━━━━━━━━━━━━━━━━━━━━━━━━━ \u001b[0m\u001b[1mStep \u001b[0m\u001b[1;36m2\u001b[0m\u001b[38;2;212;183;2m ━━━━━━━━━━━━━━━━━━━━━━━━━━━━━━━━━━━━━━━━━━━━━━━━━━━━━━\u001b[0m\n"
      ]
     },
     "metadata": {},
     "output_type": "display_data"
    },
    {
     "data": {
      "text/html": [
       "<pre style=\"white-space:pre;overflow-x:auto;line-height:normal;font-family:Menlo,'DejaVu Sans Mono',consolas,'Courier New',monospace\">╭─────────────────────────────────────────────────────────────────────────────────────────────────────────────────╮\n",
       "│ Calling tool: 'web_search' with arguments: {'query': 'definition of preparatory survey in academic literature'} │\n",
       "╰─────────────────────────────────────────────────────────────────────────────────────────────────────────────────╯\n",
       "</pre>\n"
      ],
      "text/plain": [
       "╭─────────────────────────────────────────────────────────────────────────────────────────────────────────────────╮\n",
       "│ Calling tool: 'web_search' with arguments: {'query': 'definition of preparatory survey in academic literature'} │\n",
       "╰─────────────────────────────────────────────────────────────────────────────────────────────────────────────────╯\n"
      ]
     },
     "metadata": {},
     "output_type": "display_data"
    },
    {
     "data": {
      "text/html": [
       "<pre style=\"white-space:pre;overflow-x:auto;line-height:normal;font-family:Menlo,'DejaVu Sans Mono',consolas,'Courier New',monospace\"><span style=\"color: #800000; text-decoration-color: #800000; font-weight: bold\">Error whene executing tool web_search with arguments {</span><span style=\"color: #800000; text-decoration-color: #800000; font-weight: bold\">'query'</span><span style=\"color: #800000; text-decoration-color: #800000; font-weight: bold\">: </span><span style=\"color: #800000; text-decoration-color: #800000; font-weight: bold\">'definition of preparatory survey in academic </span>\n",
       "<span style=\"color: #800000; text-decoration-color: #800000; font-weight: bold\">literature'</span><span style=\"color: #800000; text-decoration-color: #800000; font-weight: bold\">}: DuckDuckGoSearchException: </span><span style=\"color: #800000; text-decoration-color: #800000; font-weight: bold; text-decoration: underline\">https://html.duckduckgo.com/html</span><span style=\"color: #800000; text-decoration-color: #800000; font-weight: bold\"> RuntimeError: error sending request for </span>\n",
       "<span style=\"color: #800000; text-decoration-color: #800000; font-weight: bold\">url (</span><span style=\"color: #800000; text-decoration-color: #800000; font-weight: bold; text-decoration: underline\">https://html.duckduckgo.com/html):</span><span style=\"color: #800000; text-decoration-color: #800000; font-weight: bold\"> client error (Connect)</span>\n",
       "\n",
       "<span style=\"color: #800000; text-decoration-color: #800000; font-weight: bold\">Caused by:</span>\n",
       "<span style=\"color: #800000; text-decoration-color: #800000; font-weight: bold\">    </span><span style=\"color: #800000; text-decoration-color: #800000; font-weight: bold\">0</span><span style=\"color: #800000; text-decoration-color: #800000; font-weight: bold\">: client error (Connect)</span>\n",
       "<span style=\"color: #800000; text-decoration-color: #800000; font-weight: bold\">    </span><span style=\"color: #800000; text-decoration-color: #800000; font-weight: bold\">1</span><span style=\"color: #800000; text-decoration-color: #800000; font-weight: bold\">: tcp connect error: Connection refused (os error </span><span style=\"color: #800000; text-decoration-color: #800000; font-weight: bold\">111</span><span style=\"color: #800000; text-decoration-color: #800000; font-weight: bold\">)</span>\n",
       "<span style=\"color: #800000; text-decoration-color: #800000; font-weight: bold\">    </span><span style=\"color: #800000; text-decoration-color: #800000; font-weight: bold\">2</span><span style=\"color: #800000; text-decoration-color: #800000; font-weight: bold\">: Connection refused (os error </span><span style=\"color: #800000; text-decoration-color: #800000; font-weight: bold\">111</span><span style=\"color: #800000; text-decoration-color: #800000; font-weight: bold\">)</span>\n",
       "<span style=\"color: #800000; text-decoration-color: #800000; font-weight: bold\">You should only use this tool with a correct input.</span>\n",
       "<span style=\"color: #800000; text-decoration-color: #800000; font-weight: bold\">As a reminder, this tool's description is the following: </span><span style=\"color: #800000; text-decoration-color: #800000; font-weight: bold\">'Performs a duckduckgo web search based on your query </span>\n",
       "<span style=\"color: #800000; text-decoration-color: #800000; font-weight: bold\">(think a Google search) then returns the top search results.'</span><span style=\"color: #800000; text-decoration-color: #800000; font-weight: bold\">.</span>\n",
       "<span style=\"color: #800000; text-decoration-color: #800000; font-weight: bold\">It takes inputs: {</span><span style=\"color: #800000; text-decoration-color: #800000; font-weight: bold\">'query'</span><span style=\"color: #800000; text-decoration-color: #800000; font-weight: bold\">: {</span><span style=\"color: #800000; text-decoration-color: #800000; font-weight: bold\">'type'</span><span style=\"color: #800000; text-decoration-color: #800000; font-weight: bold\">: </span><span style=\"color: #800000; text-decoration-color: #800000; font-weight: bold\">'string'</span><span style=\"color: #800000; text-decoration-color: #800000; font-weight: bold\">, </span><span style=\"color: #800000; text-decoration-color: #800000; font-weight: bold\">'description'</span><span style=\"color: #800000; text-decoration-color: #800000; font-weight: bold\">: </span><span style=\"color: #800000; text-decoration-color: #800000; font-weight: bold\">'The search query to perform.'</span><span style=\"color: #800000; text-decoration-color: #800000; font-weight: bold\">}} and returns output </span>\n",
       "<span style=\"color: #800000; text-decoration-color: #800000; font-weight: bold\">type string</span>\n",
       "</pre>\n"
      ],
      "text/plain": [
       "\u001b[1;31mError whene executing tool web_search with arguments \u001b[0m\u001b[1;31m{\u001b[0m\u001b[1;31m'query'\u001b[0m\u001b[1;31m: \u001b[0m\u001b[1;31m'definition of preparatory survey in academic \u001b[0m\n",
       "\u001b[1;31mliterature'\u001b[0m\u001b[1;31m}\u001b[0m\u001b[1;31m: DuckDuckGoSearchException: \u001b[0m\u001b[1;4;31mhttps://html.duckduckgo.com/html\u001b[0m\u001b[1;31m RuntimeError: error sending request for \u001b[0m\n",
       "\u001b[1;31murl \u001b[0m\u001b[1;31m(\u001b[0m\u001b[1;4;31mhttps://html.duckduckgo.com/html\u001b[0m\u001b[1;4;31m)\u001b[0m\u001b[1;4;31m:\u001b[0m\u001b[1;31m client error \u001b[0m\u001b[1;31m(\u001b[0m\u001b[1;31mConnect\u001b[0m\u001b[1;31m)\u001b[0m\n",
       "\n",
       "\u001b[1;31mCaused by:\u001b[0m\n",
       "\u001b[1;31m    \u001b[0m\u001b[1;31m0\u001b[0m\u001b[1;31m: client error \u001b[0m\u001b[1;31m(\u001b[0m\u001b[1;31mConnect\u001b[0m\u001b[1;31m)\u001b[0m\n",
       "\u001b[1;31m    \u001b[0m\u001b[1;31m1\u001b[0m\u001b[1;31m: tcp connect error: Connection refused \u001b[0m\u001b[1;31m(\u001b[0m\u001b[1;31mos error \u001b[0m\u001b[1;31m111\u001b[0m\u001b[1;31m)\u001b[0m\n",
       "\u001b[1;31m    \u001b[0m\u001b[1;31m2\u001b[0m\u001b[1;31m: Connection refused \u001b[0m\u001b[1;31m(\u001b[0m\u001b[1;31mos error \u001b[0m\u001b[1;31m111\u001b[0m\u001b[1;31m)\u001b[0m\n",
       "\u001b[1;31mYou should only use this tool with a correct input.\u001b[0m\n",
       "\u001b[1;31mAs a reminder, this tool's description is the following: \u001b[0m\u001b[1;31m'Performs a duckduckgo web search based on your query \u001b[0m\n",
       "\u001b[1;31m(\u001b[0m\u001b[1;31mthink a Google search\u001b[0m\u001b[1;31m)\u001b[0m\u001b[1;31m then returns the top search results.'\u001b[0m\u001b[1;31m.\u001b[0m\n",
       "\u001b[1;31mIt takes inputs: \u001b[0m\u001b[1;31m{\u001b[0m\u001b[1;31m'query'\u001b[0m\u001b[1;31m: \u001b[0m\u001b[1;31m{\u001b[0m\u001b[1;31m'type'\u001b[0m\u001b[1;31m: \u001b[0m\u001b[1;31m'string'\u001b[0m\u001b[1;31m, \u001b[0m\u001b[1;31m'description'\u001b[0m\u001b[1;31m: \u001b[0m\u001b[1;31m'The search query to perform.'\u001b[0m\u001b[1;31m}\u001b[0m\u001b[1;31m}\u001b[0m\u001b[1;31m and returns output \u001b[0m\n",
       "\u001b[1;31mtype string\u001b[0m\n"
      ]
     },
     "metadata": {},
     "output_type": "display_data"
    },
    {
     "data": {
      "text/html": [
       "<pre style=\"white-space:pre;overflow-x:auto;line-height:normal;font-family:Menlo,'DejaVu Sans Mono',consolas,'Courier New',monospace\"><span style=\"color: #7f7f7f; text-decoration-color: #7f7f7f\">[Step 1: Duration 32.78 seconds| Input tokens: 3,887 | Output tokens: 50]</span>\n",
       "</pre>\n"
      ],
      "text/plain": [
       "\u001b[2m[Step 1: Duration 32.78 seconds| Input tokens: 3,887 | Output tokens: 50]\u001b[0m\n"
      ]
     },
     "metadata": {},
     "output_type": "display_data"
    },
    {
     "data": {
      "text/html": [
       "<pre style=\"white-space:pre;overflow-x:auto;line-height:normal;font-family:Menlo,'DejaVu Sans Mono',consolas,'Courier New',monospace\"><span style=\"color: #d4b702; text-decoration-color: #d4b702\">━━━━━━━━━━━━━━━━━━━━━━━━━━━━━━━━━━━━━━━━━━━━━━━━━━━━━ </span><span style=\"font-weight: bold\">Step </span><span style=\"color: #008080; text-decoration-color: #008080; font-weight: bold\">3</span><span style=\"color: #d4b702; text-decoration-color: #d4b702\"> ━━━━━━━━━━━━━━━━━━━━━━━━━━━━━━━━━━━━━━━━━━━━━━━━━━━━━━</span>\n",
       "</pre>\n"
      ],
      "text/plain": [
       "\u001b[38;2;212;183;2m━━━━━━━━━━━━━━━━━━━━━━━━━━━━━━━━━━━━━━━━━━━━━━━━━━━━━ \u001b[0m\u001b[1mStep \u001b[0m\u001b[1;36m3\u001b[0m\u001b[38;2;212;183;2m ━━━━━━━━━━━━━━━━━━━━━━━━━━━━━━━━━━━━━━━━━━━━━━━━━━━━━━\u001b[0m\n"
      ]
     },
     "metadata": {},
     "output_type": "display_data"
    },
    {
     "data": {
      "text/html": [
       "<pre style=\"white-space:pre;overflow-x:auto;line-height:normal;font-family:Menlo,'DejaVu Sans Mono',consolas,'Courier New',monospace\">╭─────────────────────────────────────────────────────────────────────────────────────────────────────────────────╮\n",
       "│ Calling tool: 'web_search' with arguments: {'query': 'definition of preparatory survey in professional          │\n",
       "│ contexts'}                                                                                                      │\n",
       "╰─────────────────────────────────────────────────────────────────────────────────────────────────────────────────╯\n",
       "</pre>\n"
      ],
      "text/plain": [
       "╭─────────────────────────────────────────────────────────────────────────────────────────────────────────────────╮\n",
       "│ Calling tool: 'web_search' with arguments: {'query': 'definition of preparatory survey in professional          │\n",
       "│ contexts'}                                                                                                      │\n",
       "╰─────────────────────────────────────────────────────────────────────────────────────────────────────────────────╯\n"
      ]
     },
     "metadata": {},
     "output_type": "display_data"
    },
    {
     "data": {
      "text/html": [
       "<pre style=\"white-space:pre;overflow-x:auto;line-height:normal;font-family:Menlo,'DejaVu Sans Mono',consolas,'Courier New',monospace\"><span style=\"color: #800000; text-decoration-color: #800000; font-weight: bold\">Error whene executing tool web_search with arguments {</span><span style=\"color: #800000; text-decoration-color: #800000; font-weight: bold\">'query'</span><span style=\"color: #800000; text-decoration-color: #800000; font-weight: bold\">: </span><span style=\"color: #800000; text-decoration-color: #800000; font-weight: bold\">'definition of preparatory survey in professional </span>\n",
       "<span style=\"color: #800000; text-decoration-color: #800000; font-weight: bold\">contexts'</span><span style=\"color: #800000; text-decoration-color: #800000; font-weight: bold\">}: DuckDuckGoSearchException: </span><span style=\"color: #800000; text-decoration-color: #800000; font-weight: bold; text-decoration: underline\">https://lite.duckduckgo.com/lite/</span><span style=\"color: #800000; text-decoration-color: #800000; font-weight: bold\"> RuntimeError: error sending request for </span>\n",
       "<span style=\"color: #800000; text-decoration-color: #800000; font-weight: bold\">url (</span><span style=\"color: #800000; text-decoration-color: #800000; font-weight: bold; text-decoration: underline\">https://lite.duckduckgo.com/lite/):</span><span style=\"color: #800000; text-decoration-color: #800000; font-weight: bold\"> client error (Connect)</span>\n",
       "\n",
       "<span style=\"color: #800000; text-decoration-color: #800000; font-weight: bold\">Caused by:</span>\n",
       "<span style=\"color: #800000; text-decoration-color: #800000; font-weight: bold\">    </span><span style=\"color: #800000; text-decoration-color: #800000; font-weight: bold\">0</span><span style=\"color: #800000; text-decoration-color: #800000; font-weight: bold\">: client error (Connect)</span>\n",
       "<span style=\"color: #800000; text-decoration-color: #800000; font-weight: bold\">    </span><span style=\"color: #800000; text-decoration-color: #800000; font-weight: bold\">1</span><span style=\"color: #800000; text-decoration-color: #800000; font-weight: bold\">: tcp connect error: Connection refused (os error </span><span style=\"color: #800000; text-decoration-color: #800000; font-weight: bold\">111</span><span style=\"color: #800000; text-decoration-color: #800000; font-weight: bold\">)</span>\n",
       "<span style=\"color: #800000; text-decoration-color: #800000; font-weight: bold\">    </span><span style=\"color: #800000; text-decoration-color: #800000; font-weight: bold\">2</span><span style=\"color: #800000; text-decoration-color: #800000; font-weight: bold\">: Connection refused (os error </span><span style=\"color: #800000; text-decoration-color: #800000; font-weight: bold\">111</span><span style=\"color: #800000; text-decoration-color: #800000; font-weight: bold\">)</span>\n",
       "<span style=\"color: #800000; text-decoration-color: #800000; font-weight: bold\">You should only use this tool with a correct input.</span>\n",
       "<span style=\"color: #800000; text-decoration-color: #800000; font-weight: bold\">As a reminder, this tool's description is the following: </span><span style=\"color: #800000; text-decoration-color: #800000; font-weight: bold\">'Performs a duckduckgo web search based on your query </span>\n",
       "<span style=\"color: #800000; text-decoration-color: #800000; font-weight: bold\">(think a Google search) then returns the top search results.'</span><span style=\"color: #800000; text-decoration-color: #800000; font-weight: bold\">.</span>\n",
       "<span style=\"color: #800000; text-decoration-color: #800000; font-weight: bold\">It takes inputs: {</span><span style=\"color: #800000; text-decoration-color: #800000; font-weight: bold\">'query'</span><span style=\"color: #800000; text-decoration-color: #800000; font-weight: bold\">: {</span><span style=\"color: #800000; text-decoration-color: #800000; font-weight: bold\">'type'</span><span style=\"color: #800000; text-decoration-color: #800000; font-weight: bold\">: </span><span style=\"color: #800000; text-decoration-color: #800000; font-weight: bold\">'string'</span><span style=\"color: #800000; text-decoration-color: #800000; font-weight: bold\">, </span><span style=\"color: #800000; text-decoration-color: #800000; font-weight: bold\">'description'</span><span style=\"color: #800000; text-decoration-color: #800000; font-weight: bold\">: </span><span style=\"color: #800000; text-decoration-color: #800000; font-weight: bold\">'The search query to perform.'</span><span style=\"color: #800000; text-decoration-color: #800000; font-weight: bold\">}} and returns output </span>\n",
       "<span style=\"color: #800000; text-decoration-color: #800000; font-weight: bold\">type string</span>\n",
       "</pre>\n"
      ],
      "text/plain": [
       "\u001b[1;31mError whene executing tool web_search with arguments \u001b[0m\u001b[1;31m{\u001b[0m\u001b[1;31m'query'\u001b[0m\u001b[1;31m: \u001b[0m\u001b[1;31m'definition of preparatory survey in professional \u001b[0m\n",
       "\u001b[1;31mcontexts'\u001b[0m\u001b[1;31m}\u001b[0m\u001b[1;31m: DuckDuckGoSearchException: \u001b[0m\u001b[1;4;31mhttps://lite.duckduckgo.com/lite/\u001b[0m\u001b[1;31m RuntimeError: error sending request for \u001b[0m\n",
       "\u001b[1;31murl \u001b[0m\u001b[1;31m(\u001b[0m\u001b[1;4;31mhttps://lite.duckduckgo.com/lite/\u001b[0m\u001b[1;4;31m)\u001b[0m\u001b[1;4;31m:\u001b[0m\u001b[1;31m client error \u001b[0m\u001b[1;31m(\u001b[0m\u001b[1;31mConnect\u001b[0m\u001b[1;31m)\u001b[0m\n",
       "\n",
       "\u001b[1;31mCaused by:\u001b[0m\n",
       "\u001b[1;31m    \u001b[0m\u001b[1;31m0\u001b[0m\u001b[1;31m: client error \u001b[0m\u001b[1;31m(\u001b[0m\u001b[1;31mConnect\u001b[0m\u001b[1;31m)\u001b[0m\n",
       "\u001b[1;31m    \u001b[0m\u001b[1;31m1\u001b[0m\u001b[1;31m: tcp connect error: Connection refused \u001b[0m\u001b[1;31m(\u001b[0m\u001b[1;31mos error \u001b[0m\u001b[1;31m111\u001b[0m\u001b[1;31m)\u001b[0m\n",
       "\u001b[1;31m    \u001b[0m\u001b[1;31m2\u001b[0m\u001b[1;31m: Connection refused \u001b[0m\u001b[1;31m(\u001b[0m\u001b[1;31mos error \u001b[0m\u001b[1;31m111\u001b[0m\u001b[1;31m)\u001b[0m\n",
       "\u001b[1;31mYou should only use this tool with a correct input.\u001b[0m\n",
       "\u001b[1;31mAs a reminder, this tool's description is the following: \u001b[0m\u001b[1;31m'Performs a duckduckgo web search based on your query \u001b[0m\n",
       "\u001b[1;31m(\u001b[0m\u001b[1;31mthink a Google search\u001b[0m\u001b[1;31m)\u001b[0m\u001b[1;31m then returns the top search results.'\u001b[0m\u001b[1;31m.\u001b[0m\n",
       "\u001b[1;31mIt takes inputs: \u001b[0m\u001b[1;31m{\u001b[0m\u001b[1;31m'query'\u001b[0m\u001b[1;31m: \u001b[0m\u001b[1;31m{\u001b[0m\u001b[1;31m'type'\u001b[0m\u001b[1;31m: \u001b[0m\u001b[1;31m'string'\u001b[0m\u001b[1;31m, \u001b[0m\u001b[1;31m'description'\u001b[0m\u001b[1;31m: \u001b[0m\u001b[1;31m'The search query to perform.'\u001b[0m\u001b[1;31m}\u001b[0m\u001b[1;31m}\u001b[0m\u001b[1;31m and returns output \u001b[0m\n",
       "\u001b[1;31mtype string\u001b[0m\n"
      ]
     },
     "metadata": {},
     "output_type": "display_data"
    },
    {
     "data": {
      "text/html": [
       "<pre style=\"white-space:pre;overflow-x:auto;line-height:normal;font-family:Menlo,'DejaVu Sans Mono',consolas,'Courier New',monospace\"><span style=\"color: #7f7f7f; text-decoration-color: #7f7f7f\">[Step 2: Duration 32.64 seconds| Input tokens: 6,337 | Output tokens: 74]</span>\n",
       "</pre>\n"
      ],
      "text/plain": [
       "\u001b[2m[Step 2: Duration 32.64 seconds| Input tokens: 6,337 | Output tokens: 74]\u001b[0m\n"
      ]
     },
     "metadata": {},
     "output_type": "display_data"
    },
    {
     "data": {
      "text/html": [
       "<pre style=\"white-space:pre;overflow-x:auto;line-height:normal;font-family:Menlo,'DejaVu Sans Mono',consolas,'Courier New',monospace\"><span style=\"color: #d4b702; text-decoration-color: #d4b702\">━━━━━━━━━━━━━━━━━━━━━━━━━━━━━━━━━━━━━━━━━━━━━━━━━━━━━ </span><span style=\"font-weight: bold\">Step </span><span style=\"color: #008080; text-decoration-color: #008080; font-weight: bold\">4</span><span style=\"color: #d4b702; text-decoration-color: #d4b702\"> ━━━━━━━━━━━━━━━━━━━━━━━━━━━━━━━━━━━━━━━━━━━━━━━━━━━━━━</span>\n",
       "</pre>\n"
      ],
      "text/plain": [
       "\u001b[38;2;212;183;2m━━━━━━━━━━━━━━━━━━━━━━━━━━━━━━━━━━━━━━━━━━━━━━━━━━━━━ \u001b[0m\u001b[1mStep \u001b[0m\u001b[1;36m4\u001b[0m\u001b[38;2;212;183;2m ━━━━━━━━━━━━━━━━━━━━━━━━━━━━━━━━━━━━━━━━━━━━━━━━━━━━━━\u001b[0m\n"
      ]
     },
     "metadata": {},
     "output_type": "display_data"
    },
    {
     "data": {
      "text/html": [
       "<pre style=\"white-space:pre;overflow-x:auto;line-height:normal;font-family:Menlo,'DejaVu Sans Mono',consolas,'Courier New',monospace\">╭─────────────────────────────────────────────────────────────────────────────────────────────────────────────────╮\n",
       "│ Calling tool: 'web_search' with arguments: {'query': 'definition of preparatory survey in engineering           │\n",
       "│ projects'}                                                                                                      │\n",
       "╰─────────────────────────────────────────────────────────────────────────────────────────────────────────────────╯\n",
       "</pre>\n"
      ],
      "text/plain": [
       "╭─────────────────────────────────────────────────────────────────────────────────────────────────────────────────╮\n",
       "│ Calling tool: 'web_search' with arguments: {'query': 'definition of preparatory survey in engineering           │\n",
       "│ projects'}                                                                                                      │\n",
       "╰─────────────────────────────────────────────────────────────────────────────────────────────────────────────────╯\n"
      ]
     },
     "metadata": {},
     "output_type": "display_data"
    },
    {
     "data": {
      "text/html": [
       "<pre style=\"white-space:pre;overflow-x:auto;line-height:normal;font-family:Menlo,'DejaVu Sans Mono',consolas,'Courier New',monospace\"><span style=\"color: #800000; text-decoration-color: #800000; font-weight: bold\">Error whene executing tool web_search with arguments {</span><span style=\"color: #800000; text-decoration-color: #800000; font-weight: bold\">'query'</span><span style=\"color: #800000; text-decoration-color: #800000; font-weight: bold\">: </span><span style=\"color: #800000; text-decoration-color: #800000; font-weight: bold\">'definition of preparatory survey in engineering </span>\n",
       "<span style=\"color: #800000; text-decoration-color: #800000; font-weight: bold\">projects'</span><span style=\"color: #800000; text-decoration-color: #800000; font-weight: bold\">}: DuckDuckGoSearchException: </span><span style=\"color: #800000; text-decoration-color: #800000; font-weight: bold; text-decoration: underline\">https://html.duckduckgo.com/html</span><span style=\"color: #800000; text-decoration-color: #800000; font-weight: bold\"> RuntimeError: error sending request for url</span>\n",
       "<span style=\"color: #800000; text-decoration-color: #800000; font-weight: bold\">(</span><span style=\"color: #800000; text-decoration-color: #800000; font-weight: bold; text-decoration: underline\">https://html.duckduckgo.com/html):</span><span style=\"color: #800000; text-decoration-color: #800000; font-weight: bold\"> client error (Connect)</span>\n",
       "\n",
       "<span style=\"color: #800000; text-decoration-color: #800000; font-weight: bold\">Caused by:</span>\n",
       "<span style=\"color: #800000; text-decoration-color: #800000; font-weight: bold\">    </span><span style=\"color: #800000; text-decoration-color: #800000; font-weight: bold\">0</span><span style=\"color: #800000; text-decoration-color: #800000; font-weight: bold\">: client error (Connect)</span>\n",
       "<span style=\"color: #800000; text-decoration-color: #800000; font-weight: bold\">    </span><span style=\"color: #800000; text-decoration-color: #800000; font-weight: bold\">1</span><span style=\"color: #800000; text-decoration-color: #800000; font-weight: bold\">: tcp connect error: Connection refused (os error </span><span style=\"color: #800000; text-decoration-color: #800000; font-weight: bold\">111</span><span style=\"color: #800000; text-decoration-color: #800000; font-weight: bold\">)</span>\n",
       "<span style=\"color: #800000; text-decoration-color: #800000; font-weight: bold\">    </span><span style=\"color: #800000; text-decoration-color: #800000; font-weight: bold\">2</span><span style=\"color: #800000; text-decoration-color: #800000; font-weight: bold\">: Connection refused (os error </span><span style=\"color: #800000; text-decoration-color: #800000; font-weight: bold\">111</span><span style=\"color: #800000; text-decoration-color: #800000; font-weight: bold\">)</span>\n",
       "<span style=\"color: #800000; text-decoration-color: #800000; font-weight: bold\">You should only use this tool with a correct input.</span>\n",
       "<span style=\"color: #800000; text-decoration-color: #800000; font-weight: bold\">As a reminder, this tool's description is the following: </span><span style=\"color: #800000; text-decoration-color: #800000; font-weight: bold\">'Performs a duckduckgo web search based on your query </span>\n",
       "<span style=\"color: #800000; text-decoration-color: #800000; font-weight: bold\">(think a Google search) then returns the top search results.'</span><span style=\"color: #800000; text-decoration-color: #800000; font-weight: bold\">.</span>\n",
       "<span style=\"color: #800000; text-decoration-color: #800000; font-weight: bold\">It takes inputs: {</span><span style=\"color: #800000; text-decoration-color: #800000; font-weight: bold\">'query'</span><span style=\"color: #800000; text-decoration-color: #800000; font-weight: bold\">: {</span><span style=\"color: #800000; text-decoration-color: #800000; font-weight: bold\">'type'</span><span style=\"color: #800000; text-decoration-color: #800000; font-weight: bold\">: </span><span style=\"color: #800000; text-decoration-color: #800000; font-weight: bold\">'string'</span><span style=\"color: #800000; text-decoration-color: #800000; font-weight: bold\">, </span><span style=\"color: #800000; text-decoration-color: #800000; font-weight: bold\">'description'</span><span style=\"color: #800000; text-decoration-color: #800000; font-weight: bold\">: </span><span style=\"color: #800000; text-decoration-color: #800000; font-weight: bold\">'The search query to perform.'</span><span style=\"color: #800000; text-decoration-color: #800000; font-weight: bold\">}} and returns output </span>\n",
       "<span style=\"color: #800000; text-decoration-color: #800000; font-weight: bold\">type string</span>\n",
       "</pre>\n"
      ],
      "text/plain": [
       "\u001b[1;31mError whene executing tool web_search with arguments \u001b[0m\u001b[1;31m{\u001b[0m\u001b[1;31m'query'\u001b[0m\u001b[1;31m: \u001b[0m\u001b[1;31m'definition of preparatory survey in engineering \u001b[0m\n",
       "\u001b[1;31mprojects'\u001b[0m\u001b[1;31m}\u001b[0m\u001b[1;31m: DuckDuckGoSearchException: \u001b[0m\u001b[1;4;31mhttps://html.duckduckgo.com/html\u001b[0m\u001b[1;31m RuntimeError: error sending request for url\u001b[0m\n",
       "\u001b[1;31m(\u001b[0m\u001b[1;4;31mhttps://html.duckduckgo.com/html\u001b[0m\u001b[1;4;31m)\u001b[0m\u001b[1;4;31m:\u001b[0m\u001b[1;31m client error \u001b[0m\u001b[1;31m(\u001b[0m\u001b[1;31mConnect\u001b[0m\u001b[1;31m)\u001b[0m\n",
       "\n",
       "\u001b[1;31mCaused by:\u001b[0m\n",
       "\u001b[1;31m    \u001b[0m\u001b[1;31m0\u001b[0m\u001b[1;31m: client error \u001b[0m\u001b[1;31m(\u001b[0m\u001b[1;31mConnect\u001b[0m\u001b[1;31m)\u001b[0m\n",
       "\u001b[1;31m    \u001b[0m\u001b[1;31m1\u001b[0m\u001b[1;31m: tcp connect error: Connection refused \u001b[0m\u001b[1;31m(\u001b[0m\u001b[1;31mos error \u001b[0m\u001b[1;31m111\u001b[0m\u001b[1;31m)\u001b[0m\n",
       "\u001b[1;31m    \u001b[0m\u001b[1;31m2\u001b[0m\u001b[1;31m: Connection refused \u001b[0m\u001b[1;31m(\u001b[0m\u001b[1;31mos error \u001b[0m\u001b[1;31m111\u001b[0m\u001b[1;31m)\u001b[0m\n",
       "\u001b[1;31mYou should only use this tool with a correct input.\u001b[0m\n",
       "\u001b[1;31mAs a reminder, this tool's description is the following: \u001b[0m\u001b[1;31m'Performs a duckduckgo web search based on your query \u001b[0m\n",
       "\u001b[1;31m(\u001b[0m\u001b[1;31mthink a Google search\u001b[0m\u001b[1;31m)\u001b[0m\u001b[1;31m then returns the top search results.'\u001b[0m\u001b[1;31m.\u001b[0m\n",
       "\u001b[1;31mIt takes inputs: \u001b[0m\u001b[1;31m{\u001b[0m\u001b[1;31m'query'\u001b[0m\u001b[1;31m: \u001b[0m\u001b[1;31m{\u001b[0m\u001b[1;31m'type'\u001b[0m\u001b[1;31m: \u001b[0m\u001b[1;31m'string'\u001b[0m\u001b[1;31m, \u001b[0m\u001b[1;31m'description'\u001b[0m\u001b[1;31m: \u001b[0m\u001b[1;31m'The search query to perform.'\u001b[0m\u001b[1;31m}\u001b[0m\u001b[1;31m}\u001b[0m\u001b[1;31m and returns output \u001b[0m\n",
       "\u001b[1;31mtype string\u001b[0m\n"
      ]
     },
     "metadata": {},
     "output_type": "display_data"
    },
    {
     "data": {
      "text/html": [
       "<pre style=\"white-space:pre;overflow-x:auto;line-height:normal;font-family:Menlo,'DejaVu Sans Mono',consolas,'Courier New',monospace\"><span style=\"color: #7f7f7f; text-decoration-color: #7f7f7f\">[Step 3: Duration 32.81 seconds| Input tokens: 9,124 | Output tokens: 103]</span>\n",
       "</pre>\n"
      ],
      "text/plain": [
       "\u001b[2m[Step 3: Duration 32.81 seconds| Input tokens: 9,124 | Output tokens: 103]\u001b[0m\n"
      ]
     },
     "metadata": {},
     "output_type": "display_data"
    },
    {
     "data": {
      "text/html": [
       "<pre style=\"white-space:pre;overflow-x:auto;line-height:normal;font-family:Menlo,'DejaVu Sans Mono',consolas,'Courier New',monospace\"><span style=\"color: #d4b702; text-decoration-color: #d4b702\">━━━━━━━━━━━━━━━━━━━━━━━━━━━━━━━━━━━━━━━━━━━━━━━━━━━━━ </span><span style=\"font-weight: bold\">Step </span><span style=\"color: #008080; text-decoration-color: #008080; font-weight: bold\">5</span><span style=\"color: #d4b702; text-decoration-color: #d4b702\"> ━━━━━━━━━━━━━━━━━━━━━━━━━━━━━━━━━━━━━━━━━━━━━━━━━━━━━━</span>\n",
       "</pre>\n"
      ],
      "text/plain": [
       "\u001b[38;2;212;183;2m━━━━━━━━━━━━━━━━━━━━━━━━━━━━━━━━━━━━━━━━━━━━━━━━━━━━━ \u001b[0m\u001b[1mStep \u001b[0m\u001b[1;36m5\u001b[0m\u001b[38;2;212;183;2m ━━━━━━━━━━━━━━━━━━━━━━━━━━━━━━━━━━━━━━━━━━━━━━━━━━━━━━\u001b[0m\n"
      ]
     },
     "metadata": {},
     "output_type": "display_data"
    },
    {
     "data": {
      "text/html": [
       "<pre style=\"white-space:pre;overflow-x:auto;line-height:normal;font-family:Menlo,'DejaVu Sans Mono',consolas,'Courier New',monospace\">╭─────────────────────────────────────────────────────────────────────────────────────────────────────────────────╮\n",
       "│ Calling tool: 'final_answer' with arguments: {'answer': '### 1. Task outcome (short version):\\nA preparatory    │\n",
       "│ survey is an initial investigation or examination conducted before the start of a project to gather essential   │\n",
       "│ information about the site or subject area.\\n\\n### 2. Task outcome (extremely detailed version):\\nA preparatory │\n",
       "│ survey, often referred to as a reconnaissance survey or preliminary survey, is a critical initial phase in      │\n",
       "│ various fields such as engineering, urban planning, environmental assessment, and research. It involves a       │\n",
       "│ systematic collection of data and information about the existing conditions of a site or subject area before    │\n",
       "│ any detailed work begins. The primary purpose of a preparatory survey is to identify potential issues,          │\n",
       "│ understand the current state of the environment, and gather necessary baseline data that can inform subsequent  │\n",
       "│ project planning and decision-making processes.\\n\\nIn engineering projects, for example, a preparatory survey   │\n",
       "│ might include mapping out topography, identifying existing structures or utilities, assessing soil conditions,  │\n",
       "│ and evaluating environmental factors. In urban planning, it could involve analyzing current land use patterns,  │\n",
       "│ traffic flows, and community needs. The survey results are typically documented in detailed reports that serve  │\n",
       "│ as foundational references throughout the project lifecycle.\\n\\n### 3. Additional context (if relevant):\\nWhile │\n",
       "│ web search functionality is currently experiencing issues, preparatory surveys are widely recognized across     │\n",
       "│ multiple disciplines. They are essential for minimizing risks associated with unforeseen challenges during      │\n",
       "│ project execution and ensuring that projects are designed to be efficient, effective, and sustainable.'}        │\n",
       "╰─────────────────────────────────────────────────────────────────────────────────────────────────────────────────╯\n",
       "</pre>\n"
      ],
      "text/plain": [
       "╭─────────────────────────────────────────────────────────────────────────────────────────────────────────────────╮\n",
       "│ Calling tool: 'final_answer' with arguments: {'answer': '### 1. Task outcome (short version):\\nA preparatory    │\n",
       "│ survey is an initial investigation or examination conducted before the start of a project to gather essential   │\n",
       "│ information about the site or subject area.\\n\\n### 2. Task outcome (extremely detailed version):\\nA preparatory │\n",
       "│ survey, often referred to as a reconnaissance survey or preliminary survey, is a critical initial phase in      │\n",
       "│ various fields such as engineering, urban planning, environmental assessment, and research. It involves a       │\n",
       "│ systematic collection of data and information about the existing conditions of a site or subject area before    │\n",
       "│ any detailed work begins. The primary purpose of a preparatory survey is to identify potential issues,          │\n",
       "│ understand the current state of the environment, and gather necessary baseline data that can inform subsequent  │\n",
       "│ project planning and decision-making processes.\\n\\nIn engineering projects, for example, a preparatory survey   │\n",
       "│ might include mapping out topography, identifying existing structures or utilities, assessing soil conditions,  │\n",
       "│ and evaluating environmental factors. In urban planning, it could involve analyzing current land use patterns,  │\n",
       "│ traffic flows, and community needs. The survey results are typically documented in detailed reports that serve  │\n",
       "│ as foundational references throughout the project lifecycle.\\n\\n### 3. Additional context (if relevant):\\nWhile │\n",
       "│ web search functionality is currently experiencing issues, preparatory surveys are widely recognized across     │\n",
       "│ multiple disciplines. They are essential for minimizing risks associated with unforeseen challenges during      │\n",
       "│ project execution and ensuring that projects are designed to be efficient, effective, and sustainable.'}        │\n",
       "╰─────────────────────────────────────────────────────────────────────────────────────────────────────────────────╯\n"
      ]
     },
     "metadata": {},
     "output_type": "display_data"
    },
    {
     "data": {
      "text/html": [
       "<pre style=\"white-space:pre;overflow-x:auto;line-height:normal;font-family:Menlo,'DejaVu Sans Mono',consolas,'Courier New',monospace\"><span style=\"color: #d4b702; text-decoration-color: #d4b702; font-weight: bold\">Final answer: ### 1. Task outcome (short version):</span>\n",
       "<span style=\"color: #d4b702; text-decoration-color: #d4b702; font-weight: bold\">A preparatory survey is an initial investigation or examination conducted before the start of a project to gather </span>\n",
       "<span style=\"color: #d4b702; text-decoration-color: #d4b702; font-weight: bold\">essential information about the site or subject area.</span>\n",
       "\n",
       "<span style=\"color: #d4b702; text-decoration-color: #d4b702; font-weight: bold\">### 2. Task outcome (extremely detailed version):</span>\n",
       "<span style=\"color: #d4b702; text-decoration-color: #d4b702; font-weight: bold\">A preparatory survey, often referred to as a reconnaissance survey or preliminary survey, is a critical initial </span>\n",
       "<span style=\"color: #d4b702; text-decoration-color: #d4b702; font-weight: bold\">phase in various fields such as engineering, urban planning, environmental assessment, and research. It involves a </span>\n",
       "<span style=\"color: #d4b702; text-decoration-color: #d4b702; font-weight: bold\">systematic collection of data and information about the existing conditions of a site or subject area before any </span>\n",
       "<span style=\"color: #d4b702; text-decoration-color: #d4b702; font-weight: bold\">detailed work begins. The primary purpose of a preparatory survey is to identify potential issues, understand the </span>\n",
       "<span style=\"color: #d4b702; text-decoration-color: #d4b702; font-weight: bold\">current state of the environment, and gather necessary baseline data that can inform subsequent project planning </span>\n",
       "<span style=\"color: #d4b702; text-decoration-color: #d4b702; font-weight: bold\">and decision-making processes.</span>\n",
       "\n",
       "<span style=\"color: #d4b702; text-decoration-color: #d4b702; font-weight: bold\">In engineering projects, for example, a preparatory survey might include mapping out topography, identifying </span>\n",
       "<span style=\"color: #d4b702; text-decoration-color: #d4b702; font-weight: bold\">existing structures or utilities, assessing soil conditions, and evaluating environmental factors. In urban </span>\n",
       "<span style=\"color: #d4b702; text-decoration-color: #d4b702; font-weight: bold\">planning, it could involve analyzing current land use patterns, traffic flows, and community needs. The survey </span>\n",
       "<span style=\"color: #d4b702; text-decoration-color: #d4b702; font-weight: bold\">results are typically documented in detailed reports that serve as foundational references throughout the project </span>\n",
       "<span style=\"color: #d4b702; text-decoration-color: #d4b702; font-weight: bold\">lifecycle.</span>\n",
       "\n",
       "<span style=\"color: #d4b702; text-decoration-color: #d4b702; font-weight: bold\">### 3. Additional context (if relevant):</span>\n",
       "<span style=\"color: #d4b702; text-decoration-color: #d4b702; font-weight: bold\">While web search functionality is currently experiencing issues, preparatory surveys are widely recognized across </span>\n",
       "<span style=\"color: #d4b702; text-decoration-color: #d4b702; font-weight: bold\">multiple disciplines. They are essential for minimizing risks associated with unforeseen challenges during project </span>\n",
       "<span style=\"color: #d4b702; text-decoration-color: #d4b702; font-weight: bold\">execution and ensuring that projects are designed to be efficient, effective, and sustainable.</span>\n",
       "</pre>\n"
      ],
      "text/plain": [
       "\u001b[1;38;2;212;183;2mFinal answer: ### 1. Task outcome (short version):\u001b[0m\n",
       "\u001b[1;38;2;212;183;2mA preparatory survey is an initial investigation or examination conducted before the start of a project to gather \u001b[0m\n",
       "\u001b[1;38;2;212;183;2messential information about the site or subject area.\u001b[0m\n",
       "\n",
       "\u001b[1;38;2;212;183;2m### 2. Task outcome (extremely detailed version):\u001b[0m\n",
       "\u001b[1;38;2;212;183;2mA preparatory survey, often referred to as a reconnaissance survey or preliminary survey, is a critical initial \u001b[0m\n",
       "\u001b[1;38;2;212;183;2mphase in various fields such as engineering, urban planning, environmental assessment, and research. It involves a \u001b[0m\n",
       "\u001b[1;38;2;212;183;2msystematic collection of data and information about the existing conditions of a site or subject area before any \u001b[0m\n",
       "\u001b[1;38;2;212;183;2mdetailed work begins. The primary purpose of a preparatory survey is to identify potential issues, understand the \u001b[0m\n",
       "\u001b[1;38;2;212;183;2mcurrent state of the environment, and gather necessary baseline data that can inform subsequent project planning \u001b[0m\n",
       "\u001b[1;38;2;212;183;2mand decision-making processes.\u001b[0m\n",
       "\n",
       "\u001b[1;38;2;212;183;2mIn engineering projects, for example, a preparatory survey might include mapping out topography, identifying \u001b[0m\n",
       "\u001b[1;38;2;212;183;2mexisting structures or utilities, assessing soil conditions, and evaluating environmental factors. In urban \u001b[0m\n",
       "\u001b[1;38;2;212;183;2mplanning, it could involve analyzing current land use patterns, traffic flows, and community needs. The survey \u001b[0m\n",
       "\u001b[1;38;2;212;183;2mresults are typically documented in detailed reports that serve as foundational references throughout the project \u001b[0m\n",
       "\u001b[1;38;2;212;183;2mlifecycle.\u001b[0m\n",
       "\n",
       "\u001b[1;38;2;212;183;2m### 3. Additional context (if relevant):\u001b[0m\n",
       "\u001b[1;38;2;212;183;2mWhile web search functionality is currently experiencing issues, preparatory surveys are widely recognized across \u001b[0m\n",
       "\u001b[1;38;2;212;183;2mmultiple disciplines. They are essential for minimizing risks associated with unforeseen challenges during project \u001b[0m\n",
       "\u001b[1;38;2;212;183;2mexecution and ensuring that projects are designed to be efficient, effective, and sustainable.\u001b[0m\n"
      ]
     },
     "metadata": {},
     "output_type": "display_data"
    },
    {
     "data": {
      "text/html": [
       "<pre style=\"white-space:pre;overflow-x:auto;line-height:normal;font-family:Menlo,'DejaVu Sans Mono',consolas,'Courier New',monospace\"><span style=\"color: #7f7f7f; text-decoration-color: #7f7f7f\">[Step 4: Duration 8.74 seconds| Input tokens: 12,246 | Output tokens: 408]</span>\n",
       "</pre>\n"
      ],
      "text/plain": [
       "\u001b[2m[Step 4: Duration 8.74 seconds| Input tokens: 12,246 | Output tokens: 408]\u001b[0m\n"
      ]
     },
     "metadata": {},
     "output_type": "display_data"
    },
    {
     "data": {
      "text/html": [
       "<pre style=\"white-space:pre;overflow-x:auto;line-height:normal;font-family:Menlo,'DejaVu Sans Mono',consolas,'Courier New',monospace\"><span style=\"color: #d4b702; text-decoration-color: #d4b702\">╭────────────────────────────────────────────── </span><span style=\"color: #d4b702; text-decoration-color: #d4b702; font-weight: bold\">New run - Web_agent</span><span style=\"color: #d4b702; text-decoration-color: #d4b702\"> ──────────────────────────────────────────────╮</span>\n",
       "<span style=\"color: #d4b702; text-decoration-color: #d4b702\">│</span>                                                                                                                 <span style=\"color: #d4b702; text-decoration-color: #d4b702\">│</span>\n",
       "<span style=\"color: #d4b702; text-decoration-color: #d4b702\">│</span> <span style=\"font-weight: bold\">You're a helpful agent named 'Web_agent'.</span>                                                                       <span style=\"color: #d4b702; text-decoration-color: #d4b702\">│</span>\n",
       "<span style=\"color: #d4b702; text-decoration-color: #d4b702\">│</span> <span style=\"font-weight: bold\">You have been submitted this task by your manager.</span>                                                              <span style=\"color: #d4b702; text-decoration-color: #d4b702\">│</span>\n",
       "<span style=\"color: #d4b702; text-decoration-color: #d4b702\">│</span> <span style=\"font-weight: bold\">---</span>                                                                                                             <span style=\"color: #d4b702; text-decoration-color: #d4b702\">│</span>\n",
       "<span style=\"color: #d4b702; text-decoration-color: #d4b702\">│</span> <span style=\"font-weight: bold\">Task:</span>                                                                                                           <span style=\"color: #d4b702; text-decoration-color: #d4b702\">│</span>\n",
       "<span style=\"color: #d4b702; text-decoration-color: #d4b702\">│</span> <span style=\"font-weight: bold\">Gather guidelines on the structure of a comprehensive preparatory survey from professional organizations or </span>    <span style=\"color: #d4b702; text-decoration-color: #d4b702\">│</span>\n",
       "<span style=\"color: #d4b702; text-decoration-color: #d4b702\">│</span> <span style=\"font-weight: bold\">industry standards documents.</span>                                                                                   <span style=\"color: #d4b702; text-decoration-color: #d4b702\">│</span>\n",
       "<span style=\"color: #d4b702; text-decoration-color: #d4b702\">│</span> <span style=\"font-weight: bold\">---</span>                                                                                                             <span style=\"color: #d4b702; text-decoration-color: #d4b702\">│</span>\n",
       "<span style=\"color: #d4b702; text-decoration-color: #d4b702\">│</span> <span style=\"font-weight: bold\">You're helping your manager solve a wider task: so make sure to not provide a one-line answer, but give as much</span> <span style=\"color: #d4b702; text-decoration-color: #d4b702\">│</span>\n",
       "<span style=\"color: #d4b702; text-decoration-color: #d4b702\">│</span> <span style=\"font-weight: bold\">information as possible to give them a clear understanding of the answer.</span>                                       <span style=\"color: #d4b702; text-decoration-color: #d4b702\">│</span>\n",
       "<span style=\"color: #d4b702; text-decoration-color: #d4b702\">│</span>                                                                                                                 <span style=\"color: #d4b702; text-decoration-color: #d4b702\">│</span>\n",
       "<span style=\"color: #d4b702; text-decoration-color: #d4b702\">│</span> <span style=\"font-weight: bold\">Your final_answer WILL HAVE to contain these parts:</span>                                                             <span style=\"color: #d4b702; text-decoration-color: #d4b702\">│</span>\n",
       "<span style=\"color: #d4b702; text-decoration-color: #d4b702\">│</span> <span style=\"font-weight: bold\">### 1. Task outcome (short version):</span>                                                                            <span style=\"color: #d4b702; text-decoration-color: #d4b702\">│</span>\n",
       "<span style=\"color: #d4b702; text-decoration-color: #d4b702\">│</span> <span style=\"font-weight: bold\">### 2. Task outcome (extremely detailed version):</span>                                                               <span style=\"color: #d4b702; text-decoration-color: #d4b702\">│</span>\n",
       "<span style=\"color: #d4b702; text-decoration-color: #d4b702\">│</span> <span style=\"font-weight: bold\">### 3. Additional context (if relevant):</span>                                                                        <span style=\"color: #d4b702; text-decoration-color: #d4b702\">│</span>\n",
       "<span style=\"color: #d4b702; text-decoration-color: #d4b702\">│</span>                                                                                                                 <span style=\"color: #d4b702; text-decoration-color: #d4b702\">│</span>\n",
       "<span style=\"color: #d4b702; text-decoration-color: #d4b702\">│</span> <span style=\"font-weight: bold\">Put all these in your final_answer tool, everything that you do not pass as an argument to final_answer will be</span> <span style=\"color: #d4b702; text-decoration-color: #d4b702\">│</span>\n",
       "<span style=\"color: #d4b702; text-decoration-color: #d4b702\">│</span> <span style=\"font-weight: bold\">lost.</span>                                                                                                           <span style=\"color: #d4b702; text-decoration-color: #d4b702\">│</span>\n",
       "<span style=\"color: #d4b702; text-decoration-color: #d4b702\">│</span> <span style=\"font-weight: bold\">And even if your task resolution is not successful, please return as much context as possible, so that your </span>    <span style=\"color: #d4b702; text-decoration-color: #d4b702\">│</span>\n",
       "<span style=\"color: #d4b702; text-decoration-color: #d4b702\">│</span> <span style=\"font-weight: bold\">manager can act upon this feedback.</span>                                                                             <span style=\"color: #d4b702; text-decoration-color: #d4b702\">│</span>\n",
       "<span style=\"color: #d4b702; text-decoration-color: #d4b702\">│</span>                                                                                                                 <span style=\"color: #d4b702; text-decoration-color: #d4b702\">│</span>\n",
       "<span style=\"color: #d4b702; text-decoration-color: #d4b702\">╰─ LiteLLMModel - ollama/qwen2.5-coder:32b ───────────────────────────────────────────────────────────────────────╯</span>\n",
       "</pre>\n"
      ],
      "text/plain": [
       "\u001b[38;2;212;183;2m╭─\u001b[0m\u001b[38;2;212;183;2m─────────────────────────────────────────────\u001b[0m\u001b[38;2;212;183;2m \u001b[0m\u001b[1;38;2;212;183;2mNew run - Web_agent\u001b[0m\u001b[38;2;212;183;2m \u001b[0m\u001b[38;2;212;183;2m─────────────────────────────────────────────\u001b[0m\u001b[38;2;212;183;2m─╮\u001b[0m\n",
       "\u001b[38;2;212;183;2m│\u001b[0m                                                                                                                 \u001b[38;2;212;183;2m│\u001b[0m\n",
       "\u001b[38;2;212;183;2m│\u001b[0m \u001b[1mYou're a helpful agent named 'Web_agent'.\u001b[0m                                                                       \u001b[38;2;212;183;2m│\u001b[0m\n",
       "\u001b[38;2;212;183;2m│\u001b[0m \u001b[1mYou have been submitted this task by your manager.\u001b[0m                                                              \u001b[38;2;212;183;2m│\u001b[0m\n",
       "\u001b[38;2;212;183;2m│\u001b[0m \u001b[1m---\u001b[0m                                                                                                             \u001b[38;2;212;183;2m│\u001b[0m\n",
       "\u001b[38;2;212;183;2m│\u001b[0m \u001b[1mTask:\u001b[0m                                                                                                           \u001b[38;2;212;183;2m│\u001b[0m\n",
       "\u001b[38;2;212;183;2m│\u001b[0m \u001b[1mGather guidelines on the structure of a comprehensive preparatory survey from professional organizations or \u001b[0m    \u001b[38;2;212;183;2m│\u001b[0m\n",
       "\u001b[38;2;212;183;2m│\u001b[0m \u001b[1mindustry standards documents.\u001b[0m                                                                                   \u001b[38;2;212;183;2m│\u001b[0m\n",
       "\u001b[38;2;212;183;2m│\u001b[0m \u001b[1m---\u001b[0m                                                                                                             \u001b[38;2;212;183;2m│\u001b[0m\n",
       "\u001b[38;2;212;183;2m│\u001b[0m \u001b[1mYou're helping your manager solve a wider task: so make sure to not provide a one-line answer, but give as much\u001b[0m \u001b[38;2;212;183;2m│\u001b[0m\n",
       "\u001b[38;2;212;183;2m│\u001b[0m \u001b[1minformation as possible to give them a clear understanding of the answer.\u001b[0m                                       \u001b[38;2;212;183;2m│\u001b[0m\n",
       "\u001b[38;2;212;183;2m│\u001b[0m                                                                                                                 \u001b[38;2;212;183;2m│\u001b[0m\n",
       "\u001b[38;2;212;183;2m│\u001b[0m \u001b[1mYour final_answer WILL HAVE to contain these parts:\u001b[0m                                                             \u001b[38;2;212;183;2m│\u001b[0m\n",
       "\u001b[38;2;212;183;2m│\u001b[0m \u001b[1m### 1. Task outcome (short version):\u001b[0m                                                                            \u001b[38;2;212;183;2m│\u001b[0m\n",
       "\u001b[38;2;212;183;2m│\u001b[0m \u001b[1m### 2. Task outcome (extremely detailed version):\u001b[0m                                                               \u001b[38;2;212;183;2m│\u001b[0m\n",
       "\u001b[38;2;212;183;2m│\u001b[0m \u001b[1m### 3. Additional context (if relevant):\u001b[0m                                                                        \u001b[38;2;212;183;2m│\u001b[0m\n",
       "\u001b[38;2;212;183;2m│\u001b[0m                                                                                                                 \u001b[38;2;212;183;2m│\u001b[0m\n",
       "\u001b[38;2;212;183;2m│\u001b[0m \u001b[1mPut all these in your final_answer tool, everything that you do not pass as an argument to final_answer will be\u001b[0m \u001b[38;2;212;183;2m│\u001b[0m\n",
       "\u001b[38;2;212;183;2m│\u001b[0m \u001b[1mlost.\u001b[0m                                                                                                           \u001b[38;2;212;183;2m│\u001b[0m\n",
       "\u001b[38;2;212;183;2m│\u001b[0m \u001b[1mAnd even if your task resolution is not successful, please return as much context as possible, so that your \u001b[0m    \u001b[38;2;212;183;2m│\u001b[0m\n",
       "\u001b[38;2;212;183;2m│\u001b[0m \u001b[1mmanager can act upon this feedback.\u001b[0m                                                                             \u001b[38;2;212;183;2m│\u001b[0m\n",
       "\u001b[38;2;212;183;2m│\u001b[0m                                                                                                                 \u001b[38;2;212;183;2m│\u001b[0m\n",
       "\u001b[38;2;212;183;2m╰─\u001b[0m\u001b[38;2;212;183;2m LiteLLMModel - ollama/qwen2.5-coder:32b \u001b[0m\u001b[38;2;212;183;2m──────────────────────────────────────────────────────────────────────\u001b[0m\u001b[38;2;212;183;2m─╯\u001b[0m\n"
      ]
     },
     "metadata": {},
     "output_type": "display_data"
    },
    {
     "data": {
      "text/html": [
       "<pre style=\"white-space:pre;overflow-x:auto;line-height:normal;font-family:Menlo,'DejaVu Sans Mono',consolas,'Courier New',monospace\"><span style=\"color: #d4b702; text-decoration-color: #d4b702\">━━━━━━━━━━━━━━━━━━━━━━━━━━━━━━━━━━━━━━━━━━━━━━━━━━━━━ </span><span style=\"font-weight: bold\">Step </span><span style=\"color: #008080; text-decoration-color: #008080; font-weight: bold\">1</span><span style=\"color: #d4b702; text-decoration-color: #d4b702\"> ━━━━━━━━━━━━━━━━━━━━━━━━━━━━━━━━━━━━━━━━━━━━━━━━━━━━━━</span>\n",
       "</pre>\n"
      ],
      "text/plain": [
       "\u001b[38;2;212;183;2m━━━━━━━━━━━━━━━━━━━━━━━━━━━━━━━━━━━━━━━━━━━━━━━━━━━━━ \u001b[0m\u001b[1mStep \u001b[0m\u001b[1;36m1\u001b[0m\u001b[38;2;212;183;2m ━━━━━━━━━━━━━━━━━━━━━━━━━━━━━━━━━━━━━━━━━━━━━━━━━━━━━━\u001b[0m\n"
      ]
     },
     "metadata": {},
     "output_type": "display_data"
    },
    {
     "data": {
      "text/html": [
       "<pre style=\"white-space:pre;overflow-x:auto;line-height:normal;font-family:Menlo,'DejaVu Sans Mono',consolas,'Courier New',monospace\">╭─────────────────────────────────────────────────────────────────────────────────────────────────────────────────╮\n",
       "│ Calling tool: 'web_search' with arguments: {'query': 'structure of a comprehensive preparatory survey           │\n",
       "│ guidelines professional organizations industry standards'}                                                      │\n",
       "╰─────────────────────────────────────────────────────────────────────────────────────────────────────────────────╯\n",
       "</pre>\n"
      ],
      "text/plain": [
       "╭─────────────────────────────────────────────────────────────────────────────────────────────────────────────────╮\n",
       "│ Calling tool: 'web_search' with arguments: {'query': 'structure of a comprehensive preparatory survey           │\n",
       "│ guidelines professional organizations industry standards'}                                                      │\n",
       "╰─────────────────────────────────────────────────────────────────────────────────────────────────────────────────╯\n"
      ]
     },
     "metadata": {},
     "output_type": "display_data"
    },
    {
     "data": {
      "text/html": [
       "<pre style=\"white-space:pre;overflow-x:auto;line-height:normal;font-family:Menlo,'DejaVu Sans Mono',consolas,'Courier New',monospace\"><span style=\"color: #800000; text-decoration-color: #800000; font-weight: bold\">Error whene executing tool web_search with arguments {</span><span style=\"color: #800000; text-decoration-color: #800000; font-weight: bold\">'query'</span><span style=\"color: #800000; text-decoration-color: #800000; font-weight: bold\">: </span><span style=\"color: #800000; text-decoration-color: #800000; font-weight: bold\">'structure of a comprehensive preparatory survey </span>\n",
       "<span style=\"color: #800000; text-decoration-color: #800000; font-weight: bold\">guidelines professional organizations industry standards'</span><span style=\"color: #800000; text-decoration-color: #800000; font-weight: bold\">}: DuckDuckGoSearchException: </span>\n",
       "<span style=\"color: #800000; text-decoration-color: #800000; font-weight: bold; text-decoration: underline\">https://lite.duckduckgo.com/lite/</span><span style=\"color: #800000; text-decoration-color: #800000; font-weight: bold\"> RuntimeError: error sending request for url (</span><span style=\"color: #800000; text-decoration-color: #800000; font-weight: bold; text-decoration: underline\">https://lite.duckduckgo.com/lite/):</span><span style=\"color: #800000; text-decoration-color: #800000; font-weight: bold\"> </span>\n",
       "<span style=\"color: #800000; text-decoration-color: #800000; font-weight: bold\">client error (Connect)</span>\n",
       "\n",
       "<span style=\"color: #800000; text-decoration-color: #800000; font-weight: bold\">Caused by:</span>\n",
       "<span style=\"color: #800000; text-decoration-color: #800000; font-weight: bold\">    </span><span style=\"color: #800000; text-decoration-color: #800000; font-weight: bold\">0</span><span style=\"color: #800000; text-decoration-color: #800000; font-weight: bold\">: client error (Connect)</span>\n",
       "<span style=\"color: #800000; text-decoration-color: #800000; font-weight: bold\">    </span><span style=\"color: #800000; text-decoration-color: #800000; font-weight: bold\">1</span><span style=\"color: #800000; text-decoration-color: #800000; font-weight: bold\">: tcp connect error: Connection refused (os error </span><span style=\"color: #800000; text-decoration-color: #800000; font-weight: bold\">111</span><span style=\"color: #800000; text-decoration-color: #800000; font-weight: bold\">)</span>\n",
       "<span style=\"color: #800000; text-decoration-color: #800000; font-weight: bold\">    </span><span style=\"color: #800000; text-decoration-color: #800000; font-weight: bold\">2</span><span style=\"color: #800000; text-decoration-color: #800000; font-weight: bold\">: Connection refused (os error </span><span style=\"color: #800000; text-decoration-color: #800000; font-weight: bold\">111</span><span style=\"color: #800000; text-decoration-color: #800000; font-weight: bold\">)</span>\n",
       "<span style=\"color: #800000; text-decoration-color: #800000; font-weight: bold\">You should only use this tool with a correct input.</span>\n",
       "<span style=\"color: #800000; text-decoration-color: #800000; font-weight: bold\">As a reminder, this tool's description is the following: </span><span style=\"color: #800000; text-decoration-color: #800000; font-weight: bold\">'Performs a duckduckgo web search based on your query </span>\n",
       "<span style=\"color: #800000; text-decoration-color: #800000; font-weight: bold\">(think a Google search) then returns the top search results.'</span><span style=\"color: #800000; text-decoration-color: #800000; font-weight: bold\">.</span>\n",
       "<span style=\"color: #800000; text-decoration-color: #800000; font-weight: bold\">It takes inputs: {</span><span style=\"color: #800000; text-decoration-color: #800000; font-weight: bold\">'query'</span><span style=\"color: #800000; text-decoration-color: #800000; font-weight: bold\">: {</span><span style=\"color: #800000; text-decoration-color: #800000; font-weight: bold\">'type'</span><span style=\"color: #800000; text-decoration-color: #800000; font-weight: bold\">: </span><span style=\"color: #800000; text-decoration-color: #800000; font-weight: bold\">'string'</span><span style=\"color: #800000; text-decoration-color: #800000; font-weight: bold\">, </span><span style=\"color: #800000; text-decoration-color: #800000; font-weight: bold\">'description'</span><span style=\"color: #800000; text-decoration-color: #800000; font-weight: bold\">: </span><span style=\"color: #800000; text-decoration-color: #800000; font-weight: bold\">'The search query to perform.'</span><span style=\"color: #800000; text-decoration-color: #800000; font-weight: bold\">}} and returns output </span>\n",
       "<span style=\"color: #800000; text-decoration-color: #800000; font-weight: bold\">type string</span>\n",
       "</pre>\n"
      ],
      "text/plain": [
       "\u001b[1;31mError whene executing tool web_search with arguments \u001b[0m\u001b[1;31m{\u001b[0m\u001b[1;31m'query'\u001b[0m\u001b[1;31m: \u001b[0m\u001b[1;31m'structure of a comprehensive preparatory survey \u001b[0m\n",
       "\u001b[1;31mguidelines professional organizations industry standards'\u001b[0m\u001b[1;31m}\u001b[0m\u001b[1;31m: DuckDuckGoSearchException: \u001b[0m\n",
       "\u001b[1;4;31mhttps://lite.duckduckgo.com/lite/\u001b[0m\u001b[1;31m RuntimeError: error sending request for url \u001b[0m\u001b[1;31m(\u001b[0m\u001b[1;4;31mhttps://lite.duckduckgo.com/lite/\u001b[0m\u001b[1;4;31m)\u001b[0m\u001b[1;4;31m:\u001b[0m\u001b[1;31m \u001b[0m\n",
       "\u001b[1;31mclient error \u001b[0m\u001b[1;31m(\u001b[0m\u001b[1;31mConnect\u001b[0m\u001b[1;31m)\u001b[0m\n",
       "\n",
       "\u001b[1;31mCaused by:\u001b[0m\n",
       "\u001b[1;31m    \u001b[0m\u001b[1;31m0\u001b[0m\u001b[1;31m: client error \u001b[0m\u001b[1;31m(\u001b[0m\u001b[1;31mConnect\u001b[0m\u001b[1;31m)\u001b[0m\n",
       "\u001b[1;31m    \u001b[0m\u001b[1;31m1\u001b[0m\u001b[1;31m: tcp connect error: Connection refused \u001b[0m\u001b[1;31m(\u001b[0m\u001b[1;31mos error \u001b[0m\u001b[1;31m111\u001b[0m\u001b[1;31m)\u001b[0m\n",
       "\u001b[1;31m    \u001b[0m\u001b[1;31m2\u001b[0m\u001b[1;31m: Connection refused \u001b[0m\u001b[1;31m(\u001b[0m\u001b[1;31mos error \u001b[0m\u001b[1;31m111\u001b[0m\u001b[1;31m)\u001b[0m\n",
       "\u001b[1;31mYou should only use this tool with a correct input.\u001b[0m\n",
       "\u001b[1;31mAs a reminder, this tool's description is the following: \u001b[0m\u001b[1;31m'Performs a duckduckgo web search based on your query \u001b[0m\n",
       "\u001b[1;31m(\u001b[0m\u001b[1;31mthink a Google search\u001b[0m\u001b[1;31m)\u001b[0m\u001b[1;31m then returns the top search results.'\u001b[0m\u001b[1;31m.\u001b[0m\n",
       "\u001b[1;31mIt takes inputs: \u001b[0m\u001b[1;31m{\u001b[0m\u001b[1;31m'query'\u001b[0m\u001b[1;31m: \u001b[0m\u001b[1;31m{\u001b[0m\u001b[1;31m'type'\u001b[0m\u001b[1;31m: \u001b[0m\u001b[1;31m'string'\u001b[0m\u001b[1;31m, \u001b[0m\u001b[1;31m'description'\u001b[0m\u001b[1;31m: \u001b[0m\u001b[1;31m'The search query to perform.'\u001b[0m\u001b[1;31m}\u001b[0m\u001b[1;31m}\u001b[0m\u001b[1;31m and returns output \u001b[0m\n",
       "\u001b[1;31mtype string\u001b[0m\n"
      ]
     },
     "metadata": {},
     "output_type": "display_data"
    },
    {
     "data": {
      "text/html": [
       "<pre style=\"white-space:pre;overflow-x:auto;line-height:normal;font-family:Menlo,'DejaVu Sans Mono',consolas,'Courier New',monospace\"><span style=\"color: #7f7f7f; text-decoration-color: #7f7f7f\">[Step 0: Duration 31.81 seconds| Input tokens: 1,778 | Output tokens: 27]</span>\n",
       "</pre>\n"
      ],
      "text/plain": [
       "\u001b[2m[Step 0: Duration 31.81 seconds| Input tokens: 1,778 | Output tokens: 27]\u001b[0m\n"
      ]
     },
     "metadata": {},
     "output_type": "display_data"
    },
    {
     "data": {
      "text/html": [
       "<pre style=\"white-space:pre;overflow-x:auto;line-height:normal;font-family:Menlo,'DejaVu Sans Mono',consolas,'Courier New',monospace\"><span style=\"color: #d4b702; text-decoration-color: #d4b702\">━━━━━━━━━━━━━━━━━━━━━━━━━━━━━━━━━━━━━━━━━━━━━━━━━━━━━ </span><span style=\"font-weight: bold\">Step </span><span style=\"color: #008080; text-decoration-color: #008080; font-weight: bold\">2</span><span style=\"color: #d4b702; text-decoration-color: #d4b702\"> ━━━━━━━━━━━━━━━━━━━━━━━━━━━━━━━━━━━━━━━━━━━━━━━━━━━━━━</span>\n",
       "</pre>\n"
      ],
      "text/plain": [
       "\u001b[38;2;212;183;2m━━━━━━━━━━━━━━━━━━━━━━━━━━━━━━━━━━━━━━━━━━━━━━━━━━━━━ \u001b[0m\u001b[1mStep \u001b[0m\u001b[1;36m2\u001b[0m\u001b[38;2;212;183;2m ━━━━━━━━━━━━━━━━━━━━━━━━━━━━━━━━━━━━━━━━━━━━━━━━━━━━━━\u001b[0m\n"
      ]
     },
     "metadata": {},
     "output_type": "display_data"
    },
    {
     "data": {
      "text/html": [
       "<pre style=\"white-space:pre;overflow-x:auto;line-height:normal;font-family:Menlo,'DejaVu Sans Mono',consolas,'Courier New',monospace\">╭─────────────────────────────────────────────────────────────────────────────────────────────────────────────────╮\n",
       "│ Calling tool: 'web_search' with arguments: {'query': 'structure of a comprehensive preparatory survey           │\n",
       "│ guidelines professional organizations industry standards'}                                                      │\n",
       "╰─────────────────────────────────────────────────────────────────────────────────────────────────────────────────╯\n",
       "</pre>\n"
      ],
      "text/plain": [
       "╭─────────────────────────────────────────────────────────────────────────────────────────────────────────────────╮\n",
       "│ Calling tool: 'web_search' with arguments: {'query': 'structure of a comprehensive preparatory survey           │\n",
       "│ guidelines professional organizations industry standards'}                                                      │\n",
       "╰─────────────────────────────────────────────────────────────────────────────────────────────────────────────────╯\n"
      ]
     },
     "metadata": {},
     "output_type": "display_data"
    },
    {
     "data": {
      "text/html": [
       "<pre style=\"white-space:pre;overflow-x:auto;line-height:normal;font-family:Menlo,'DejaVu Sans Mono',consolas,'Courier New',monospace\"><span style=\"color: #800000; text-decoration-color: #800000; font-weight: bold\">Error whene executing tool web_search with arguments {</span><span style=\"color: #800000; text-decoration-color: #800000; font-weight: bold\">'query'</span><span style=\"color: #800000; text-decoration-color: #800000; font-weight: bold\">: </span><span style=\"color: #800000; text-decoration-color: #800000; font-weight: bold\">'structure of a comprehensive preparatory survey </span>\n",
       "<span style=\"color: #800000; text-decoration-color: #800000; font-weight: bold\">guidelines professional organizations industry standards'</span><span style=\"color: #800000; text-decoration-color: #800000; font-weight: bold\">}: DuckDuckGoSearchException: </span>\n",
       "<span style=\"color: #800000; text-decoration-color: #800000; font-weight: bold; text-decoration: underline\">https://lite.duckduckgo.com/lite/</span><span style=\"color: #800000; text-decoration-color: #800000; font-weight: bold\"> RuntimeError: error sending request for url (</span><span style=\"color: #800000; text-decoration-color: #800000; font-weight: bold; text-decoration: underline\">https://lite.duckduckgo.com/lite/):</span><span style=\"color: #800000; text-decoration-color: #800000; font-weight: bold\"> </span>\n",
       "<span style=\"color: #800000; text-decoration-color: #800000; font-weight: bold\">client error (Connect)</span>\n",
       "\n",
       "<span style=\"color: #800000; text-decoration-color: #800000; font-weight: bold\">Caused by:</span>\n",
       "<span style=\"color: #800000; text-decoration-color: #800000; font-weight: bold\">    </span><span style=\"color: #800000; text-decoration-color: #800000; font-weight: bold\">0</span><span style=\"color: #800000; text-decoration-color: #800000; font-weight: bold\">: client error (Connect)</span>\n",
       "<span style=\"color: #800000; text-decoration-color: #800000; font-weight: bold\">    </span><span style=\"color: #800000; text-decoration-color: #800000; font-weight: bold\">1</span><span style=\"color: #800000; text-decoration-color: #800000; font-weight: bold\">: tcp connect error: Connection refused (os error </span><span style=\"color: #800000; text-decoration-color: #800000; font-weight: bold\">111</span><span style=\"color: #800000; text-decoration-color: #800000; font-weight: bold\">)</span>\n",
       "<span style=\"color: #800000; text-decoration-color: #800000; font-weight: bold\">    </span><span style=\"color: #800000; text-decoration-color: #800000; font-weight: bold\">2</span><span style=\"color: #800000; text-decoration-color: #800000; font-weight: bold\">: Connection refused (os error </span><span style=\"color: #800000; text-decoration-color: #800000; font-weight: bold\">111</span><span style=\"color: #800000; text-decoration-color: #800000; font-weight: bold\">)</span>\n",
       "<span style=\"color: #800000; text-decoration-color: #800000; font-weight: bold\">You should only use this tool with a correct input.</span>\n",
       "<span style=\"color: #800000; text-decoration-color: #800000; font-weight: bold\">As a reminder, this tool's description is the following: </span><span style=\"color: #800000; text-decoration-color: #800000; font-weight: bold\">'Performs a duckduckgo web search based on your query </span>\n",
       "<span style=\"color: #800000; text-decoration-color: #800000; font-weight: bold\">(think a Google search) then returns the top search results.'</span><span style=\"color: #800000; text-decoration-color: #800000; font-weight: bold\">.</span>\n",
       "<span style=\"color: #800000; text-decoration-color: #800000; font-weight: bold\">It takes inputs: {</span><span style=\"color: #800000; text-decoration-color: #800000; font-weight: bold\">'query'</span><span style=\"color: #800000; text-decoration-color: #800000; font-weight: bold\">: {</span><span style=\"color: #800000; text-decoration-color: #800000; font-weight: bold\">'type'</span><span style=\"color: #800000; text-decoration-color: #800000; font-weight: bold\">: </span><span style=\"color: #800000; text-decoration-color: #800000; font-weight: bold\">'string'</span><span style=\"color: #800000; text-decoration-color: #800000; font-weight: bold\">, </span><span style=\"color: #800000; text-decoration-color: #800000; font-weight: bold\">'description'</span><span style=\"color: #800000; text-decoration-color: #800000; font-weight: bold\">: </span><span style=\"color: #800000; text-decoration-color: #800000; font-weight: bold\">'The search query to perform.'</span><span style=\"color: #800000; text-decoration-color: #800000; font-weight: bold\">}} and returns output </span>\n",
       "<span style=\"color: #800000; text-decoration-color: #800000; font-weight: bold\">type string</span>\n",
       "</pre>\n"
      ],
      "text/plain": [
       "\u001b[1;31mError whene executing tool web_search with arguments \u001b[0m\u001b[1;31m{\u001b[0m\u001b[1;31m'query'\u001b[0m\u001b[1;31m: \u001b[0m\u001b[1;31m'structure of a comprehensive preparatory survey \u001b[0m\n",
       "\u001b[1;31mguidelines professional organizations industry standards'\u001b[0m\u001b[1;31m}\u001b[0m\u001b[1;31m: DuckDuckGoSearchException: \u001b[0m\n",
       "\u001b[1;4;31mhttps://lite.duckduckgo.com/lite/\u001b[0m\u001b[1;31m RuntimeError: error sending request for url \u001b[0m\u001b[1;31m(\u001b[0m\u001b[1;4;31mhttps://lite.duckduckgo.com/lite/\u001b[0m\u001b[1;4;31m)\u001b[0m\u001b[1;4;31m:\u001b[0m\u001b[1;31m \u001b[0m\n",
       "\u001b[1;31mclient error \u001b[0m\u001b[1;31m(\u001b[0m\u001b[1;31mConnect\u001b[0m\u001b[1;31m)\u001b[0m\n",
       "\n",
       "\u001b[1;31mCaused by:\u001b[0m\n",
       "\u001b[1;31m    \u001b[0m\u001b[1;31m0\u001b[0m\u001b[1;31m: client error \u001b[0m\u001b[1;31m(\u001b[0m\u001b[1;31mConnect\u001b[0m\u001b[1;31m)\u001b[0m\n",
       "\u001b[1;31m    \u001b[0m\u001b[1;31m1\u001b[0m\u001b[1;31m: tcp connect error: Connection refused \u001b[0m\u001b[1;31m(\u001b[0m\u001b[1;31mos error \u001b[0m\u001b[1;31m111\u001b[0m\u001b[1;31m)\u001b[0m\n",
       "\u001b[1;31m    \u001b[0m\u001b[1;31m2\u001b[0m\u001b[1;31m: Connection refused \u001b[0m\u001b[1;31m(\u001b[0m\u001b[1;31mos error \u001b[0m\u001b[1;31m111\u001b[0m\u001b[1;31m)\u001b[0m\n",
       "\u001b[1;31mYou should only use this tool with a correct input.\u001b[0m\n",
       "\u001b[1;31mAs a reminder, this tool's description is the following: \u001b[0m\u001b[1;31m'Performs a duckduckgo web search based on your query \u001b[0m\n",
       "\u001b[1;31m(\u001b[0m\u001b[1;31mthink a Google search\u001b[0m\u001b[1;31m)\u001b[0m\u001b[1;31m then returns the top search results.'\u001b[0m\u001b[1;31m.\u001b[0m\n",
       "\u001b[1;31mIt takes inputs: \u001b[0m\u001b[1;31m{\u001b[0m\u001b[1;31m'query'\u001b[0m\u001b[1;31m: \u001b[0m\u001b[1;31m{\u001b[0m\u001b[1;31m'type'\u001b[0m\u001b[1;31m: \u001b[0m\u001b[1;31m'string'\u001b[0m\u001b[1;31m, \u001b[0m\u001b[1;31m'description'\u001b[0m\u001b[1;31m: \u001b[0m\u001b[1;31m'The search query to perform.'\u001b[0m\u001b[1;31m}\u001b[0m\u001b[1;31m}\u001b[0m\u001b[1;31m and returns output \u001b[0m\n",
       "\u001b[1;31mtype string\u001b[0m\n"
      ]
     },
     "metadata": {},
     "output_type": "display_data"
    },
    {
     "data": {
      "text/html": [
       "<pre style=\"white-space:pre;overflow-x:auto;line-height:normal;font-family:Menlo,'DejaVu Sans Mono',consolas,'Courier New',monospace\"><span style=\"color: #7f7f7f; text-decoration-color: #7f7f7f\">[Step 1: Duration 32.73 seconds| Input tokens: 3,901 | Output tokens: 55]</span>\n",
       "</pre>\n"
      ],
      "text/plain": [
       "\u001b[2m[Step 1: Duration 32.73 seconds| Input tokens: 3,901 | Output tokens: 55]\u001b[0m\n"
      ]
     },
     "metadata": {},
     "output_type": "display_data"
    },
    {
     "data": {
      "text/html": [
       "<pre style=\"white-space:pre;overflow-x:auto;line-height:normal;font-family:Menlo,'DejaVu Sans Mono',consolas,'Courier New',monospace\"><span style=\"color: #d4b702; text-decoration-color: #d4b702\">━━━━━━━━━━━━━━━━━━━━━━━━━━━━━━━━━━━━━━━━━━━━━━━━━━━━━ </span><span style=\"font-weight: bold\">Step </span><span style=\"color: #008080; text-decoration-color: #008080; font-weight: bold\">3</span><span style=\"color: #d4b702; text-decoration-color: #d4b702\"> ━━━━━━━━━━━━━━━━━━━━━━━━━━━━━━━━━━━━━━━━━━━━━━━━━━━━━━</span>\n",
       "</pre>\n"
      ],
      "text/plain": [
       "\u001b[38;2;212;183;2m━━━━━━━━━━━━━━━━━━━━━━━━━━━━━━━━━━━━━━━━━━━━━━━━━━━━━ \u001b[0m\u001b[1mStep \u001b[0m\u001b[1;36m3\u001b[0m\u001b[38;2;212;183;2m ━━━━━━━━━━━━━━━━━━━━━━━━━━━━━━━━━━━━━━━━━━━━━━━━━━━━━━\u001b[0m\n"
      ]
     },
     "metadata": {},
     "output_type": "display_data"
    },
    {
     "data": {
      "text/html": [
       "<pre style=\"white-space:pre;overflow-x:auto;line-height:normal;font-family:Menlo,'DejaVu Sans Mono',consolas,'Courier New',monospace\">╭─────────────────────────────────────────────────────────────────────────────────────────────────────────────────╮\n",
       "│ Calling tool: 'web_search' with arguments: {'query': 'structure of a comprehensive preparatory survey           │\n",
       "│ guidelines professional organizations industry standards official documents'}                                   │\n",
       "╰─────────────────────────────────────────────────────────────────────────────────────────────────────────────────╯\n",
       "</pre>\n"
      ],
      "text/plain": [
       "╭─────────────────────────────────────────────────────────────────────────────────────────────────────────────────╮\n",
       "│ Calling tool: 'web_search' with arguments: {'query': 'structure of a comprehensive preparatory survey           │\n",
       "│ guidelines professional organizations industry standards official documents'}                                   │\n",
       "╰─────────────────────────────────────────────────────────────────────────────────────────────────────────────────╯\n"
      ]
     },
     "metadata": {},
     "output_type": "display_data"
    },
    {
     "data": {
      "text/html": [
       "<pre style=\"white-space:pre;overflow-x:auto;line-height:normal;font-family:Menlo,'DejaVu Sans Mono',consolas,'Courier New',monospace\"><span style=\"color: #800000; text-decoration-color: #800000; font-weight: bold\">Error whene executing tool web_search with arguments {</span><span style=\"color: #800000; text-decoration-color: #800000; font-weight: bold\">'query'</span><span style=\"color: #800000; text-decoration-color: #800000; font-weight: bold\">: </span><span style=\"color: #800000; text-decoration-color: #800000; font-weight: bold\">'structure of a comprehensive preparatory survey </span>\n",
       "<span style=\"color: #800000; text-decoration-color: #800000; font-weight: bold\">guidelines professional organizations industry standards official documents'</span><span style=\"color: #800000; text-decoration-color: #800000; font-weight: bold\">}: DuckDuckGoSearchException: </span>\n",
       "<span style=\"color: #800000; text-decoration-color: #800000; font-weight: bold; text-decoration: underline\">https://lite.duckduckgo.com/lite/</span><span style=\"color: #800000; text-decoration-color: #800000; font-weight: bold\"> RuntimeError: error sending request for url (</span><span style=\"color: #800000; text-decoration-color: #800000; font-weight: bold; text-decoration: underline\">https://lite.duckduckgo.com/lite/):</span><span style=\"color: #800000; text-decoration-color: #800000; font-weight: bold\"> </span>\n",
       "<span style=\"color: #800000; text-decoration-color: #800000; font-weight: bold\">client error (Connect)</span>\n",
       "\n",
       "<span style=\"color: #800000; text-decoration-color: #800000; font-weight: bold\">Caused by:</span>\n",
       "<span style=\"color: #800000; text-decoration-color: #800000; font-weight: bold\">    </span><span style=\"color: #800000; text-decoration-color: #800000; font-weight: bold\">0</span><span style=\"color: #800000; text-decoration-color: #800000; font-weight: bold\">: client error (Connect)</span>\n",
       "<span style=\"color: #800000; text-decoration-color: #800000; font-weight: bold\">    </span><span style=\"color: #800000; text-decoration-color: #800000; font-weight: bold\">1</span><span style=\"color: #800000; text-decoration-color: #800000; font-weight: bold\">: tcp connect error: Connection refused (os error </span><span style=\"color: #800000; text-decoration-color: #800000; font-weight: bold\">111</span><span style=\"color: #800000; text-decoration-color: #800000; font-weight: bold\">)</span>\n",
       "<span style=\"color: #800000; text-decoration-color: #800000; font-weight: bold\">    </span><span style=\"color: #800000; text-decoration-color: #800000; font-weight: bold\">2</span><span style=\"color: #800000; text-decoration-color: #800000; font-weight: bold\">: Connection refused (os error </span><span style=\"color: #800000; text-decoration-color: #800000; font-weight: bold\">111</span><span style=\"color: #800000; text-decoration-color: #800000; font-weight: bold\">)</span>\n",
       "<span style=\"color: #800000; text-decoration-color: #800000; font-weight: bold\">You should only use this tool with a correct input.</span>\n",
       "<span style=\"color: #800000; text-decoration-color: #800000; font-weight: bold\">As a reminder, this tool's description is the following: </span><span style=\"color: #800000; text-decoration-color: #800000; font-weight: bold\">'Performs a duckduckgo web search based on your query </span>\n",
       "<span style=\"color: #800000; text-decoration-color: #800000; font-weight: bold\">(think a Google search) then returns the top search results.'</span><span style=\"color: #800000; text-decoration-color: #800000; font-weight: bold\">.</span>\n",
       "<span style=\"color: #800000; text-decoration-color: #800000; font-weight: bold\">It takes inputs: {</span><span style=\"color: #800000; text-decoration-color: #800000; font-weight: bold\">'query'</span><span style=\"color: #800000; text-decoration-color: #800000; font-weight: bold\">: {</span><span style=\"color: #800000; text-decoration-color: #800000; font-weight: bold\">'type'</span><span style=\"color: #800000; text-decoration-color: #800000; font-weight: bold\">: </span><span style=\"color: #800000; text-decoration-color: #800000; font-weight: bold\">'string'</span><span style=\"color: #800000; text-decoration-color: #800000; font-weight: bold\">, </span><span style=\"color: #800000; text-decoration-color: #800000; font-weight: bold\">'description'</span><span style=\"color: #800000; text-decoration-color: #800000; font-weight: bold\">: </span><span style=\"color: #800000; text-decoration-color: #800000; font-weight: bold\">'The search query to perform.'</span><span style=\"color: #800000; text-decoration-color: #800000; font-weight: bold\">}} and returns output </span>\n",
       "<span style=\"color: #800000; text-decoration-color: #800000; font-weight: bold\">type string</span>\n",
       "</pre>\n"
      ],
      "text/plain": [
       "\u001b[1;31mError whene executing tool web_search with arguments \u001b[0m\u001b[1;31m{\u001b[0m\u001b[1;31m'query'\u001b[0m\u001b[1;31m: \u001b[0m\u001b[1;31m'structure of a comprehensive preparatory survey \u001b[0m\n",
       "\u001b[1;31mguidelines professional organizations industry standards official documents'\u001b[0m\u001b[1;31m}\u001b[0m\u001b[1;31m: DuckDuckGoSearchException: \u001b[0m\n",
       "\u001b[1;4;31mhttps://lite.duckduckgo.com/lite/\u001b[0m\u001b[1;31m RuntimeError: error sending request for url \u001b[0m\u001b[1;31m(\u001b[0m\u001b[1;4;31mhttps://lite.duckduckgo.com/lite/\u001b[0m\u001b[1;4;31m)\u001b[0m\u001b[1;4;31m:\u001b[0m\u001b[1;31m \u001b[0m\n",
       "\u001b[1;31mclient error \u001b[0m\u001b[1;31m(\u001b[0m\u001b[1;31mConnect\u001b[0m\u001b[1;31m)\u001b[0m\n",
       "\n",
       "\u001b[1;31mCaused by:\u001b[0m\n",
       "\u001b[1;31m    \u001b[0m\u001b[1;31m0\u001b[0m\u001b[1;31m: client error \u001b[0m\u001b[1;31m(\u001b[0m\u001b[1;31mConnect\u001b[0m\u001b[1;31m)\u001b[0m\n",
       "\u001b[1;31m    \u001b[0m\u001b[1;31m1\u001b[0m\u001b[1;31m: tcp connect error: Connection refused \u001b[0m\u001b[1;31m(\u001b[0m\u001b[1;31mos error \u001b[0m\u001b[1;31m111\u001b[0m\u001b[1;31m)\u001b[0m\n",
       "\u001b[1;31m    \u001b[0m\u001b[1;31m2\u001b[0m\u001b[1;31m: Connection refused \u001b[0m\u001b[1;31m(\u001b[0m\u001b[1;31mos error \u001b[0m\u001b[1;31m111\u001b[0m\u001b[1;31m)\u001b[0m\n",
       "\u001b[1;31mYou should only use this tool with a correct input.\u001b[0m\n",
       "\u001b[1;31mAs a reminder, this tool's description is the following: \u001b[0m\u001b[1;31m'Performs a duckduckgo web search based on your query \u001b[0m\n",
       "\u001b[1;31m(\u001b[0m\u001b[1;31mthink a Google search\u001b[0m\u001b[1;31m)\u001b[0m\u001b[1;31m then returns the top search results.'\u001b[0m\u001b[1;31m.\u001b[0m\n",
       "\u001b[1;31mIt takes inputs: \u001b[0m\u001b[1;31m{\u001b[0m\u001b[1;31m'query'\u001b[0m\u001b[1;31m: \u001b[0m\u001b[1;31m{\u001b[0m\u001b[1;31m'type'\u001b[0m\u001b[1;31m: \u001b[0m\u001b[1;31m'string'\u001b[0m\u001b[1;31m, \u001b[0m\u001b[1;31m'description'\u001b[0m\u001b[1;31m: \u001b[0m\u001b[1;31m'The search query to perform.'\u001b[0m\u001b[1;31m}\u001b[0m\u001b[1;31m}\u001b[0m\u001b[1;31m and returns output \u001b[0m\n",
       "\u001b[1;31mtype string\u001b[0m\n"
      ]
     },
     "metadata": {},
     "output_type": "display_data"
    },
    {
     "data": {
      "text/html": [
       "<pre style=\"white-space:pre;overflow-x:auto;line-height:normal;font-family:Menlo,'DejaVu Sans Mono',consolas,'Courier New',monospace\"><span style=\"color: #7f7f7f; text-decoration-color: #7f7f7f\">[Step 2: Duration 32.89 seconds| Input tokens: 6,367 | Output tokens: 87]</span>\n",
       "</pre>\n"
      ],
      "text/plain": [
       "\u001b[2m[Step 2: Duration 32.89 seconds| Input tokens: 6,367 | Output tokens: 87]\u001b[0m\n"
      ]
     },
     "metadata": {},
     "output_type": "display_data"
    },
    {
     "data": {
      "text/html": [
       "<pre style=\"white-space:pre;overflow-x:auto;line-height:normal;font-family:Menlo,'DejaVu Sans Mono',consolas,'Courier New',monospace\"><span style=\"color: #d4b702; text-decoration-color: #d4b702\">━━━━━━━━━━━━━━━━━━━━━━━━━━━━━━━━━━━━━━━━━━━━━━━━━━━━━ </span><span style=\"font-weight: bold\">Step </span><span style=\"color: #008080; text-decoration-color: #008080; font-weight: bold\">4</span><span style=\"color: #d4b702; text-decoration-color: #d4b702\"> ━━━━━━━━━━━━━━━━━━━━━━━━━━━━━━━━━━━━━━━━━━━━━━━━━━━━━━</span>\n",
       "</pre>\n"
      ],
      "text/plain": [
       "\u001b[38;2;212;183;2m━━━━━━━━━━━━━━━━━━━━━━━━━━━━━━━━━━━━━━━━━━━━━━━━━━━━━ \u001b[0m\u001b[1mStep \u001b[0m\u001b[1;36m4\u001b[0m\u001b[38;2;212;183;2m ━━━━━━━━━━━━━━━━━━━━━━━━━━━━━━━━━━━━━━━━━━━━━━━━━━━━━━\u001b[0m\n"
      ]
     },
     "metadata": {},
     "output_type": "display_data"
    },
    {
     "data": {
      "text/html": [
       "<pre style=\"white-space:pre;overflow-x:auto;line-height:normal;font-family:Menlo,'DejaVu Sans Mono',consolas,'Courier New',monospace\">╭─────────────────────────────────────────────────────────────────────────────────────────────────────────────────╮\n",
       "│ Calling tool: 'web_search' with arguments: {'query': 'structure of a comprehensive preparatory survey           │\n",
       "│ guidelines professional organizations industry standards official documents PDF'}                               │\n",
       "╰─────────────────────────────────────────────────────────────────────────────────────────────────────────────────╯\n",
       "</pre>\n"
      ],
      "text/plain": [
       "╭─────────────────────────────────────────────────────────────────────────────────────────────────────────────────╮\n",
       "│ Calling tool: 'web_search' with arguments: {'query': 'structure of a comprehensive preparatory survey           │\n",
       "│ guidelines professional organizations industry standards official documents PDF'}                               │\n",
       "╰─────────────────────────────────────────────────────────────────────────────────────────────────────────────────╯\n"
      ]
     },
     "metadata": {},
     "output_type": "display_data"
    },
    {
     "data": {
      "text/html": [
       "<pre style=\"white-space:pre;overflow-x:auto;line-height:normal;font-family:Menlo,'DejaVu Sans Mono',consolas,'Courier New',monospace\"><span style=\"color: #800000; text-decoration-color: #800000; font-weight: bold\">Error whene executing tool web_search with arguments {</span><span style=\"color: #800000; text-decoration-color: #800000; font-weight: bold\">'query'</span><span style=\"color: #800000; text-decoration-color: #800000; font-weight: bold\">: </span><span style=\"color: #800000; text-decoration-color: #800000; font-weight: bold\">'structure of a comprehensive preparatory survey </span>\n",
       "<span style=\"color: #800000; text-decoration-color: #800000; font-weight: bold\">guidelines professional organizations industry standards official documents PDF'</span><span style=\"color: #800000; text-decoration-color: #800000; font-weight: bold\">}: DuckDuckGoSearchException: </span>\n",
       "<span style=\"color: #800000; text-decoration-color: #800000; font-weight: bold; text-decoration: underline\">https://lite.duckduckgo.com/lite/</span><span style=\"color: #800000; text-decoration-color: #800000; font-weight: bold\"> RuntimeError: error sending request for url (</span><span style=\"color: #800000; text-decoration-color: #800000; font-weight: bold; text-decoration: underline\">https://lite.duckduckgo.com/lite/):</span><span style=\"color: #800000; text-decoration-color: #800000; font-weight: bold\"> </span>\n",
       "<span style=\"color: #800000; text-decoration-color: #800000; font-weight: bold\">client error (Connect)</span>\n",
       "\n",
       "<span style=\"color: #800000; text-decoration-color: #800000; font-weight: bold\">Caused by:</span>\n",
       "<span style=\"color: #800000; text-decoration-color: #800000; font-weight: bold\">    </span><span style=\"color: #800000; text-decoration-color: #800000; font-weight: bold\">0</span><span style=\"color: #800000; text-decoration-color: #800000; font-weight: bold\">: client error (Connect)</span>\n",
       "<span style=\"color: #800000; text-decoration-color: #800000; font-weight: bold\">    </span><span style=\"color: #800000; text-decoration-color: #800000; font-weight: bold\">1</span><span style=\"color: #800000; text-decoration-color: #800000; font-weight: bold\">: tcp connect error: Connection refused (os error </span><span style=\"color: #800000; text-decoration-color: #800000; font-weight: bold\">111</span><span style=\"color: #800000; text-decoration-color: #800000; font-weight: bold\">)</span>\n",
       "<span style=\"color: #800000; text-decoration-color: #800000; font-weight: bold\">    </span><span style=\"color: #800000; text-decoration-color: #800000; font-weight: bold\">2</span><span style=\"color: #800000; text-decoration-color: #800000; font-weight: bold\">: Connection refused (os error </span><span style=\"color: #800000; text-decoration-color: #800000; font-weight: bold\">111</span><span style=\"color: #800000; text-decoration-color: #800000; font-weight: bold\">)</span>\n",
       "<span style=\"color: #800000; text-decoration-color: #800000; font-weight: bold\">You should only use this tool with a correct input.</span>\n",
       "<span style=\"color: #800000; text-decoration-color: #800000; font-weight: bold\">As a reminder, this tool's description is the following: </span><span style=\"color: #800000; text-decoration-color: #800000; font-weight: bold\">'Performs a duckduckgo web search based on your query </span>\n",
       "<span style=\"color: #800000; text-decoration-color: #800000; font-weight: bold\">(think a Google search) then returns the top search results.'</span><span style=\"color: #800000; text-decoration-color: #800000; font-weight: bold\">.</span>\n",
       "<span style=\"color: #800000; text-decoration-color: #800000; font-weight: bold\">It takes inputs: {</span><span style=\"color: #800000; text-decoration-color: #800000; font-weight: bold\">'query'</span><span style=\"color: #800000; text-decoration-color: #800000; font-weight: bold\">: {</span><span style=\"color: #800000; text-decoration-color: #800000; font-weight: bold\">'type'</span><span style=\"color: #800000; text-decoration-color: #800000; font-weight: bold\">: </span><span style=\"color: #800000; text-decoration-color: #800000; font-weight: bold\">'string'</span><span style=\"color: #800000; text-decoration-color: #800000; font-weight: bold\">, </span><span style=\"color: #800000; text-decoration-color: #800000; font-weight: bold\">'description'</span><span style=\"color: #800000; text-decoration-color: #800000; font-weight: bold\">: </span><span style=\"color: #800000; text-decoration-color: #800000; font-weight: bold\">'The search query to perform.'</span><span style=\"color: #800000; text-decoration-color: #800000; font-weight: bold\">}} and returns output </span>\n",
       "<span style=\"color: #800000; text-decoration-color: #800000; font-weight: bold\">type string</span>\n",
       "</pre>\n"
      ],
      "text/plain": [
       "\u001b[1;31mError whene executing tool web_search with arguments \u001b[0m\u001b[1;31m{\u001b[0m\u001b[1;31m'query'\u001b[0m\u001b[1;31m: \u001b[0m\u001b[1;31m'structure of a comprehensive preparatory survey \u001b[0m\n",
       "\u001b[1;31mguidelines professional organizations industry standards official documents PDF'\u001b[0m\u001b[1;31m}\u001b[0m\u001b[1;31m: DuckDuckGoSearchException: \u001b[0m\n",
       "\u001b[1;4;31mhttps://lite.duckduckgo.com/lite/\u001b[0m\u001b[1;31m RuntimeError: error sending request for url \u001b[0m\u001b[1;31m(\u001b[0m\u001b[1;4;31mhttps://lite.duckduckgo.com/lite/\u001b[0m\u001b[1;4;31m)\u001b[0m\u001b[1;4;31m:\u001b[0m\u001b[1;31m \u001b[0m\n",
       "\u001b[1;31mclient error \u001b[0m\u001b[1;31m(\u001b[0m\u001b[1;31mConnect\u001b[0m\u001b[1;31m)\u001b[0m\n",
       "\n",
       "\u001b[1;31mCaused by:\u001b[0m\n",
       "\u001b[1;31m    \u001b[0m\u001b[1;31m0\u001b[0m\u001b[1;31m: client error \u001b[0m\u001b[1;31m(\u001b[0m\u001b[1;31mConnect\u001b[0m\u001b[1;31m)\u001b[0m\n",
       "\u001b[1;31m    \u001b[0m\u001b[1;31m1\u001b[0m\u001b[1;31m: tcp connect error: Connection refused \u001b[0m\u001b[1;31m(\u001b[0m\u001b[1;31mos error \u001b[0m\u001b[1;31m111\u001b[0m\u001b[1;31m)\u001b[0m\n",
       "\u001b[1;31m    \u001b[0m\u001b[1;31m2\u001b[0m\u001b[1;31m: Connection refused \u001b[0m\u001b[1;31m(\u001b[0m\u001b[1;31mos error \u001b[0m\u001b[1;31m111\u001b[0m\u001b[1;31m)\u001b[0m\n",
       "\u001b[1;31mYou should only use this tool with a correct input.\u001b[0m\n",
       "\u001b[1;31mAs a reminder, this tool's description is the following: \u001b[0m\u001b[1;31m'Performs a duckduckgo web search based on your query \u001b[0m\n",
       "\u001b[1;31m(\u001b[0m\u001b[1;31mthink a Google search\u001b[0m\u001b[1;31m)\u001b[0m\u001b[1;31m then returns the top search results.'\u001b[0m\u001b[1;31m.\u001b[0m\n",
       "\u001b[1;31mIt takes inputs: \u001b[0m\u001b[1;31m{\u001b[0m\u001b[1;31m'query'\u001b[0m\u001b[1;31m: \u001b[0m\u001b[1;31m{\u001b[0m\u001b[1;31m'type'\u001b[0m\u001b[1;31m: \u001b[0m\u001b[1;31m'string'\u001b[0m\u001b[1;31m, \u001b[0m\u001b[1;31m'description'\u001b[0m\u001b[1;31m: \u001b[0m\u001b[1;31m'The search query to perform.'\u001b[0m\u001b[1;31m}\u001b[0m\u001b[1;31m}\u001b[0m\u001b[1;31m and returns output \u001b[0m\n",
       "\u001b[1;31mtype string\u001b[0m\n"
      ]
     },
     "metadata": {},
     "output_type": "display_data"
    },
    {
     "data": {
      "text/html": [
       "<pre style=\"white-space:pre;overflow-x:auto;line-height:normal;font-family:Menlo,'DejaVu Sans Mono',consolas,'Courier New',monospace\"><span style=\"color: #7f7f7f; text-decoration-color: #7f7f7f\">[Step 3: Duration 32.97 seconds| Input tokens: 9,182 | Output tokens: 120]</span>\n",
       "</pre>\n"
      ],
      "text/plain": [
       "\u001b[2m[Step 3: Duration 32.97 seconds| Input tokens: 9,182 | Output tokens: 120]\u001b[0m\n"
      ]
     },
     "metadata": {},
     "output_type": "display_data"
    },
    {
     "data": {
      "text/html": [
       "<pre style=\"white-space:pre;overflow-x:auto;line-height:normal;font-family:Menlo,'DejaVu Sans Mono',consolas,'Courier New',monospace\"><span style=\"color: #d4b702; text-decoration-color: #d4b702\">━━━━━━━━━━━━━━━━━━━━━━━━━━━━━━━━━━━━━━━━━━━━━━━━━━━━━ </span><span style=\"font-weight: bold\">Step </span><span style=\"color: #008080; text-decoration-color: #008080; font-weight: bold\">5</span><span style=\"color: #d4b702; text-decoration-color: #d4b702\"> ━━━━━━━━━━━━━━━━━━━━━━━━━━━━━━━━━━━━━━━━━━━━━━━━━━━━━━</span>\n",
       "</pre>\n"
      ],
      "text/plain": [
       "\u001b[38;2;212;183;2m━━━━━━━━━━━━━━━━━━━━━━━━━━━━━━━━━━━━━━━━━━━━━━━━━━━━━ \u001b[0m\u001b[1mStep \u001b[0m\u001b[1;36m5\u001b[0m\u001b[38;2;212;183;2m ━━━━━━━━━━━━━━━━━━━━━━━━━━━━━━━━━━━━━━━━━━━━━━━━━━━━━━\u001b[0m\n"
      ]
     },
     "metadata": {},
     "output_type": "display_data"
    },
    {
     "data": {
      "text/html": [
       "<pre style=\"white-space:pre;overflow-x:auto;line-height:normal;font-family:Menlo,'DejaVu Sans Mono',consolas,'Courier New',monospace\">╭─────────────────────────────────────────────────────────────────────────────────────────────────────────────────╮\n",
       "│ Calling tool: 'web_search' with arguments: {'query': 'structure of a comprehensive preparatory survey           │\n",
       "│ guidelines professional organizations industry standards official documents PDF google scholar'}                │\n",
       "╰─────────────────────────────────────────────────────────────────────────────────────────────────────────────────╯\n",
       "</pre>\n"
      ],
      "text/plain": [
       "╭─────────────────────────────────────────────────────────────────────────────────────────────────────────────────╮\n",
       "│ Calling tool: 'web_search' with arguments: {'query': 'structure of a comprehensive preparatory survey           │\n",
       "│ guidelines professional organizations industry standards official documents PDF google scholar'}                │\n",
       "╰─────────────────────────────────────────────────────────────────────────────────────────────────────────────────╯\n"
      ]
     },
     "metadata": {},
     "output_type": "display_data"
    },
    {
     "data": {
      "text/html": [
       "<pre style=\"white-space:pre;overflow-x:auto;line-height:normal;font-family:Menlo,'DejaVu Sans Mono',consolas,'Courier New',monospace\"><span style=\"color: #800000; text-decoration-color: #800000; font-weight: bold\">Error whene executing tool web_search with arguments {</span><span style=\"color: #800000; text-decoration-color: #800000; font-weight: bold\">'query'</span><span style=\"color: #800000; text-decoration-color: #800000; font-weight: bold\">: </span><span style=\"color: #800000; text-decoration-color: #800000; font-weight: bold\">'structure of a comprehensive preparatory survey </span>\n",
       "<span style=\"color: #800000; text-decoration-color: #800000; font-weight: bold\">guidelines professional organizations industry standards official documents PDF google scholar'</span><span style=\"color: #800000; text-decoration-color: #800000; font-weight: bold\">}: </span>\n",
       "<span style=\"color: #800000; text-decoration-color: #800000; font-weight: bold\">DuckDuckGoSearchException: </span><span style=\"color: #800000; text-decoration-color: #800000; font-weight: bold; text-decoration: underline\">https://html.duckduckgo.com/html</span><span style=\"color: #800000; text-decoration-color: #800000; font-weight: bold\"> RuntimeError: error sending request for url </span>\n",
       "<span style=\"color: #800000; text-decoration-color: #800000; font-weight: bold\">(</span><span style=\"color: #800000; text-decoration-color: #800000; font-weight: bold; text-decoration: underline\">https://html.duckduckgo.com/html):</span><span style=\"color: #800000; text-decoration-color: #800000; font-weight: bold\"> client error (Connect)</span>\n",
       "\n",
       "<span style=\"color: #800000; text-decoration-color: #800000; font-weight: bold\">Caused by:</span>\n",
       "<span style=\"color: #800000; text-decoration-color: #800000; font-weight: bold\">    </span><span style=\"color: #800000; text-decoration-color: #800000; font-weight: bold\">0</span><span style=\"color: #800000; text-decoration-color: #800000; font-weight: bold\">: client error (Connect)</span>\n",
       "<span style=\"color: #800000; text-decoration-color: #800000; font-weight: bold\">    </span><span style=\"color: #800000; text-decoration-color: #800000; font-weight: bold\">1</span><span style=\"color: #800000; text-decoration-color: #800000; font-weight: bold\">: tcp connect error: Connection refused (os error </span><span style=\"color: #800000; text-decoration-color: #800000; font-weight: bold\">111</span><span style=\"color: #800000; text-decoration-color: #800000; font-weight: bold\">)</span>\n",
       "<span style=\"color: #800000; text-decoration-color: #800000; font-weight: bold\">    </span><span style=\"color: #800000; text-decoration-color: #800000; font-weight: bold\">2</span><span style=\"color: #800000; text-decoration-color: #800000; font-weight: bold\">: Connection refused (os error </span><span style=\"color: #800000; text-decoration-color: #800000; font-weight: bold\">111</span><span style=\"color: #800000; text-decoration-color: #800000; font-weight: bold\">)</span>\n",
       "<span style=\"color: #800000; text-decoration-color: #800000; font-weight: bold\">You should only use this tool with a correct input.</span>\n",
       "<span style=\"color: #800000; text-decoration-color: #800000; font-weight: bold\">As a reminder, this tool's description is the following: </span><span style=\"color: #800000; text-decoration-color: #800000; font-weight: bold\">'Performs a duckduckgo web search based on your query </span>\n",
       "<span style=\"color: #800000; text-decoration-color: #800000; font-weight: bold\">(think a Google search) then returns the top search results.'</span><span style=\"color: #800000; text-decoration-color: #800000; font-weight: bold\">.</span>\n",
       "<span style=\"color: #800000; text-decoration-color: #800000; font-weight: bold\">It takes inputs: {</span><span style=\"color: #800000; text-decoration-color: #800000; font-weight: bold\">'query'</span><span style=\"color: #800000; text-decoration-color: #800000; font-weight: bold\">: {</span><span style=\"color: #800000; text-decoration-color: #800000; font-weight: bold\">'type'</span><span style=\"color: #800000; text-decoration-color: #800000; font-weight: bold\">: </span><span style=\"color: #800000; text-decoration-color: #800000; font-weight: bold\">'string'</span><span style=\"color: #800000; text-decoration-color: #800000; font-weight: bold\">, </span><span style=\"color: #800000; text-decoration-color: #800000; font-weight: bold\">'description'</span><span style=\"color: #800000; text-decoration-color: #800000; font-weight: bold\">: </span><span style=\"color: #800000; text-decoration-color: #800000; font-weight: bold\">'The search query to perform.'</span><span style=\"color: #800000; text-decoration-color: #800000; font-weight: bold\">}} and returns output </span>\n",
       "<span style=\"color: #800000; text-decoration-color: #800000; font-weight: bold\">type string</span>\n",
       "</pre>\n"
      ],
      "text/plain": [
       "\u001b[1;31mError whene executing tool web_search with arguments \u001b[0m\u001b[1;31m{\u001b[0m\u001b[1;31m'query'\u001b[0m\u001b[1;31m: \u001b[0m\u001b[1;31m'structure of a comprehensive preparatory survey \u001b[0m\n",
       "\u001b[1;31mguidelines professional organizations industry standards official documents PDF google scholar'\u001b[0m\u001b[1;31m}\u001b[0m\u001b[1;31m: \u001b[0m\n",
       "\u001b[1;31mDuckDuckGoSearchException: \u001b[0m\u001b[1;4;31mhttps://html.duckduckgo.com/html\u001b[0m\u001b[1;31m RuntimeError: error sending request for url \u001b[0m\n",
       "\u001b[1;31m(\u001b[0m\u001b[1;4;31mhttps://html.duckduckgo.com/html\u001b[0m\u001b[1;4;31m)\u001b[0m\u001b[1;4;31m:\u001b[0m\u001b[1;31m client error \u001b[0m\u001b[1;31m(\u001b[0m\u001b[1;31mConnect\u001b[0m\u001b[1;31m)\u001b[0m\n",
       "\n",
       "\u001b[1;31mCaused by:\u001b[0m\n",
       "\u001b[1;31m    \u001b[0m\u001b[1;31m0\u001b[0m\u001b[1;31m: client error \u001b[0m\u001b[1;31m(\u001b[0m\u001b[1;31mConnect\u001b[0m\u001b[1;31m)\u001b[0m\n",
       "\u001b[1;31m    \u001b[0m\u001b[1;31m1\u001b[0m\u001b[1;31m: tcp connect error: Connection refused \u001b[0m\u001b[1;31m(\u001b[0m\u001b[1;31mos error \u001b[0m\u001b[1;31m111\u001b[0m\u001b[1;31m)\u001b[0m\n",
       "\u001b[1;31m    \u001b[0m\u001b[1;31m2\u001b[0m\u001b[1;31m: Connection refused \u001b[0m\u001b[1;31m(\u001b[0m\u001b[1;31mos error \u001b[0m\u001b[1;31m111\u001b[0m\u001b[1;31m)\u001b[0m\n",
       "\u001b[1;31mYou should only use this tool with a correct input.\u001b[0m\n",
       "\u001b[1;31mAs a reminder, this tool's description is the following: \u001b[0m\u001b[1;31m'Performs a duckduckgo web search based on your query \u001b[0m\n",
       "\u001b[1;31m(\u001b[0m\u001b[1;31mthink a Google search\u001b[0m\u001b[1;31m)\u001b[0m\u001b[1;31m then returns the top search results.'\u001b[0m\u001b[1;31m.\u001b[0m\n",
       "\u001b[1;31mIt takes inputs: \u001b[0m\u001b[1;31m{\u001b[0m\u001b[1;31m'query'\u001b[0m\u001b[1;31m: \u001b[0m\u001b[1;31m{\u001b[0m\u001b[1;31m'type'\u001b[0m\u001b[1;31m: \u001b[0m\u001b[1;31m'string'\u001b[0m\u001b[1;31m, \u001b[0m\u001b[1;31m'description'\u001b[0m\u001b[1;31m: \u001b[0m\u001b[1;31m'The search query to perform.'\u001b[0m\u001b[1;31m}\u001b[0m\u001b[1;31m}\u001b[0m\u001b[1;31m and returns output \u001b[0m\n",
       "\u001b[1;31mtype string\u001b[0m\n"
      ]
     },
     "metadata": {},
     "output_type": "display_data"
    },
    {
     "data": {
      "text/html": [
       "<pre style=\"white-space:pre;overflow-x:auto;line-height:normal;font-family:Menlo,'DejaVu Sans Mono',consolas,'Courier New',monospace\"><span style=\"color: #7f7f7f; text-decoration-color: #7f7f7f\">[Step 4: Duration 33.98 seconds| Input tokens: 12,209 | Output tokens: 120]</span>\n",
       "</pre>\n"
      ],
      "text/plain": [
       "\u001b[2m[Step 4: Duration 33.98 seconds| Input tokens: 12,209 | Output tokens: 120]\u001b[0m\n"
      ]
     },
     "metadata": {},
     "output_type": "display_data"
    },
    {
     "data": {
      "text/html": [
       "<pre style=\"white-space:pre;overflow-x:auto;line-height:normal;font-family:Menlo,'DejaVu Sans Mono',consolas,'Courier New',monospace\"><span style=\"color: #d4b702; text-decoration-color: #d4b702\">━━━━━━━━━━━━━━━━━━━━━━━━━━━━━━━━━━━━━━━━━━━━━━━━━━━━━ </span><span style=\"font-weight: bold\">Step </span><span style=\"color: #008080; text-decoration-color: #008080; font-weight: bold\">6</span><span style=\"color: #d4b702; text-decoration-color: #d4b702\"> ━━━━━━━━━━━━━━━━━━━━━━━━━━━━━━━━━━━━━━━━━━━━━━━━━━━━━━</span>\n",
       "</pre>\n"
      ],
      "text/plain": [
       "\u001b[38;2;212;183;2m━━━━━━━━━━━━━━━━━━━━━━━━━━━━━━━━━━━━━━━━━━━━━━━━━━━━━ \u001b[0m\u001b[1mStep \u001b[0m\u001b[1;36m6\u001b[0m\u001b[38;2;212;183;2m ━━━━━━━━━━━━━━━━━━━━━━━━━━━━━━━━━━━━━━━━━━━━━━━━━━━━━━\u001b[0m\n"
      ]
     },
     "metadata": {},
     "output_type": "display_data"
    },
    {
     "data": {
      "text/html": [
       "<pre style=\"white-space:pre;overflow-x:auto;line-height:normal;font-family:Menlo,'DejaVu Sans Mono',consolas,'Courier New',monospace\">╭─────────────────────────────────────────────────────────────────────────────────────────────────────────────────╮\n",
       "│ Calling tool: 'web_search' with arguments: {'query': 'structure of a comprehensive preparatory survey           │\n",
       "│ guidelines professional organizations industry standards official documents PDF academic sources'}              │\n",
       "╰─────────────────────────────────────────────────────────────────────────────────────────────────────────────────╯\n",
       "</pre>\n"
      ],
      "text/plain": [
       "╭─────────────────────────────────────────────────────────────────────────────────────────────────────────────────╮\n",
       "│ Calling tool: 'web_search' with arguments: {'query': 'structure of a comprehensive preparatory survey           │\n",
       "│ guidelines professional organizations industry standards official documents PDF academic sources'}              │\n",
       "╰─────────────────────────────────────────────────────────────────────────────────────────────────────────────────╯\n"
      ]
     },
     "metadata": {},
     "output_type": "display_data"
    },
    {
     "data": {
      "text/html": [
       "<pre style=\"white-space:pre;overflow-x:auto;line-height:normal;font-family:Menlo,'DejaVu Sans Mono',consolas,'Courier New',monospace\"><span style=\"color: #800000; text-decoration-color: #800000; font-weight: bold\">Error whene executing tool web_search with arguments {</span><span style=\"color: #800000; text-decoration-color: #800000; font-weight: bold\">'query'</span><span style=\"color: #800000; text-decoration-color: #800000; font-weight: bold\">: </span><span style=\"color: #800000; text-decoration-color: #800000; font-weight: bold\">'structure of a comprehensive preparatory survey </span>\n",
       "<span style=\"color: #800000; text-decoration-color: #800000; font-weight: bold\">guidelines professional organizations industry standards official documents PDF academic sources'</span><span style=\"color: #800000; text-decoration-color: #800000; font-weight: bold\">}: </span>\n",
       "<span style=\"color: #800000; text-decoration-color: #800000; font-weight: bold\">DuckDuckGoSearchException: </span><span style=\"color: #800000; text-decoration-color: #800000; font-weight: bold; text-decoration: underline\">https://lite.duckduckgo.com/lite/</span><span style=\"color: #800000; text-decoration-color: #800000; font-weight: bold\"> RuntimeError: error sending request for url </span>\n",
       "<span style=\"color: #800000; text-decoration-color: #800000; font-weight: bold\">(</span><span style=\"color: #800000; text-decoration-color: #800000; font-weight: bold; text-decoration: underline\">https://lite.duckduckgo.com/lite/):</span><span style=\"color: #800000; text-decoration-color: #800000; font-weight: bold\"> client error (Connect)</span>\n",
       "\n",
       "<span style=\"color: #800000; text-decoration-color: #800000; font-weight: bold\">Caused by:</span>\n",
       "<span style=\"color: #800000; text-decoration-color: #800000; font-weight: bold\">    </span><span style=\"color: #800000; text-decoration-color: #800000; font-weight: bold\">0</span><span style=\"color: #800000; text-decoration-color: #800000; font-weight: bold\">: client error (Connect)</span>\n",
       "<span style=\"color: #800000; text-decoration-color: #800000; font-weight: bold\">    </span><span style=\"color: #800000; text-decoration-color: #800000; font-weight: bold\">1</span><span style=\"color: #800000; text-decoration-color: #800000; font-weight: bold\">: tcp connect error: Connection refused (os error </span><span style=\"color: #800000; text-decoration-color: #800000; font-weight: bold\">111</span><span style=\"color: #800000; text-decoration-color: #800000; font-weight: bold\">)</span>\n",
       "<span style=\"color: #800000; text-decoration-color: #800000; font-weight: bold\">    </span><span style=\"color: #800000; text-decoration-color: #800000; font-weight: bold\">2</span><span style=\"color: #800000; text-decoration-color: #800000; font-weight: bold\">: Connection refused (os error </span><span style=\"color: #800000; text-decoration-color: #800000; font-weight: bold\">111</span><span style=\"color: #800000; text-decoration-color: #800000; font-weight: bold\">)</span>\n",
       "<span style=\"color: #800000; text-decoration-color: #800000; font-weight: bold\">You should only use this tool with a correct input.</span>\n",
       "<span style=\"color: #800000; text-decoration-color: #800000; font-weight: bold\">As a reminder, this tool's description is the following: </span><span style=\"color: #800000; text-decoration-color: #800000; font-weight: bold\">'Performs a duckduckgo web search based on your query </span>\n",
       "<span style=\"color: #800000; text-decoration-color: #800000; font-weight: bold\">(think a Google search) then returns the top search results.'</span><span style=\"color: #800000; text-decoration-color: #800000; font-weight: bold\">.</span>\n",
       "<span style=\"color: #800000; text-decoration-color: #800000; font-weight: bold\">It takes inputs: {</span><span style=\"color: #800000; text-decoration-color: #800000; font-weight: bold\">'query'</span><span style=\"color: #800000; text-decoration-color: #800000; font-weight: bold\">: {</span><span style=\"color: #800000; text-decoration-color: #800000; font-weight: bold\">'type'</span><span style=\"color: #800000; text-decoration-color: #800000; font-weight: bold\">: </span><span style=\"color: #800000; text-decoration-color: #800000; font-weight: bold\">'string'</span><span style=\"color: #800000; text-decoration-color: #800000; font-weight: bold\">, </span><span style=\"color: #800000; text-decoration-color: #800000; font-weight: bold\">'description'</span><span style=\"color: #800000; text-decoration-color: #800000; font-weight: bold\">: </span><span style=\"color: #800000; text-decoration-color: #800000; font-weight: bold\">'The search query to perform.'</span><span style=\"color: #800000; text-decoration-color: #800000; font-weight: bold\">}} and returns output </span>\n",
       "<span style=\"color: #800000; text-decoration-color: #800000; font-weight: bold\">type string</span>\n",
       "</pre>\n"
      ],
      "text/plain": [
       "\u001b[1;31mError whene executing tool web_search with arguments \u001b[0m\u001b[1;31m{\u001b[0m\u001b[1;31m'query'\u001b[0m\u001b[1;31m: \u001b[0m\u001b[1;31m'structure of a comprehensive preparatory survey \u001b[0m\n",
       "\u001b[1;31mguidelines professional organizations industry standards official documents PDF academic sources'\u001b[0m\u001b[1;31m}\u001b[0m\u001b[1;31m: \u001b[0m\n",
       "\u001b[1;31mDuckDuckGoSearchException: \u001b[0m\u001b[1;4;31mhttps://lite.duckduckgo.com/lite/\u001b[0m\u001b[1;31m RuntimeError: error sending request for url \u001b[0m\n",
       "\u001b[1;31m(\u001b[0m\u001b[1;4;31mhttps://lite.duckduckgo.com/lite/\u001b[0m\u001b[1;4;31m)\u001b[0m\u001b[1;4;31m:\u001b[0m\u001b[1;31m client error \u001b[0m\u001b[1;31m(\u001b[0m\u001b[1;31mConnect\u001b[0m\u001b[1;31m)\u001b[0m\n",
       "\n",
       "\u001b[1;31mCaused by:\u001b[0m\n",
       "\u001b[1;31m    \u001b[0m\u001b[1;31m0\u001b[0m\u001b[1;31m: client error \u001b[0m\u001b[1;31m(\u001b[0m\u001b[1;31mConnect\u001b[0m\u001b[1;31m)\u001b[0m\n",
       "\u001b[1;31m    \u001b[0m\u001b[1;31m1\u001b[0m\u001b[1;31m: tcp connect error: Connection refused \u001b[0m\u001b[1;31m(\u001b[0m\u001b[1;31mos error \u001b[0m\u001b[1;31m111\u001b[0m\u001b[1;31m)\u001b[0m\n",
       "\u001b[1;31m    \u001b[0m\u001b[1;31m2\u001b[0m\u001b[1;31m: Connection refused \u001b[0m\u001b[1;31m(\u001b[0m\u001b[1;31mos error \u001b[0m\u001b[1;31m111\u001b[0m\u001b[1;31m)\u001b[0m\n",
       "\u001b[1;31mYou should only use this tool with a correct input.\u001b[0m\n",
       "\u001b[1;31mAs a reminder, this tool's description is the following: \u001b[0m\u001b[1;31m'Performs a duckduckgo web search based on your query \u001b[0m\n",
       "\u001b[1;31m(\u001b[0m\u001b[1;31mthink a Google search\u001b[0m\u001b[1;31m)\u001b[0m\u001b[1;31m then returns the top search results.'\u001b[0m\u001b[1;31m.\u001b[0m\n",
       "\u001b[1;31mIt takes inputs: \u001b[0m\u001b[1;31m{\u001b[0m\u001b[1;31m'query'\u001b[0m\u001b[1;31m: \u001b[0m\u001b[1;31m{\u001b[0m\u001b[1;31m'type'\u001b[0m\u001b[1;31m: \u001b[0m\u001b[1;31m'string'\u001b[0m\u001b[1;31m, \u001b[0m\u001b[1;31m'description'\u001b[0m\u001b[1;31m: \u001b[0m\u001b[1;31m'The search query to perform.'\u001b[0m\u001b[1;31m}\u001b[0m\u001b[1;31m}\u001b[0m\u001b[1;31m and returns output \u001b[0m\n",
       "\u001b[1;31mtype string\u001b[0m\n"
      ]
     },
     "metadata": {},
     "output_type": "display_data"
    },
    {
     "data": {
      "text/html": [
       "<pre style=\"white-space:pre;overflow-x:auto;line-height:normal;font-family:Menlo,'DejaVu Sans Mono',consolas,'Courier New',monospace\"><span style=\"color: #7f7f7f; text-decoration-color: #7f7f7f\">[Step 5: Duration 33.02 seconds| Input tokens: 15,736 | Output tokens: 155]</span>\n",
       "</pre>\n"
      ],
      "text/plain": [
       "\u001b[2m[Step 5: Duration 33.02 seconds| Input tokens: 15,736 | Output tokens: 155]\u001b[0m\n"
      ]
     },
     "metadata": {},
     "output_type": "display_data"
    },
    {
     "data": {
      "text/html": [
       "<pre style=\"white-space:pre;overflow-x:auto;line-height:normal;font-family:Menlo,'DejaVu Sans Mono',consolas,'Courier New',monospace\"><span style=\"color: #d4b702; text-decoration-color: #d4b702\">━━━━━━━━━━━━━━━━━━━━━━━━━━━━━━━━━━━━━━━━━━━━━━━━━━━━━ </span><span style=\"font-weight: bold\">Step </span><span style=\"color: #008080; text-decoration-color: #008080; font-weight: bold\">7</span><span style=\"color: #d4b702; text-decoration-color: #d4b702\"> ━━━━━━━━━━━━━━━━━━━━━━━━━━━━━━━━━━━━━━━━━━━━━━━━━━━━━━</span>\n",
       "</pre>\n"
      ],
      "text/plain": [
       "\u001b[38;2;212;183;2m━━━━━━━━━━━━━━━━━━━━━━━━━━━━━━━━━━━━━━━━━━━━━━━━━━━━━ \u001b[0m\u001b[1mStep \u001b[0m\u001b[1;36m7\u001b[0m\u001b[38;2;212;183;2m ━━━━━━━━━━━━━━━━━━━━━━━━━━━━━━━━━━━━━━━━━━━━━━━━━━━━━━\u001b[0m\n"
      ]
     },
     "metadata": {},
     "output_type": "display_data"
    },
    {
     "data": {
      "text/html": [
       "<pre style=\"white-space:pre;overflow-x:auto;line-height:normal;font-family:Menlo,'DejaVu Sans Mono',consolas,'Courier New',monospace\">╭─────────────────────────────────────────────────────────────────────────────────────────────────────────────────╮\n",
       "│ Calling tool: 'final_answer' with arguments: {'answer': '### 1. Task outcome (short version):\\nFailed to        │\n",
       "│ retrieve specific guidelines on the structure of a comprehensive preparatory survey from professional           │\n",
       "│ organizations or industry standards documents due to persistent connection errors with the search tool.\\n\\n###  │\n",
       "│ 2. Task outcome (extremely detailed version):\\nThe task aimed to gather structured guidelines on how to conduct │\n",
       "│ a comprehensive preparatory survey by consulting official documents and industry standards from relevant        │\n",
       "│ professional organizations. Multiple attempts were made using the web_search tool with various queries          │\n",
       "│ including searching for PDFs and academic sources. However, all attempts resulted in DuckDuckGoSearchException  │\n",
       "│ errors indicating connection issues (Connection refused, os error 111). Despite retrying with different query   │\n",
       "│ variations, no successful search results could be obtained.\\n\\n### 3. Additional context (if relevant):\\nThe    │\n",
       "│ persistent failure to connect to the web_search tool suggests there might be an underlying issue with network   │\n",
       "│ connectivity or access to the service. It is recommended to check the network settings or try a different       │\n",
       "│ internet connection if available. Alternatively, other methods of obtaining the required information, such as   │\n",
       "│ directly visiting known professional organization websites or using alternative search engines via              │\n",
       "│ visit_webpage, could be explored.\\n\\nGiven these challenges, further action is needed to resolve the            │\n",
       "│ connectivity issue before the task can be successfully completed.'}                                             │\n",
       "╰─────────────────────────────────────────────────────────────────────────────────────────────────────────────────╯\n",
       "</pre>\n"
      ],
      "text/plain": [
       "╭─────────────────────────────────────────────────────────────────────────────────────────────────────────────────╮\n",
       "│ Calling tool: 'final_answer' with arguments: {'answer': '### 1. Task outcome (short version):\\nFailed to        │\n",
       "│ retrieve specific guidelines on the structure of a comprehensive preparatory survey from professional           │\n",
       "│ organizations or industry standards documents due to persistent connection errors with the search tool.\\n\\n###  │\n",
       "│ 2. Task outcome (extremely detailed version):\\nThe task aimed to gather structured guidelines on how to conduct │\n",
       "│ a comprehensive preparatory survey by consulting official documents and industry standards from relevant        │\n",
       "│ professional organizations. Multiple attempts were made using the web_search tool with various queries          │\n",
       "│ including searching for PDFs and academic sources. However, all attempts resulted in DuckDuckGoSearchException  │\n",
       "│ errors indicating connection issues (Connection refused, os error 111). Despite retrying with different query   │\n",
       "│ variations, no successful search results could be obtained.\\n\\n### 3. Additional context (if relevant):\\nThe    │\n",
       "│ persistent failure to connect to the web_search tool suggests there might be an underlying issue with network   │\n",
       "│ connectivity or access to the service. It is recommended to check the network settings or try a different       │\n",
       "│ internet connection if available. Alternatively, other methods of obtaining the required information, such as   │\n",
       "│ directly visiting known professional organization websites or using alternative search engines via              │\n",
       "│ visit_webpage, could be explored.\\n\\nGiven these challenges, further action is needed to resolve the            │\n",
       "│ connectivity issue before the task can be successfully completed.'}                                             │\n",
       "╰─────────────────────────────────────────────────────────────────────────────────────────────────────────────────╯\n"
      ]
     },
     "metadata": {},
     "output_type": "display_data"
    },
    {
     "data": {
      "text/html": [
       "<pre style=\"white-space:pre;overflow-x:auto;line-height:normal;font-family:Menlo,'DejaVu Sans Mono',consolas,'Courier New',monospace\"><span style=\"color: #d4b702; text-decoration-color: #d4b702; font-weight: bold\">Final answer: ### 1. Task outcome (short version):</span>\n",
       "<span style=\"color: #d4b702; text-decoration-color: #d4b702; font-weight: bold\">Failed to retrieve specific guidelines on the structure of a comprehensive preparatory survey from professional </span>\n",
       "<span style=\"color: #d4b702; text-decoration-color: #d4b702; font-weight: bold\">organizations or industry standards documents due to persistent connection errors with the search tool.</span>\n",
       "\n",
       "<span style=\"color: #d4b702; text-decoration-color: #d4b702; font-weight: bold\">### 2. Task outcome (extremely detailed version):</span>\n",
       "<span style=\"color: #d4b702; text-decoration-color: #d4b702; font-weight: bold\">The task aimed to gather structured guidelines on how to conduct a comprehensive preparatory survey by consulting </span>\n",
       "<span style=\"color: #d4b702; text-decoration-color: #d4b702; font-weight: bold\">official documents and industry standards from relevant professional organizations. Multiple attempts were made </span>\n",
       "<span style=\"color: #d4b702; text-decoration-color: #d4b702; font-weight: bold\">using the web_search tool with various queries including searching for PDFs and academic sources. However, all </span>\n",
       "<span style=\"color: #d4b702; text-decoration-color: #d4b702; font-weight: bold\">attempts resulted in DuckDuckGoSearchException errors indicating connection issues (Connection refused, os error </span>\n",
       "<span style=\"color: #d4b702; text-decoration-color: #d4b702; font-weight: bold\">111). Despite retrying with different query variations, no successful search results could be obtained.</span>\n",
       "\n",
       "<span style=\"color: #d4b702; text-decoration-color: #d4b702; font-weight: bold\">### 3. Additional context (if relevant):</span>\n",
       "<span style=\"color: #d4b702; text-decoration-color: #d4b702; font-weight: bold\">The persistent failure to connect to the web_search tool suggests there might be an underlying issue with network </span>\n",
       "<span style=\"color: #d4b702; text-decoration-color: #d4b702; font-weight: bold\">connectivity or access to the service. It is recommended to check the network settings or try a different internet </span>\n",
       "<span style=\"color: #d4b702; text-decoration-color: #d4b702; font-weight: bold\">connection if available. Alternatively, other methods of obtaining the required information, such as directly </span>\n",
       "<span style=\"color: #d4b702; text-decoration-color: #d4b702; font-weight: bold\">visiting known professional organization websites or using alternative search engines via visit_webpage, could be </span>\n",
       "<span style=\"color: #d4b702; text-decoration-color: #d4b702; font-weight: bold\">explored.</span>\n",
       "\n",
       "<span style=\"color: #d4b702; text-decoration-color: #d4b702; font-weight: bold\">Given these challenges, further action is needed to resolve the connectivity issue before the task can be </span>\n",
       "<span style=\"color: #d4b702; text-decoration-color: #d4b702; font-weight: bold\">successfully completed.</span>\n",
       "</pre>\n"
      ],
      "text/plain": [
       "\u001b[1;38;2;212;183;2mFinal answer: ### 1. Task outcome (short version):\u001b[0m\n",
       "\u001b[1;38;2;212;183;2mFailed to retrieve specific guidelines on the structure of a comprehensive preparatory survey from professional \u001b[0m\n",
       "\u001b[1;38;2;212;183;2morganizations or industry standards documents due to persistent connection errors with the search tool.\u001b[0m\n",
       "\n",
       "\u001b[1;38;2;212;183;2m### 2. Task outcome (extremely detailed version):\u001b[0m\n",
       "\u001b[1;38;2;212;183;2mThe task aimed to gather structured guidelines on how to conduct a comprehensive preparatory survey by consulting \u001b[0m\n",
       "\u001b[1;38;2;212;183;2mofficial documents and industry standards from relevant professional organizations. Multiple attempts were made \u001b[0m\n",
       "\u001b[1;38;2;212;183;2musing the web_search tool with various queries including searching for PDFs and academic sources. However, all \u001b[0m\n",
       "\u001b[1;38;2;212;183;2mattempts resulted in DuckDuckGoSearchException errors indicating connection issues (Connection refused, os error \u001b[0m\n",
       "\u001b[1;38;2;212;183;2m111). Despite retrying with different query variations, no successful search results could be obtained.\u001b[0m\n",
       "\n",
       "\u001b[1;38;2;212;183;2m### 3. Additional context (if relevant):\u001b[0m\n",
       "\u001b[1;38;2;212;183;2mThe persistent failure to connect to the web_search tool suggests there might be an underlying issue with network \u001b[0m\n",
       "\u001b[1;38;2;212;183;2mconnectivity or access to the service. It is recommended to check the network settings or try a different internet \u001b[0m\n",
       "\u001b[1;38;2;212;183;2mconnection if available. Alternatively, other methods of obtaining the required information, such as directly \u001b[0m\n",
       "\u001b[1;38;2;212;183;2mvisiting known professional organization websites or using alternative search engines via visit_webpage, could be \u001b[0m\n",
       "\u001b[1;38;2;212;183;2mexplored.\u001b[0m\n",
       "\n",
       "\u001b[1;38;2;212;183;2mGiven these challenges, further action is needed to resolve the connectivity issue before the task can be \u001b[0m\n",
       "\u001b[1;38;2;212;183;2msuccessfully completed.\u001b[0m\n"
      ]
     },
     "metadata": {},
     "output_type": "display_data"
    },
    {
     "data": {
      "text/html": [
       "<pre style=\"white-space:pre;overflow-x:auto;line-height:normal;font-family:Menlo,'DejaVu Sans Mono',consolas,'Courier New',monospace\"><span style=\"color: #7f7f7f; text-decoration-color: #7f7f7f\">[Step 6: Duration 8.01 seconds| Input tokens: 19,620 | Output tokens: 429]</span>\n",
       "</pre>\n"
      ],
      "text/plain": [
       "\u001b[2m[Step 6: Duration 8.01 seconds| Input tokens: 19,620 | Output tokens: 429]\u001b[0m\n"
      ]
     },
     "metadata": {},
     "output_type": "display_data"
    },
    {
     "data": {
      "text/html": [
       "<pre style=\"white-space:pre;overflow-x:auto;line-height:normal;font-family:Menlo,'DejaVu Sans Mono',consolas,'Courier New',monospace\"><span style=\"color: #d4b702; text-decoration-color: #d4b702\">╭────────────────────────────────────────────── </span><span style=\"color: #d4b702; text-decoration-color: #d4b702; font-weight: bold\">New run - Web_agent</span><span style=\"color: #d4b702; text-decoration-color: #d4b702\"> ──────────────────────────────────────────────╮</span>\n",
       "<span style=\"color: #d4b702; text-decoration-color: #d4b702\">│</span>                                                                                                                 <span style=\"color: #d4b702; text-decoration-color: #d4b702\">│</span>\n",
       "<span style=\"color: #d4b702; text-decoration-color: #d4b702\">│</span> <span style=\"font-weight: bold\">You're a helpful agent named 'Web_agent'.</span>                                                                       <span style=\"color: #d4b702; text-decoration-color: #d4b702\">│</span>\n",
       "<span style=\"color: #d4b702; text-decoration-color: #d4b702\">│</span> <span style=\"font-weight: bold\">You have been submitted this task by your manager.</span>                                                              <span style=\"color: #d4b702; text-decoration-color: #d4b702\">│</span>\n",
       "<span style=\"color: #d4b702; text-decoration-color: #d4b702\">│</span> <span style=\"font-weight: bold\">---</span>                                                                                                             <span style=\"color: #d4b702; text-decoration-color: #d4b702\">│</span>\n",
       "<span style=\"color: #d4b702; text-decoration-color: #d4b702\">│</span> <span style=\"font-weight: bold\">Task:</span>                                                                                                           <span style=\"color: #d4b702; text-decoration-color: #d4b702\">│</span>\n",
       "<span style=\"color: #d4b702; text-decoration-color: #d4b702\">│</span> <span style=\"font-weight: bold\">Collect information on the types of facts that should be included in a preparatory survey based on best </span>        <span style=\"color: #d4b702; text-decoration-color: #d4b702\">│</span>\n",
       "<span style=\"color: #d4b702; text-decoration-color: #d4b702\">│</span> <span style=\"font-weight: bold\">practices guides and case studies.</span>                                                                              <span style=\"color: #d4b702; text-decoration-color: #d4b702\">│</span>\n",
       "<span style=\"color: #d4b702; text-decoration-color: #d4b702\">│</span> <span style=\"font-weight: bold\">---</span>                                                                                                             <span style=\"color: #d4b702; text-decoration-color: #d4b702\">│</span>\n",
       "<span style=\"color: #d4b702; text-decoration-color: #d4b702\">│</span> <span style=\"font-weight: bold\">You're helping your manager solve a wider task: so make sure to not provide a one-line answer, but give as much</span> <span style=\"color: #d4b702; text-decoration-color: #d4b702\">│</span>\n",
       "<span style=\"color: #d4b702; text-decoration-color: #d4b702\">│</span> <span style=\"font-weight: bold\">information as possible to give them a clear understanding of the answer.</span>                                       <span style=\"color: #d4b702; text-decoration-color: #d4b702\">│</span>\n",
       "<span style=\"color: #d4b702; text-decoration-color: #d4b702\">│</span>                                                                                                                 <span style=\"color: #d4b702; text-decoration-color: #d4b702\">│</span>\n",
       "<span style=\"color: #d4b702; text-decoration-color: #d4b702\">│</span> <span style=\"font-weight: bold\">Your final_answer WILL HAVE to contain these parts:</span>                                                             <span style=\"color: #d4b702; text-decoration-color: #d4b702\">│</span>\n",
       "<span style=\"color: #d4b702; text-decoration-color: #d4b702\">│</span> <span style=\"font-weight: bold\">### 1. Task outcome (short version):</span>                                                                            <span style=\"color: #d4b702; text-decoration-color: #d4b702\">│</span>\n",
       "<span style=\"color: #d4b702; text-decoration-color: #d4b702\">│</span> <span style=\"font-weight: bold\">### 2. Task outcome (extremely detailed version):</span>                                                               <span style=\"color: #d4b702; text-decoration-color: #d4b702\">│</span>\n",
       "<span style=\"color: #d4b702; text-decoration-color: #d4b702\">│</span> <span style=\"font-weight: bold\">### 3. Additional context (if relevant):</span>                                                                        <span style=\"color: #d4b702; text-decoration-color: #d4b702\">│</span>\n",
       "<span style=\"color: #d4b702; text-decoration-color: #d4b702\">│</span>                                                                                                                 <span style=\"color: #d4b702; text-decoration-color: #d4b702\">│</span>\n",
       "<span style=\"color: #d4b702; text-decoration-color: #d4b702\">│</span> <span style=\"font-weight: bold\">Put all these in your final_answer tool, everything that you do not pass as an argument to final_answer will be</span> <span style=\"color: #d4b702; text-decoration-color: #d4b702\">│</span>\n",
       "<span style=\"color: #d4b702; text-decoration-color: #d4b702\">│</span> <span style=\"font-weight: bold\">lost.</span>                                                                                                           <span style=\"color: #d4b702; text-decoration-color: #d4b702\">│</span>\n",
       "<span style=\"color: #d4b702; text-decoration-color: #d4b702\">│</span> <span style=\"font-weight: bold\">And even if your task resolution is not successful, please return as much context as possible, so that your </span>    <span style=\"color: #d4b702; text-decoration-color: #d4b702\">│</span>\n",
       "<span style=\"color: #d4b702; text-decoration-color: #d4b702\">│</span> <span style=\"font-weight: bold\">manager can act upon this feedback.</span>                                                                             <span style=\"color: #d4b702; text-decoration-color: #d4b702\">│</span>\n",
       "<span style=\"color: #d4b702; text-decoration-color: #d4b702\">│</span>                                                                                                                 <span style=\"color: #d4b702; text-decoration-color: #d4b702\">│</span>\n",
       "<span style=\"color: #d4b702; text-decoration-color: #d4b702\">╰─ LiteLLMModel - ollama/qwen2.5-coder:32b ───────────────────────────────────────────────────────────────────────╯</span>\n",
       "</pre>\n"
      ],
      "text/plain": [
       "\u001b[38;2;212;183;2m╭─\u001b[0m\u001b[38;2;212;183;2m─────────────────────────────────────────────\u001b[0m\u001b[38;2;212;183;2m \u001b[0m\u001b[1;38;2;212;183;2mNew run - Web_agent\u001b[0m\u001b[38;2;212;183;2m \u001b[0m\u001b[38;2;212;183;2m─────────────────────────────────────────────\u001b[0m\u001b[38;2;212;183;2m─╮\u001b[0m\n",
       "\u001b[38;2;212;183;2m│\u001b[0m                                                                                                                 \u001b[38;2;212;183;2m│\u001b[0m\n",
       "\u001b[38;2;212;183;2m│\u001b[0m \u001b[1mYou're a helpful agent named 'Web_agent'.\u001b[0m                                                                       \u001b[38;2;212;183;2m│\u001b[0m\n",
       "\u001b[38;2;212;183;2m│\u001b[0m \u001b[1mYou have been submitted this task by your manager.\u001b[0m                                                              \u001b[38;2;212;183;2m│\u001b[0m\n",
       "\u001b[38;2;212;183;2m│\u001b[0m \u001b[1m---\u001b[0m                                                                                                             \u001b[38;2;212;183;2m│\u001b[0m\n",
       "\u001b[38;2;212;183;2m│\u001b[0m \u001b[1mTask:\u001b[0m                                                                                                           \u001b[38;2;212;183;2m│\u001b[0m\n",
       "\u001b[38;2;212;183;2m│\u001b[0m \u001b[1mCollect information on the types of facts that should be included in a preparatory survey based on best \u001b[0m        \u001b[38;2;212;183;2m│\u001b[0m\n",
       "\u001b[38;2;212;183;2m│\u001b[0m \u001b[1mpractices guides and case studies.\u001b[0m                                                                              \u001b[38;2;212;183;2m│\u001b[0m\n",
       "\u001b[38;2;212;183;2m│\u001b[0m \u001b[1m---\u001b[0m                                                                                                             \u001b[38;2;212;183;2m│\u001b[0m\n",
       "\u001b[38;2;212;183;2m│\u001b[0m \u001b[1mYou're helping your manager solve a wider task: so make sure to not provide a one-line answer, but give as much\u001b[0m \u001b[38;2;212;183;2m│\u001b[0m\n",
       "\u001b[38;2;212;183;2m│\u001b[0m \u001b[1minformation as possible to give them a clear understanding of the answer.\u001b[0m                                       \u001b[38;2;212;183;2m│\u001b[0m\n",
       "\u001b[38;2;212;183;2m│\u001b[0m                                                                                                                 \u001b[38;2;212;183;2m│\u001b[0m\n",
       "\u001b[38;2;212;183;2m│\u001b[0m \u001b[1mYour final_answer WILL HAVE to contain these parts:\u001b[0m                                                             \u001b[38;2;212;183;2m│\u001b[0m\n",
       "\u001b[38;2;212;183;2m│\u001b[0m \u001b[1m### 1. Task outcome (short version):\u001b[0m                                                                            \u001b[38;2;212;183;2m│\u001b[0m\n",
       "\u001b[38;2;212;183;2m│\u001b[0m \u001b[1m### 2. Task outcome (extremely detailed version):\u001b[0m                                                               \u001b[38;2;212;183;2m│\u001b[0m\n",
       "\u001b[38;2;212;183;2m│\u001b[0m \u001b[1m### 3. Additional context (if relevant):\u001b[0m                                                                        \u001b[38;2;212;183;2m│\u001b[0m\n",
       "\u001b[38;2;212;183;2m│\u001b[0m                                                                                                                 \u001b[38;2;212;183;2m│\u001b[0m\n",
       "\u001b[38;2;212;183;2m│\u001b[0m \u001b[1mPut all these in your final_answer tool, everything that you do not pass as an argument to final_answer will be\u001b[0m \u001b[38;2;212;183;2m│\u001b[0m\n",
       "\u001b[38;2;212;183;2m│\u001b[0m \u001b[1mlost.\u001b[0m                                                                                                           \u001b[38;2;212;183;2m│\u001b[0m\n",
       "\u001b[38;2;212;183;2m│\u001b[0m \u001b[1mAnd even if your task resolution is not successful, please return as much context as possible, so that your \u001b[0m    \u001b[38;2;212;183;2m│\u001b[0m\n",
       "\u001b[38;2;212;183;2m│\u001b[0m \u001b[1mmanager can act upon this feedback.\u001b[0m                                                                             \u001b[38;2;212;183;2m│\u001b[0m\n",
       "\u001b[38;2;212;183;2m│\u001b[0m                                                                                                                 \u001b[38;2;212;183;2m│\u001b[0m\n",
       "\u001b[38;2;212;183;2m╰─\u001b[0m\u001b[38;2;212;183;2m LiteLLMModel - ollama/qwen2.5-coder:32b \u001b[0m\u001b[38;2;212;183;2m──────────────────────────────────────────────────────────────────────\u001b[0m\u001b[38;2;212;183;2m─╯\u001b[0m\n"
      ]
     },
     "metadata": {},
     "output_type": "display_data"
    },
    {
     "data": {
      "text/html": [
       "<pre style=\"white-space:pre;overflow-x:auto;line-height:normal;font-family:Menlo,'DejaVu Sans Mono',consolas,'Courier New',monospace\"><span style=\"color: #d4b702; text-decoration-color: #d4b702\">━━━━━━━━━━━━━━━━━━━━━━━━━━━━━━━━━━━━━━━━━━━━━━━━━━━━━ </span><span style=\"font-weight: bold\">Step </span><span style=\"color: #008080; text-decoration-color: #008080; font-weight: bold\">1</span><span style=\"color: #d4b702; text-decoration-color: #d4b702\"> ━━━━━━━━━━━━━━━━━━━━━━━━━━━━━━━━━━━━━━━━━━━━━━━━━━━━━━</span>\n",
       "</pre>\n"
      ],
      "text/plain": [
       "\u001b[38;2;212;183;2m━━━━━━━━━━━━━━━━━━━━━━━━━━━━━━━━━━━━━━━━━━━━━━━━━━━━━ \u001b[0m\u001b[1mStep \u001b[0m\u001b[1;36m1\u001b[0m\u001b[38;2;212;183;2m ━━━━━━━━━━━━━━━━━━━━━━━━━━━━━━━━━━━━━━━━━━━━━━━━━━━━━━\u001b[0m\n"
      ]
     },
     "metadata": {},
     "output_type": "display_data"
    },
    {
     "data": {
      "text/html": [
       "<pre style=\"white-space:pre;overflow-x:auto;line-height:normal;font-family:Menlo,'DejaVu Sans Mono',consolas,'Courier New',monospace\">╭─────────────────────────────────────────────────────────────────────────────────────────────────────────────────╮\n",
       "│ Calling tool: 'web_search' with arguments: {'query': 'best practices for preparatory survey facts'}             │\n",
       "╰─────────────────────────────────────────────────────────────────────────────────────────────────────────────────╯\n",
       "</pre>\n"
      ],
      "text/plain": [
       "╭─────────────────────────────────────────────────────────────────────────────────────────────────────────────────╮\n",
       "│ Calling tool: 'web_search' with arguments: {'query': 'best practices for preparatory survey facts'}             │\n",
       "╰─────────────────────────────────────────────────────────────────────────────────────────────────────────────────╯\n"
      ]
     },
     "metadata": {},
     "output_type": "display_data"
    }
   ],
   "source": [
    "agent_output = manager_agent.run('discuss with others agents')\n",
    "\n",
    "print(\"Final output:\")\n",
    "print(agent_output)"
   ]
  },
  {
   "cell_type": "code",
   "execution_count": null,
   "id": "bf8a1dd0",
   "metadata": {},
   "outputs": [],
   "source": []
  }
 ],
 "metadata": {
  "kernelspec": {
   "display_name": "Python 3",
   "language": "python",
   "name": "python3"
  },
  "language_info": {
   "codemirror_mode": {
    "name": "ipython",
    "version": 3
   },
   "file_extension": ".py",
   "mimetype": "text/x-python",
   "name": "python",
   "nbconvert_exporter": "python",
   "pygments_lexer": "ipython3",
   "version": "3.9.6"
  }
 },
 "nbformat": 4,
 "nbformat_minor": 5
}
